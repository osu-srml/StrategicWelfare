{
 "cells": [
  {
   "cell_type": "code",
   "execution_count": 1,
   "id": "d1ff5000",
   "metadata": {},
   "outputs": [],
   "source": [
    "import torch\n",
    "import numpy as np\n",
    "import random\n",
    "import torch.optim as optim\n",
    "from model import *\n",
    "from algorithms import *\n",
    "from dataset import *\n",
    "from utils import *\n",
    "from tabulate import tabulate\n",
    "from matplotlib import pyplot as plt\n",
    "import csv"
   ]
  },
  {
   "cell_type": "markdown",
   "id": "7f537adf",
   "metadata": {},
   "source": [
    "### Fit ground-truth model h"
   ]
  },
  {
   "cell_type": "markdown",
   "id": "61c25fda",
   "metadata": {},
   "source": [
    "- Improvable: 0,2,4,5,6,7,9,10"
   ]
  },
  {
   "cell_type": "code",
   "execution_count": 2,
   "id": "38bba637",
   "metadata": {},
   "outputs": [
    {
     "data": {
      "text/plain": [
       "Index(['Existing-Account-Status', 'Credit-History', 'Credit-Amount',\n",
       "       'Saving-Account', 'Present-Employment', 'Instalment-Rate', 'Guarantors',\n",
       "       'Residence'],\n",
       "      dtype='object')"
      ]
     },
     "execution_count": 2,
     "metadata": {},
     "output_type": "execute_result"
    }
   ],
   "source": [
    "device = 'cpu'\n",
    "data = GermanDataset(device = device)\n",
    "imp_features = [0,2,4,5,6,7,9,10]\n",
    "data.X_train_.columns[imp_features]"
   ]
  },
  {
   "cell_type": "code",
   "execution_count": 3,
   "id": "23a0ff65",
   "metadata": {},
   "outputs": [
    {
     "name": "stdout",
     "output_type": "stream",
     "text": [
      "tensor([1., 0., 1., 0., 1., 1., 1., 1., 0., 1., 1., 0., 0., 0., 0., 0., 0., 0.,\n",
      "        0., 0.])\n"
     ]
    }
   ],
   "source": [
    "# change ctv in this block\n",
    "ctv = torch.zeros(20)\n",
    "ctv[imp_features] = 1\n",
    "print(ctv)"
   ]
  },
  {
   "cell_type": "code",
   "execution_count": 4,
   "id": "b14dfc43",
   "metadata": {
    "scrolled": true
   },
   "outputs": [
    {
     "name": "stderr",
     "output_type": "stream",
     "text": [
      "Training:   0%|          | 0/50 [00:00<?, ?epochs/s]"
     ]
    },
    {
     "name": "stderr",
     "output_type": "stream",
     "text": [
      "Training: 100%|██████████| 50/50 [00:00<00:00, 167.53epochs/s]\n"
     ]
    },
    {
     "name": "stdout",
     "output_type": "stream",
     "text": [
      "Validation Accuracy of the model: 81.25%\n",
      "Testing Accuracy of the model: 78.50%\n"
     ]
    },
    {
     "name": "stderr",
     "output_type": "stream",
     "text": [
      "Training: 100%|██████████| 50/50 [00:00<00:00, 178.88epochs/s]\n"
     ]
    },
    {
     "name": "stdout",
     "output_type": "stream",
     "text": [
      "Validation Accuracy of the model: 63.75%\n",
      "Testing Accuracy of the model: 77.00%\n"
     ]
    },
    {
     "name": "stderr",
     "output_type": "stream",
     "text": [
      "Training: 100%|██████████| 50/50 [00:00<00:00, 179.64epochs/s]\n"
     ]
    },
    {
     "name": "stdout",
     "output_type": "stream",
     "text": [
      "Validation Accuracy of the model: 72.50%\n",
      "Testing Accuracy of the model: 80.00%\n"
     ]
    },
    {
     "name": "stderr",
     "output_type": "stream",
     "text": [
      "Training: 100%|██████████| 50/50 [00:00<00:00, 178.03epochs/s]\n"
     ]
    },
    {
     "name": "stdout",
     "output_type": "stream",
     "text": [
      "Validation Accuracy of the model: 83.75%\n",
      "Testing Accuracy of the model: 77.00%\n"
     ]
    },
    {
     "name": "stderr",
     "output_type": "stream",
     "text": [
      "Training: 100%|██████████| 50/50 [00:00<00:00, 183.64epochs/s]\n"
     ]
    },
    {
     "name": "stdout",
     "output_type": "stream",
     "text": [
      "Validation Accuracy of the model: 73.75%\n",
      "Testing Accuracy of the model: 77.50%\n"
     ]
    },
    {
     "name": "stderr",
     "output_type": "stream",
     "text": [
      "Training: 100%|██████████| 50/50 [00:00<00:00, 185.57epochs/s]\n"
     ]
    },
    {
     "name": "stdout",
     "output_type": "stream",
     "text": [
      "Validation Accuracy of the model: 81.25%\n",
      "Testing Accuracy of the model: 77.00%\n"
     ]
    },
    {
     "name": "stderr",
     "output_type": "stream",
     "text": [
      "Training: 100%|██████████| 50/50 [00:00<00:00, 184.07epochs/s]"
     ]
    },
    {
     "name": "stdout",
     "output_type": "stream",
     "text": [
      "Validation Accuracy of the model: 73.75%\n",
      "Testing Accuracy of the model: 78.50%\n"
     ]
    },
    {
     "name": "stderr",
     "output_type": "stream",
     "text": [
      "\n"
     ]
    }
   ],
   "source": [
    "test_acc = 0\n",
    "for i in range(7):\n",
    "    np.random.seed(i)\n",
    "    torch.manual_seed(i)\n",
    "    random.seed(i)\n",
    "    h = MLP(20,[10,10,10])\n",
    "    optimizer = optim.Adam(h.parameters(), lr=0.05, weight_decay=1e-4)\n",
    "    device = 'cpu'\n",
    "    batch_size = 64\n",
    "    n_epochs = 50\n",
    "    test_acc += 1/7*trainer_h(h, data, optimizer, device, n_epochs, batch_size)\n"
   ]
  },
  {
   "cell_type": "code",
   "execution_count": null,
   "id": "7df45977",
   "metadata": {},
   "outputs": [],
   "source": [
    "print(f'average model testng accuracy is {test_acc:4.2f}% ')"
   ]
  },
  {
   "cell_type": "markdown",
   "id": "521b55a7",
   "metadata": {},
   "source": [
    "### Hyper parameters selection: Logistic\n"
   ]
  },
  {
   "cell_type": "code",
   "execution_count": 5,
   "id": "8cc68e02",
   "metadata": {},
   "outputs": [],
   "source": [
    "def log_model_runner(dataset, hp, seeds, mode='baseline'):\n",
    "    train, val, test = generate_res()\n",
    "\n",
    "    for i in range(len(seeds)):\n",
    "        print('training seed', seeds[i] ,'started')\n",
    "        random.seed(seeds[i])\n",
    "        np.random.seed(seeds[i])\n",
    "        torch.manual_seed(seeds[i]) \n",
    "\n",
    "        model = logReg(dataset.XZ_train.shape[1])\n",
    "        model = model.to(device)\n",
    "        \n",
    "        lr = hp['learning_rate']\n",
    "        optimizer = optim.Adam(model.parameters(), lr=lr, weight_decay=1e-4)\n",
    "        \n",
    "        if mode == 'baseline':\n",
    "            results = trainer_baselines(\n",
    "                model,\n",
    "                h,\n",
    "                dataset,\n",
    "                optimizer,\n",
    "                device,\n",
    "                n_epochs=hp['n_epochs'],\n",
    "                batch_size=hp['batch_size'], \n",
    "                z_blind=False,\n",
    "                metric=hp['metric'], \n",
    "                lambda_=hp['lambda_'],\n",
    "                delta_effort=hp['delta_effort'],\n",
    "                ctv = ctv\n",
    "            )\n",
    "\n",
    "\n",
    "        else:\n",
    "            results = trainer_new(\n",
    "                model,\n",
    "                h,\n",
    "                dataset,\n",
    "                optimizer,\n",
    "                device,\n",
    "                n_epochs=hp['n_epochs'],\n",
    "                batch_size=hp['batch_size'], \n",
    "                z_blind=False,\n",
    "                delta_effort=hp['delta_effort'],\n",
    "                lambda2_ = hp['lambda2'],\n",
    "                lambda3_ = hp['lambda3'],\n",
    "                ctv = ctv,\n",
    "                add_safe = hp['add_safe']\n",
    "            )      \n",
    "        \n",
    "        append_res(train,results.train_imp_all[-1],results.train_imp_a[-1], results.train_imp_b[-1], results.train_safety[-1],results.train_aw_a[-1], results.train_aw_b[-1],results.train_aw_all[-1],results.train_acc_hist[-1],results.train_ei_hist[-1],results.train_be_hist[-1],results.train_dp_hist[-1],results.train_eo_hist[-1],results.train_eodd_hist[-1])\n",
    "        append_res(val,results.val_imp_all,results.val_imp_a, results.val_imp_b, results.val_safety, results.val_aw_a, results.val_aw_b, results.val_aw_all,results.val_acc, results.val_ei,results.val_be,results.val_dp,results.val_eo,results.val_eodd)\n",
    "        append_res(test,results.test_imp_all,results.test_imp_a, results.test_imp_b, results.test_safety, results.test_aw_a, results.test_aw_b, results.test_aw_all, results.test_acc,results.test_ei,results.test_be,results.test_dp,results.test_eo,results.test_eodd)\n",
    "\n",
    "    res_train = get_res(train)\n",
    "    res_val = get_res(val)\n",
    "    res_test = get_res(test)\n",
    "    print('Training finished for all seeds.')\n",
    "    \n",
    "    return res_train, res_val, res_test\n",
    "\n",
    "\n",
    "\n",
    "def log_hyperparameter_test_imp(dataset, hp_test, seed=[0], mode='new'):\n",
    "    hp = hp_test.copy()\n",
    "    result = []\n",
    "    for i in hp_test['learning_rate']:\n",
    "        for k in hp_test['lambda2']:\n",
    "            for j in hp_test['lambda3']:\n",
    "                c = []\n",
    "                hp['learning_rate'] = i\n",
    "                hp['lambda2'] = k\n",
    "                hp['lambda3'] = j\n",
    "                train, val, _ = log_model_runner(dataset, hp, seeds=seed, mode=mode)\n",
    "                c.append(hp['learning_rate'])\n",
    "                c.append(hp['lambda2'])\n",
    "                c.append(hp['lambda3'])\n",
    "                c.append(train['accuracy_mean'])\n",
    "                c.append(val['accuracy_mean'])\n",
    "                c.append(val['imp_all_mean'])\n",
    "                c.append(val['safety_mean'])\n",
    "                c.append(val['swf_mean'])\n",
    "                c.append(val['aw_all_mean'])\n",
    "                c.append(val['ei_mean'])\n",
    "                c.append(val['be_mean'])\n",
    "                c.append(val['dp_mean'])\n",
    "                c.append(val['eo_mean'])\n",
    "                c.append(val['eodd_mean'])\n",
    "                result.append(c)\n",
    "    print(tabulate(result, headers=['learning_rate', 'lambda2_', 'lambda3_','accuracy_train', 'accuracy_val','imp_all','safety','swf',\n",
    "                                    'aw','ei', 'be', 'dp', 'eo', 'eodd']))\n"
   ]
  },
  {
   "cell_type": "code",
   "execution_count": 27,
   "id": "d62d50c7",
   "metadata": {},
   "outputs": [
    {
     "name": "stdout",
     "output_type": "stream",
     "text": [
      "training seed 0 started\n"
     ]
    },
    {
     "name": "stderr",
     "output_type": "stream",
     "text": [
      "Training:  21%|██        | 21/100 [00:00<00:00, 100.02epochs/s]/Users/tianxie/opt/anaconda3/lib/python3.9/site-packages/numpy/core/fromnumeric.py:3440: RuntimeWarning: Mean of empty slice.\n",
      "  return _methods._mean(a, axis=axis, dtype=dtype,\n",
      "/Users/tianxie/opt/anaconda3/lib/python3.9/site-packages/numpy/core/_methods.py:189: RuntimeWarning: invalid value encountered in double_scalars\n",
      "  ret = ret.dtype.type(ret / rcount)\n",
      "Training: 100%|██████████| 100/100 [00:00<00:00, 128.58epochs/s]\n"
     ]
    },
    {
     "name": "stdout",
     "output_type": "stream",
     "text": [
      "Training finished for all seeds.\n",
      "training seed 0 started\n"
     ]
    },
    {
     "name": "stderr",
     "output_type": "stream",
     "text": [
      "Training: 100%|██████████| 100/100 [00:00<00:00, 135.31epochs/s]\n"
     ]
    },
    {
     "name": "stdout",
     "output_type": "stream",
     "text": [
      "Training finished for all seeds.\n",
      "training seed 0 started\n"
     ]
    },
    {
     "name": "stderr",
     "output_type": "stream",
     "text": [
      "Training: 100%|██████████| 100/100 [00:00<00:00, 137.48epochs/s]\n"
     ]
    },
    {
     "name": "stdout",
     "output_type": "stream",
     "text": [
      "Training finished for all seeds.\n",
      "training seed 0 started\n"
     ]
    },
    {
     "name": "stderr",
     "output_type": "stream",
     "text": [
      "Training: 100%|██████████| 100/100 [00:00<00:00, 136.25epochs/s]\n"
     ]
    },
    {
     "name": "stdout",
     "output_type": "stream",
     "text": [
      "Training finished for all seeds.\n",
      "training seed 0 started\n"
     ]
    },
    {
     "name": "stderr",
     "output_type": "stream",
     "text": [
      "Training: 100%|██████████| 100/100 [00:00<00:00, 138.04epochs/s]\n"
     ]
    },
    {
     "name": "stdout",
     "output_type": "stream",
     "text": [
      "Training finished for all seeds.\n",
      "training seed 0 started\n"
     ]
    },
    {
     "name": "stderr",
     "output_type": "stream",
     "text": [
      "Training: 100%|██████████| 100/100 [00:00<00:00, 128.34epochs/s]\n"
     ]
    },
    {
     "name": "stdout",
     "output_type": "stream",
     "text": [
      "Training finished for all seeds.\n",
      "training seed 0 started\n"
     ]
    },
    {
     "name": "stderr",
     "output_type": "stream",
     "text": [
      "Training: 100%|██████████| 100/100 [00:00<00:00, 140.51epochs/s]\n"
     ]
    },
    {
     "name": "stdout",
     "output_type": "stream",
     "text": [
      "Training finished for all seeds.\n",
      "training seed 0 started\n"
     ]
    },
    {
     "name": "stderr",
     "output_type": "stream",
     "text": [
      "Training: 100%|██████████| 100/100 [00:00<00:00, 140.11epochs/s]\n"
     ]
    },
    {
     "name": "stdout",
     "output_type": "stream",
     "text": [
      "Training finished for all seeds.\n",
      "training seed 0 started\n"
     ]
    },
    {
     "name": "stderr",
     "output_type": "stream",
     "text": [
      "Training: 100%|██████████| 100/100 [00:00<00:00, 135.49epochs/s]\n"
     ]
    },
    {
     "name": "stdout",
     "output_type": "stream",
     "text": [
      "Training finished for all seeds.\n",
      "training seed 0 started\n"
     ]
    },
    {
     "name": "stderr",
     "output_type": "stream",
     "text": [
      "Training: 100%|██████████| 100/100 [00:00<00:00, 140.49epochs/s]\n"
     ]
    },
    {
     "name": "stdout",
     "output_type": "stream",
     "text": [
      "Training finished for all seeds.\n",
      "training seed 0 started\n"
     ]
    },
    {
     "name": "stderr",
     "output_type": "stream",
     "text": [
      "Training: 100%|██████████| 100/100 [00:00<00:00, 140.38epochs/s]\n"
     ]
    },
    {
     "name": "stdout",
     "output_type": "stream",
     "text": [
      "Training finished for all seeds.\n",
      "training seed 0 started\n"
     ]
    },
    {
     "name": "stderr",
     "output_type": "stream",
     "text": [
      "Training: 100%|██████████| 100/100 [00:00<00:00, 140.54epochs/s]"
     ]
    },
    {
     "name": "stdout",
     "output_type": "stream",
     "text": [
      "Training finished for all seeds.\n",
      "  learning_rate    lambda2_    lambda3_    accuracy_train    accuracy_val     imp_all    safety         swf          aw         ei        be        dp          eo       eodd\n",
      "---------------  ----------  ----------  ----------------  --------------  ----------  --------  ----------  ----------  ---------  --------  --------  ----------  ---------\n",
      "          0.001         0           0            0.7              0.725    0.00389438         0  0.00389438  -0.0662208  0.0363636  0.003125  0.009375  0.0083712   0.0083712\n",
      "          0.001         0           0.1          0.703125         0.71875  0.0035653          0  0.0035653   -0.054802   0.25       0.003125  0.00625   0.00884956  0.0138298\n",
      "          0.001         0.1         0            0.698438         0.725    0.00401681         0  0.00401681  -0.0664151  0.0363636  0.003125  0.009375  0.0083712   0.0083712\n",
      "          0.001         0.1         0.1          0.703125         0.71875  0.00365407         0  0.00365407  -0.054952   0.25       0.003125  0.00625   0.00884956  0.0138298\n",
      "          0.01          0           0            0.764062         0.74375  0.0222761          0  0.0222761   -0.0744686  0.138889   0.0125    0.009375  0.00143506  0.130851\n",
      "          0.01          0           0.1          0.760938         0.7375   0.0199639          0  0.0199639   -0.0617585  0.117647   0.015625  0.003125  0.0279837   0.115957\n",
      "          0.01          0.1         0            0.760938         0.74375  0.0235119          0  0.0235119   -0.0762649  0.114286   0.003125  0.01875   0.0162641   0.138298\n",
      "          0.01          0.1         0.1          0.764062         0.7375   0.0206424          0  0.0206424   -0.0622281  0.105263   0.01875   0.00625   0.0461612   0.144681\n",
      "          0.1           0           0            0.757812         0.7375   0.0242363          0  0.0242363   -0.0632764  0          0.01875   0.01875   0.00143506  0.152128\n",
      "          0.1           0           0.1          0.760938         0.75     0.0187214          0  0.0187214   -0.0459454  0          0.00625   0.00625   0.00932791  0.108511\n",
      "          0.1           0.1         0            0.75625          0.725    0.0252448          0  0.0252448   -0.0628761  0          0.01875   0.01875   0.0196125   0.173404\n",
      "          0.1           0.1         0.1          0.760938         0.75     0.0188354          0  0.0188354   -0.0441381  0          0.00625   0.00625   0.00932791  0.108511\n"
     ]
    },
    {
     "name": "stderr",
     "output_type": "stream",
     "text": [
      "\n"
     ]
    }
   ],
   "source": [
    "\n",
    "IMP_hp_test = {}\n",
    "IMP_hp_test['learning_rate'] = [0.001, 0.01, 0.1]\n",
    "IMP_hp_test['lambda2'] = [0,0.1]\n",
    "IMP_hp_test['lambda3'] = [0,0.1]\n",
    "IMP_hp_test['n_epochs'] = 100\n",
    "IMP_hp_test['batch_size'] = 64\n",
    "IMP_hp_test['delta_effort'] = 1\n",
    "IMP_hp_test['add_safe'] = True\n",
    "log_hyperparameter_test_imp(data, IMP_hp_test, seed=[0])"
   ]
  },
  {
   "cell_type": "markdown",
   "id": "fd0fec0a",
   "metadata": {},
   "source": [
    "- According to the table, we choose learning rate = 0.01. \n",
    "\n",
    "- Next we test lambda1, lambda2"
   ]
  },
  {
   "cell_type": "markdown",
   "id": "8424dcee",
   "metadata": {},
   "source": [
    "### Testing the influence of lambda1, lambda2\n",
    "\n",
    "- In this section, we make either lambda1, lambda2 0, and inspect the changes of the other parameter"
   ]
  },
  {
   "cell_type": "code",
   "execution_count": 36,
   "id": "91c01244",
   "metadata": {},
   "outputs": [],
   "source": [
    "def log_effect_result(dataset, hp_test, seed=[0], mode='new', prefix = 'lambda1'):\n",
    "    hp = hp_test.copy()\n",
    "    result = {'lambda2':[],'lambda3':[],'DW':[],'DW_var':[],'IMP':[],'IMP_var':[],'SF':[],'SF_var':[],'AW':[],'AW_var':[], 'SWF':[],'SWF_var':[]}\n",
    "    for i in hp_test['lambda2']:\n",
    "        for k in hp_test['lambda3']:\n",
    "            hp['lambda2'] = i\n",
    "            hp['lambda3'] = k\n",
    "            _,_ ,test = log_model_runner(dataset, hp, seeds=seed, mode=mode)\n",
    "            result['lambda2'].append(i)\n",
    "            result['lambda3'].append(k)\n",
    "            result['DW'].append(test['accuracy_mean'])\n",
    "            result['DW_var'].append(test['accuracy_var'])\n",
    "            result['IMP'].append(test['imp_all_mean'])\n",
    "            result['IMP_var'].append(test['imp_all_var'])\n",
    "            result['SF'].append(test['safety_mean'])\n",
    "            result['SF_var'].append(test['safety_var'])\n",
    "            result['SWF'].append(test['swf_mean'])\n",
    "            result['SWF_var'].append(test['swf_var'])                      \n",
    "            result['AW'].append(test['aw_all_mean'])\n",
    "            result['AW_var'].append(test['aw_all_var'])\n",
    "\n",
    "    # write them into a csv for reuse\n",
    "    with open(f'saved_texts/quad_{prefix}.csv', 'w', newline='') as csv_file:\n",
    "        writer = csv.writer(csv_file)\n",
    "    \n",
    "        # Writing headers\n",
    "        headers = [key for key in result.keys()]\n",
    "        writer.writerow(headers)\n",
    "    \n",
    "        # Writing data\n",
    "        for row in zip(*result.values()):\n",
    "            writer.writerow(row)\n",
    "    return result\n",
    "\n",
    " \n",
    "def plot_effect_test(result, content = 'lambda2', ebar=False, pos = 'best', bb = (0,0)):\n",
    "    \"\"\"\n",
    "    plot the effects of lambda2 or lambda3 only using the testing data\n",
    "    specifically, the plot consists of: 1) DW; 2) SWF = imp_all + min(imp_a, imp_b); 3) AW = aw_all\n",
    "    \"\"\"\n",
    "    \n",
    "    plt.figure(figsize = (3,2.5))\n",
    "\n",
    "    if content == 'lambda2':\n",
    "        x = result['lambda2']\n",
    "        plt.xlabel(r'$\\lambda_1$')\n",
    "    else:\n",
    "        x = result['lambda3']\n",
    "        plt.xlabel(r'$\\lambda_2$')\n",
    "\n",
    "    if not ebar:\n",
    "        plt.plot(x,result['DW'], marker = 'o', color = 'red', label = 'DW')\n",
    "        # plt.plot(x,result['IMP'], marker = 'o', color = 'blue', label = 'IMP')\n",
    "        plt.plot(x,result['SWF'], marker = 'o', color = 'green', label = 'SWF')\n",
    "        # plt.plot(x,result['SF'], marker = 'o', color = 'green', label = 'SF')\n",
    "        plt.plot(x,result['AW'], marker = 'o', color = 'black', label = 'AW')\n",
    "        if bb != (0,0):\n",
    "            plt.legend(handlelength=1,bbox_to_anchor=bb)\n",
    "        else:\n",
    "            plt.legend(handlelength=1,loc = pos)\n",
    "        plt.tight_layout()\n",
    "        plt.savefig(f'saved_plots/german_welfare_vary{content}.pdf')\n",
    "\n",
    "    \n",
    "    else:\n",
    "        plt.errorbar(x,result['DW'], yerr=result['DW_var'],marker = 'o', markersize = 3,color = 'red', label = 'DW')\n",
    "        plt.errorbar(x,result['SWF'], yerr=result['SWF_var'],marker = 'o', markersize = 3,color = 'green', label = 'SWF')\n",
    "        # plt.errorbar(x,result['IMP'], yerr=result['IMP_var'],marker = 'o', color = 'blue', label = 'IMP')\n",
    "        # plt.errorbar(x,result['SF'], yerr=result['SF_var'],marker = 'o', color = 'green', label = 'SF')\n",
    "        plt.errorbar(x,result['AW'], yerr=result['AW_var'],marker = 'o', markersize = 3,color = 'black', label = 'AW')\n",
    "        if bb != (0,0):\n",
    "            plt.legend(handlelength=1,bbox_to_anchor=bb)\n",
    "        else:\n",
    "            plt.legend(handlelength=1,loc = pos)\n",
    "        plt.tight_layout()\n",
    "        plt.savefig(f'saved_plots/ebar_german_welfare_vary{content}.pdf')\n",
    "\n",
    "        "
   ]
  },
  {
   "cell_type": "code",
   "execution_count": 8,
   "id": "67027c5a",
   "metadata": {},
   "outputs": [
    {
     "name": "stdout",
     "output_type": "stream",
     "text": [
      "training seed 0 started\n"
     ]
    },
    {
     "name": "stderr",
     "output_type": "stream",
     "text": [
      "Training:  18%|█▊        | 18/100 [00:00<00:00, 88.48epochs/s]/Users/tianxie/opt/anaconda3/lib/python3.9/site-packages/numpy/core/fromnumeric.py:3440: RuntimeWarning: Mean of empty slice.\n",
      "  return _methods._mean(a, axis=axis, dtype=dtype,\n",
      "/Users/tianxie/opt/anaconda3/lib/python3.9/site-packages/numpy/core/_methods.py:189: RuntimeWarning: invalid value encountered in double_scalars\n",
      "  ret = ret.dtype.type(ret / rcount)\n",
      "Training: 100%|██████████| 100/100 [00:00<00:00, 125.90epochs/s]\n"
     ]
    },
    {
     "name": "stdout",
     "output_type": "stream",
     "text": [
      "training seed 1 started\n"
     ]
    },
    {
     "name": "stderr",
     "output_type": "stream",
     "text": [
      "Training: 100%|██████████| 100/100 [00:00<00:00, 132.07epochs/s]\n"
     ]
    },
    {
     "name": "stdout",
     "output_type": "stream",
     "text": [
      "training seed 2 started\n"
     ]
    },
    {
     "name": "stderr",
     "output_type": "stream",
     "text": [
      "Training: 100%|██████████| 100/100 [00:00<00:00, 129.88epochs/s]\n"
     ]
    },
    {
     "name": "stdout",
     "output_type": "stream",
     "text": [
      "training seed 3 started\n"
     ]
    },
    {
     "name": "stderr",
     "output_type": "stream",
     "text": [
      "Training: 100%|██████████| 100/100 [00:00<00:00, 131.09epochs/s]\n"
     ]
    },
    {
     "name": "stdout",
     "output_type": "stream",
     "text": [
      "training seed 4 started\n"
     ]
    },
    {
     "name": "stderr",
     "output_type": "stream",
     "text": [
      "Training: 100%|██████████| 100/100 [00:00<00:00, 125.39epochs/s]\n"
     ]
    },
    {
     "name": "stdout",
     "output_type": "stream",
     "text": [
      "training seed 5 started\n"
     ]
    },
    {
     "name": "stderr",
     "output_type": "stream",
     "text": [
      "Training: 100%|██████████| 100/100 [00:00<00:00, 126.02epochs/s]\n"
     ]
    },
    {
     "name": "stdout",
     "output_type": "stream",
     "text": [
      "training seed 6 started\n"
     ]
    },
    {
     "name": "stderr",
     "output_type": "stream",
     "text": [
      "Training: 100%|██████████| 100/100 [00:00<00:00, 127.57epochs/s]\n"
     ]
    },
    {
     "name": "stdout",
     "output_type": "stream",
     "text": [
      "Training finished for all seeds.\n",
      "training seed 0 started\n"
     ]
    },
    {
     "name": "stderr",
     "output_type": "stream",
     "text": [
      "Training: 100%|██████████| 100/100 [00:00<00:00, 127.83epochs/s]\n"
     ]
    },
    {
     "name": "stdout",
     "output_type": "stream",
     "text": [
      "training seed 1 started\n"
     ]
    },
    {
     "name": "stderr",
     "output_type": "stream",
     "text": [
      "Training: 100%|██████████| 100/100 [00:00<00:00, 127.98epochs/s]\n"
     ]
    },
    {
     "name": "stdout",
     "output_type": "stream",
     "text": [
      "training seed 2 started\n"
     ]
    },
    {
     "name": "stderr",
     "output_type": "stream",
     "text": [
      "Training: 100%|██████████| 100/100 [00:00<00:00, 134.51epochs/s]\n"
     ]
    },
    {
     "name": "stdout",
     "output_type": "stream",
     "text": [
      "training seed 3 started\n"
     ]
    },
    {
     "name": "stderr",
     "output_type": "stream",
     "text": [
      "Training: 100%|██████████| 100/100 [00:00<00:00, 136.33epochs/s]\n"
     ]
    },
    {
     "name": "stdout",
     "output_type": "stream",
     "text": [
      "training seed 4 started\n"
     ]
    },
    {
     "name": "stderr",
     "output_type": "stream",
     "text": [
      "Training: 100%|██████████| 100/100 [00:00<00:00, 133.37epochs/s]\n"
     ]
    },
    {
     "name": "stdout",
     "output_type": "stream",
     "text": [
      "training seed 5 started\n"
     ]
    },
    {
     "name": "stderr",
     "output_type": "stream",
     "text": [
      "Training: 100%|██████████| 100/100 [00:00<00:00, 132.96epochs/s]\n"
     ]
    },
    {
     "name": "stdout",
     "output_type": "stream",
     "text": [
      "training seed 6 started\n"
     ]
    },
    {
     "name": "stderr",
     "output_type": "stream",
     "text": [
      "Training: 100%|██████████| 100/100 [00:00<00:00, 136.33epochs/s]\n"
     ]
    },
    {
     "name": "stdout",
     "output_type": "stream",
     "text": [
      "Training finished for all seeds.\n",
      "training seed 0 started\n"
     ]
    },
    {
     "name": "stderr",
     "output_type": "stream",
     "text": [
      "Training: 100%|██████████| 100/100 [00:00<00:00, 134.44epochs/s]\n"
     ]
    },
    {
     "name": "stdout",
     "output_type": "stream",
     "text": [
      "training seed 1 started\n"
     ]
    },
    {
     "name": "stderr",
     "output_type": "stream",
     "text": [
      "Training: 100%|██████████| 100/100 [00:00<00:00, 132.26epochs/s]\n"
     ]
    },
    {
     "name": "stdout",
     "output_type": "stream",
     "text": [
      "training seed 2 started\n"
     ]
    },
    {
     "name": "stderr",
     "output_type": "stream",
     "text": [
      "Training: 100%|██████████| 100/100 [00:00<00:00, 135.98epochs/s]\n"
     ]
    },
    {
     "name": "stdout",
     "output_type": "stream",
     "text": [
      "training seed 3 started\n"
     ]
    },
    {
     "name": "stderr",
     "output_type": "stream",
     "text": [
      "Training: 100%|██████████| 100/100 [00:00<00:00, 136.07epochs/s]\n"
     ]
    },
    {
     "name": "stdout",
     "output_type": "stream",
     "text": [
      "training seed 4 started\n"
     ]
    },
    {
     "name": "stderr",
     "output_type": "stream",
     "text": [
      "Training: 100%|██████████| 100/100 [00:00<00:00, 135.32epochs/s]\n"
     ]
    },
    {
     "name": "stdout",
     "output_type": "stream",
     "text": [
      "training seed 5 started\n"
     ]
    },
    {
     "name": "stderr",
     "output_type": "stream",
     "text": [
      "Training: 100%|██████████| 100/100 [00:00<00:00, 133.37epochs/s]\n"
     ]
    },
    {
     "name": "stdout",
     "output_type": "stream",
     "text": [
      "training seed 6 started\n"
     ]
    },
    {
     "name": "stderr",
     "output_type": "stream",
     "text": [
      "Training: 100%|██████████| 100/100 [00:00<00:00, 135.91epochs/s]\n"
     ]
    },
    {
     "name": "stdout",
     "output_type": "stream",
     "text": [
      "Training finished for all seeds.\n",
      "training seed 0 started\n"
     ]
    },
    {
     "name": "stderr",
     "output_type": "stream",
     "text": [
      "Training: 100%|██████████| 100/100 [00:00<00:00, 136.19epochs/s]\n"
     ]
    },
    {
     "name": "stdout",
     "output_type": "stream",
     "text": [
      "training seed 1 started\n"
     ]
    },
    {
     "name": "stderr",
     "output_type": "stream",
     "text": [
      "Training: 100%|██████████| 100/100 [00:00<00:00, 133.11epochs/s]\n"
     ]
    },
    {
     "name": "stdout",
     "output_type": "stream",
     "text": [
      "training seed 2 started\n"
     ]
    },
    {
     "name": "stderr",
     "output_type": "stream",
     "text": [
      "Training: 100%|██████████| 100/100 [00:00<00:00, 133.32epochs/s]\n"
     ]
    },
    {
     "name": "stdout",
     "output_type": "stream",
     "text": [
      "training seed 3 started\n"
     ]
    },
    {
     "name": "stderr",
     "output_type": "stream",
     "text": [
      "Training: 100%|██████████| 100/100 [00:00<00:00, 135.94epochs/s]\n"
     ]
    },
    {
     "name": "stdout",
     "output_type": "stream",
     "text": [
      "training seed 4 started\n"
     ]
    },
    {
     "name": "stderr",
     "output_type": "stream",
     "text": [
      "Training: 100%|██████████| 100/100 [00:00<00:00, 132.00epochs/s]\n"
     ]
    },
    {
     "name": "stdout",
     "output_type": "stream",
     "text": [
      "training seed 5 started\n"
     ]
    },
    {
     "name": "stderr",
     "output_type": "stream",
     "text": [
      "Training: 100%|██████████| 100/100 [00:00<00:00, 136.05epochs/s]\n"
     ]
    },
    {
     "name": "stdout",
     "output_type": "stream",
     "text": [
      "training seed 6 started\n"
     ]
    },
    {
     "name": "stderr",
     "output_type": "stream",
     "text": [
      "Training: 100%|██████████| 100/100 [00:00<00:00, 137.29epochs/s]\n"
     ]
    },
    {
     "name": "stdout",
     "output_type": "stream",
     "text": [
      "Training finished for all seeds.\n",
      "training seed 0 started\n"
     ]
    },
    {
     "name": "stderr",
     "output_type": "stream",
     "text": [
      "Training: 100%|██████████| 100/100 [00:00<00:00, 136.10epochs/s]\n"
     ]
    },
    {
     "name": "stdout",
     "output_type": "stream",
     "text": [
      "training seed 1 started\n"
     ]
    },
    {
     "name": "stderr",
     "output_type": "stream",
     "text": [
      "Training: 100%|██████████| 100/100 [00:00<00:00, 136.07epochs/s]\n"
     ]
    },
    {
     "name": "stdout",
     "output_type": "stream",
     "text": [
      "training seed 2 started\n"
     ]
    },
    {
     "name": "stderr",
     "output_type": "stream",
     "text": [
      "Training: 100%|██████████| 100/100 [00:00<00:00, 136.73epochs/s]\n"
     ]
    },
    {
     "name": "stdout",
     "output_type": "stream",
     "text": [
      "training seed 3 started\n"
     ]
    },
    {
     "name": "stderr",
     "output_type": "stream",
     "text": [
      "Training: 100%|██████████| 100/100 [00:00<00:00, 133.71epochs/s]\n"
     ]
    },
    {
     "name": "stdout",
     "output_type": "stream",
     "text": [
      "training seed 4 started\n"
     ]
    },
    {
     "name": "stderr",
     "output_type": "stream",
     "text": [
      "Training: 100%|██████████| 100/100 [00:00<00:00, 136.10epochs/s]\n"
     ]
    },
    {
     "name": "stdout",
     "output_type": "stream",
     "text": [
      "training seed 5 started\n"
     ]
    },
    {
     "name": "stderr",
     "output_type": "stream",
     "text": [
      "Training: 100%|██████████| 100/100 [00:00<00:00, 136.34epochs/s]\n"
     ]
    },
    {
     "name": "stdout",
     "output_type": "stream",
     "text": [
      "training seed 6 started\n"
     ]
    },
    {
     "name": "stderr",
     "output_type": "stream",
     "text": [
      "Training: 100%|██████████| 100/100 [00:00<00:00, 136.47epochs/s]\n"
     ]
    },
    {
     "name": "stdout",
     "output_type": "stream",
     "text": [
      "Training finished for all seeds.\n",
      "training seed 0 started\n"
     ]
    },
    {
     "name": "stderr",
     "output_type": "stream",
     "text": [
      "Training: 100%|██████████| 100/100 [00:00<00:00, 137.43epochs/s]\n"
     ]
    },
    {
     "name": "stdout",
     "output_type": "stream",
     "text": [
      "training seed 1 started\n"
     ]
    },
    {
     "name": "stderr",
     "output_type": "stream",
     "text": [
      "Training: 100%|██████████| 100/100 [00:00<00:00, 135.09epochs/s]\n"
     ]
    },
    {
     "name": "stdout",
     "output_type": "stream",
     "text": [
      "training seed 2 started\n"
     ]
    },
    {
     "name": "stderr",
     "output_type": "stream",
     "text": [
      "Training: 100%|██████████| 100/100 [00:00<00:00, 133.65epochs/s]\n"
     ]
    },
    {
     "name": "stdout",
     "output_type": "stream",
     "text": [
      "training seed 3 started\n"
     ]
    },
    {
     "name": "stderr",
     "output_type": "stream",
     "text": [
      "Training: 100%|██████████| 100/100 [00:00<00:00, 136.53epochs/s]\n"
     ]
    },
    {
     "name": "stdout",
     "output_type": "stream",
     "text": [
      "training seed 4 started\n"
     ]
    },
    {
     "name": "stderr",
     "output_type": "stream",
     "text": [
      "Training: 100%|██████████| 100/100 [00:00<00:00, 136.85epochs/s]\n"
     ]
    },
    {
     "name": "stdout",
     "output_type": "stream",
     "text": [
      "training seed 5 started\n"
     ]
    },
    {
     "name": "stderr",
     "output_type": "stream",
     "text": [
      "Training: 100%|██████████| 100/100 [00:00<00:00, 136.00epochs/s]\n"
     ]
    },
    {
     "name": "stdout",
     "output_type": "stream",
     "text": [
      "training seed 6 started\n"
     ]
    },
    {
     "name": "stderr",
     "output_type": "stream",
     "text": [
      "Training: 100%|██████████| 100/100 [00:00<00:00, 136.23epochs/s]\n"
     ]
    },
    {
     "name": "stdout",
     "output_type": "stream",
     "text": [
      "Training finished for all seeds.\n",
      "training seed 0 started\n"
     ]
    },
    {
     "name": "stderr",
     "output_type": "stream",
     "text": [
      "Training: 100%|██████████| 100/100 [00:00<00:00, 136.45epochs/s]\n"
     ]
    },
    {
     "name": "stdout",
     "output_type": "stream",
     "text": [
      "training seed 1 started\n"
     ]
    },
    {
     "name": "stderr",
     "output_type": "stream",
     "text": [
      "Training: 100%|██████████| 100/100 [00:00<00:00, 126.93epochs/s]\n"
     ]
    },
    {
     "name": "stdout",
     "output_type": "stream",
     "text": [
      "training seed 2 started\n"
     ]
    },
    {
     "name": "stderr",
     "output_type": "stream",
     "text": [
      "Training: 100%|██████████| 100/100 [00:00<00:00, 118.99epochs/s]\n"
     ]
    },
    {
     "name": "stdout",
     "output_type": "stream",
     "text": [
      "training seed 3 started\n"
     ]
    },
    {
     "name": "stderr",
     "output_type": "stream",
     "text": [
      "Training: 100%|██████████| 100/100 [00:00<00:00, 128.29epochs/s]\n"
     ]
    },
    {
     "name": "stdout",
     "output_type": "stream",
     "text": [
      "training seed 4 started\n"
     ]
    },
    {
     "name": "stderr",
     "output_type": "stream",
     "text": [
      "Training: 100%|██████████| 100/100 [00:00<00:00, 135.73epochs/s]\n"
     ]
    },
    {
     "name": "stdout",
     "output_type": "stream",
     "text": [
      "training seed 5 started\n"
     ]
    },
    {
     "name": "stderr",
     "output_type": "stream",
     "text": [
      "Training: 100%|██████████| 100/100 [00:00<00:00, 136.26epochs/s]\n"
     ]
    },
    {
     "name": "stdout",
     "output_type": "stream",
     "text": [
      "training seed 6 started\n"
     ]
    },
    {
     "name": "stderr",
     "output_type": "stream",
     "text": [
      "Training: 100%|██████████| 100/100 [00:00<00:00, 136.25epochs/s]\n"
     ]
    },
    {
     "name": "stdout",
     "output_type": "stream",
     "text": [
      "Training finished for all seeds.\n",
      "training seed 0 started\n"
     ]
    },
    {
     "name": "stderr",
     "output_type": "stream",
     "text": [
      "Training: 100%|██████████| 100/100 [00:00<00:00, 136.27epochs/s]\n"
     ]
    },
    {
     "name": "stdout",
     "output_type": "stream",
     "text": [
      "training seed 1 started\n"
     ]
    },
    {
     "name": "stderr",
     "output_type": "stream",
     "text": [
      "Training: 100%|██████████| 100/100 [00:00<00:00, 136.32epochs/s]\n"
     ]
    },
    {
     "name": "stdout",
     "output_type": "stream",
     "text": [
      "training seed 2 started\n"
     ]
    },
    {
     "name": "stderr",
     "output_type": "stream",
     "text": [
      "Training: 100%|██████████| 100/100 [00:00<00:00, 133.09epochs/s]\n"
     ]
    },
    {
     "name": "stdout",
     "output_type": "stream",
     "text": [
      "training seed 3 started\n"
     ]
    },
    {
     "name": "stderr",
     "output_type": "stream",
     "text": [
      "Training: 100%|██████████| 100/100 [00:00<00:00, 131.09epochs/s]\n"
     ]
    },
    {
     "name": "stdout",
     "output_type": "stream",
     "text": [
      "training seed 4 started\n"
     ]
    },
    {
     "name": "stderr",
     "output_type": "stream",
     "text": [
      "Training: 100%|██████████| 100/100 [00:00<00:00, 136.07epochs/s]\n"
     ]
    },
    {
     "name": "stdout",
     "output_type": "stream",
     "text": [
      "training seed 5 started\n"
     ]
    },
    {
     "name": "stderr",
     "output_type": "stream",
     "text": [
      "Training: 100%|██████████| 100/100 [00:00<00:00, 137.12epochs/s]\n"
     ]
    },
    {
     "name": "stdout",
     "output_type": "stream",
     "text": [
      "training seed 6 started\n"
     ]
    },
    {
     "name": "stderr",
     "output_type": "stream",
     "text": [
      "Training: 100%|██████████| 100/100 [00:00<00:00, 138.63epochs/s]\n"
     ]
    },
    {
     "name": "stdout",
     "output_type": "stream",
     "text": [
      "Training finished for all seeds.\n",
      "training seed 0 started\n"
     ]
    },
    {
     "name": "stderr",
     "output_type": "stream",
     "text": [
      "Training: 100%|██████████| 100/100 [00:00<00:00, 132.29epochs/s]\n"
     ]
    },
    {
     "name": "stdout",
     "output_type": "stream",
     "text": [
      "training seed 1 started\n"
     ]
    },
    {
     "name": "stderr",
     "output_type": "stream",
     "text": [
      "Training: 100%|██████████| 100/100 [00:00<00:00, 131.35epochs/s]\n"
     ]
    },
    {
     "name": "stdout",
     "output_type": "stream",
     "text": [
      "training seed 2 started\n"
     ]
    },
    {
     "name": "stderr",
     "output_type": "stream",
     "text": [
      "Training: 100%|██████████| 100/100 [00:00<00:00, 131.77epochs/s]\n"
     ]
    },
    {
     "name": "stdout",
     "output_type": "stream",
     "text": [
      "training seed 3 started\n"
     ]
    },
    {
     "name": "stderr",
     "output_type": "stream",
     "text": [
      "Training: 100%|██████████| 100/100 [00:00<00:00, 133.65epochs/s]\n"
     ]
    },
    {
     "name": "stdout",
     "output_type": "stream",
     "text": [
      "training seed 4 started\n"
     ]
    },
    {
     "name": "stderr",
     "output_type": "stream",
     "text": [
      "Training: 100%|██████████| 100/100 [00:00<00:00, 117.73epochs/s]\n"
     ]
    },
    {
     "name": "stdout",
     "output_type": "stream",
     "text": [
      "training seed 5 started\n"
     ]
    },
    {
     "name": "stderr",
     "output_type": "stream",
     "text": [
      "Training: 100%|██████████| 100/100 [00:00<00:00, 133.14epochs/s]\n"
     ]
    },
    {
     "name": "stdout",
     "output_type": "stream",
     "text": [
      "training seed 6 started\n"
     ]
    },
    {
     "name": "stderr",
     "output_type": "stream",
     "text": [
      "Training: 100%|██████████| 100/100 [00:00<00:00, 141.08epochs/s]\n"
     ]
    },
    {
     "name": "stdout",
     "output_type": "stream",
     "text": [
      "Training finished for all seeds.\n",
      "training seed 0 started\n"
     ]
    },
    {
     "name": "stderr",
     "output_type": "stream",
     "text": [
      "Training: 100%|██████████| 100/100 [00:00<00:00, 138.13epochs/s]\n"
     ]
    },
    {
     "name": "stdout",
     "output_type": "stream",
     "text": [
      "training seed 1 started\n"
     ]
    },
    {
     "name": "stderr",
     "output_type": "stream",
     "text": [
      "Training: 100%|██████████| 100/100 [00:00<00:00, 136.40epochs/s]\n"
     ]
    },
    {
     "name": "stdout",
     "output_type": "stream",
     "text": [
      "training seed 2 started\n"
     ]
    },
    {
     "name": "stderr",
     "output_type": "stream",
     "text": [
      "Training: 100%|██████████| 100/100 [00:00<00:00, 128.91epochs/s]\n"
     ]
    },
    {
     "name": "stdout",
     "output_type": "stream",
     "text": [
      "training seed 3 started\n"
     ]
    },
    {
     "name": "stderr",
     "output_type": "stream",
     "text": [
      "Training: 100%|██████████| 100/100 [00:00<00:00, 122.84epochs/s]\n"
     ]
    },
    {
     "name": "stdout",
     "output_type": "stream",
     "text": [
      "training seed 4 started\n"
     ]
    },
    {
     "name": "stderr",
     "output_type": "stream",
     "text": [
      "Training: 100%|██████████| 100/100 [00:00<00:00, 124.68epochs/s]\n"
     ]
    },
    {
     "name": "stdout",
     "output_type": "stream",
     "text": [
      "training seed 5 started\n"
     ]
    },
    {
     "name": "stderr",
     "output_type": "stream",
     "text": [
      "Training: 100%|██████████| 100/100 [00:00<00:00, 135.00epochs/s]\n"
     ]
    },
    {
     "name": "stdout",
     "output_type": "stream",
     "text": [
      "training seed 6 started\n"
     ]
    },
    {
     "name": "stderr",
     "output_type": "stream",
     "text": [
      "Training: 100%|██████████| 100/100 [00:00<00:00, 129.86epochs/s]"
     ]
    },
    {
     "name": "stdout",
     "output_type": "stream",
     "text": [
      "Training finished for all seeds.\n"
     ]
    },
    {
     "name": "stderr",
     "output_type": "stream",
     "text": [
      "\n"
     ]
    }
   ],
   "source": [
    "IMP_hp_test = {}\n",
    "IMP_hp_test['learning_rate'] = 0.01\n",
    "IMP_hp_test['lambda2'] = np.linspace(0,2,5)\n",
    "IMP_hp_test['lambda3'] = [0]\n",
    "IMP_hp_test['n_epochs'] = 100\n",
    "IMP_hp_test['batch_size'] = 64\n",
    "IMP_hp_test['delta_effort'] = 1\n",
    "IMP_hp_test['add_safe'] = True\n",
    "res_l1 = log_effect_result(data, IMP_hp_test, seed=[0,1,2,3,4,5,6], mode='new')\n",
    "\n",
    "IMP_hp_test = {}\n",
    "IMP_hp_test['learning_rate'] = 0.01\n",
    "IMP_hp_test['lambda2'] = [0]\n",
    "IMP_hp_test['lambda3'] = np.linspace(0,2,5)\n",
    "IMP_hp_test['n_epochs'] = 100\n",
    "IMP_hp_test['batch_size'] = 64\n",
    "IMP_hp_test['delta_effort'] = 1\n",
    "IMP_hp_test['add_safe'] = True\n",
    "res_l2 = log_effect_result(data, IMP_hp_test, seed=[0,1,2,3,4,5,6], mode='new',prefix='lambda2')"
   ]
  },
  {
   "cell_type": "code",
   "execution_count": 37,
   "id": "56e9241d",
   "metadata": {},
   "outputs": [
    {
     "data": {
      "image/png": "[encoded data removed]",
      "text/plain": [
       "<Figure size 300x250 with 1 Axes>"
      ]
     },
     "metadata": {},
     "output_type": "display_data"
    }
   ],
   "source": [
    "# plot dw, swf, aw relative to lambda1\n",
    "plot_effect_test(res_l1, ebar=True,bb = (0.4,0.9))"
   ]
  },
  {
   "cell_type": "code",
   "execution_count": 38,
   "id": "3aefbbca",
   "metadata": {},
   "outputs": [
    {
     "data": {
      "image/png": "[encoded data removed]",
      "text/plain": [
       "<Figure size 300x250 with 1 Axes>"
      ]
     },
     "metadata": {},
     "output_type": "display_data"
    }
   ],
   "source": [
    "# plot dw, swf, aw relative to lambda2\n",
    "plot_effect_test(res_l2, content='lambda3',ebar=True,bb=(0.4,0.9))"
   ]
  },
  {
   "cell_type": "markdown",
   "id": "8e020252",
   "metadata": {},
   "source": [
    "- The results show that when other hyper parameters are fixed, increasing either $\\lambda_1, \\lambda_2$ incur expected outcomes\n",
    "\n"
   ]
  },
  {
   "cell_type": "markdown",
   "id": "e83147ff",
   "metadata": {},
   "source": [
    "### Separately testing IMP and SF\n",
    "\n",
    "In this example, it seems that Safety is always gurantted. In this case, we wonder whether improvement is sacrificed if we consider both?"
   ]
  },
  {
   "cell_type": "code",
   "execution_count": 9,
   "id": "4643d0fe",
   "metadata": {},
   "outputs": [
    {
     "name": "stdout",
     "output_type": "stream",
     "text": [
      "training seed 0 started\n"
     ]
    },
    {
     "name": "stderr",
     "output_type": "stream",
     "text": [
      "Training: 100%|██████████| 50/50 [00:00<00:00, 204.98epochs/s]\n"
     ]
    },
    {
     "name": "stdout",
     "output_type": "stream",
     "text": [
      "training seed 1 started\n"
     ]
    },
    {
     "name": "stderr",
     "output_type": "stream",
     "text": [
      "Training: 100%|██████████| 50/50 [00:00<00:00, 164.80epochs/s]\n"
     ]
    },
    {
     "name": "stdout",
     "output_type": "stream",
     "text": [
      "training seed 2 started\n"
     ]
    },
    {
     "name": "stderr",
     "output_type": "stream",
     "text": [
      "Training: 100%|██████████| 50/50 [00:00<00:00, 215.20epochs/s]\n"
     ]
    },
    {
     "name": "stdout",
     "output_type": "stream",
     "text": [
      "training seed 3 started\n"
     ]
    },
    {
     "name": "stderr",
     "output_type": "stream",
     "text": [
      "Training: 100%|██████████| 50/50 [00:00<00:00, 213.28epochs/s]\n"
     ]
    },
    {
     "name": "stdout",
     "output_type": "stream",
     "text": [
      "training seed 4 started\n"
     ]
    },
    {
     "name": "stderr",
     "output_type": "stream",
     "text": [
      "Training: 100%|██████████| 50/50 [00:00<00:00, 190.41epochs/s]\n"
     ]
    },
    {
     "name": "stdout",
     "output_type": "stream",
     "text": [
      "training seed 5 started\n"
     ]
    },
    {
     "name": "stderr",
     "output_type": "stream",
     "text": [
      "Training: 100%|██████████| 50/50 [00:00<00:00, 215.24epochs/s]\n"
     ]
    },
    {
     "name": "stdout",
     "output_type": "stream",
     "text": [
      "training seed 6 started\n"
     ]
    },
    {
     "name": "stderr",
     "output_type": "stream",
     "text": [
      "Training: 100%|██████████| 50/50 [00:00<00:00, 179.69epochs/s]\n"
     ]
    },
    {
     "name": "stdout",
     "output_type": "stream",
     "text": [
      "Training finished for all seeds.\n",
      "training seed 0 started\n"
     ]
    },
    {
     "name": "stderr",
     "output_type": "stream",
     "text": [
      "Training: 100%|██████████| 50/50 [00:00<00:00, 199.71epochs/s]\n"
     ]
    },
    {
     "name": "stdout",
     "output_type": "stream",
     "text": [
      "training seed 1 started\n"
     ]
    },
    {
     "name": "stderr",
     "output_type": "stream",
     "text": [
      "Training: 100%|██████████| 50/50 [00:00<00:00, 205.39epochs/s]\n"
     ]
    },
    {
     "name": "stdout",
     "output_type": "stream",
     "text": [
      "training seed 2 started\n"
     ]
    },
    {
     "name": "stderr",
     "output_type": "stream",
     "text": [
      "Training: 100%|██████████| 50/50 [00:00<00:00, 214.20epochs/s]\n"
     ]
    },
    {
     "name": "stdout",
     "output_type": "stream",
     "text": [
      "training seed 3 started\n"
     ]
    },
    {
     "name": "stderr",
     "output_type": "stream",
     "text": [
      "Training: 100%|██████████| 50/50 [00:00<00:00, 198.67epochs/s]\n"
     ]
    },
    {
     "name": "stdout",
     "output_type": "stream",
     "text": [
      "training seed 4 started\n"
     ]
    },
    {
     "name": "stderr",
     "output_type": "stream",
     "text": [
      "Training: 100%|██████████| 50/50 [00:00<00:00, 207.87epochs/s]\n"
     ]
    },
    {
     "name": "stdout",
     "output_type": "stream",
     "text": [
      "training seed 5 started\n"
     ]
    },
    {
     "name": "stderr",
     "output_type": "stream",
     "text": [
      "Training: 100%|██████████| 50/50 [00:00<00:00, 219.70epochs/s]\n"
     ]
    },
    {
     "name": "stdout",
     "output_type": "stream",
     "text": [
      "training seed 6 started\n"
     ]
    },
    {
     "name": "stderr",
     "output_type": "stream",
     "text": [
      "Training: 100%|██████████| 50/50 [00:00<00:00, 224.21epochs/s]\n"
     ]
    },
    {
     "name": "stdout",
     "output_type": "stream",
     "text": [
      "Training finished for all seeds.\n",
      "training seed 0 started\n"
     ]
    },
    {
     "name": "stderr",
     "output_type": "stream",
     "text": [
      "Training: 100%|██████████| 50/50 [00:00<00:00, 152.78epochs/s]\n"
     ]
    },
    {
     "name": "stdout",
     "output_type": "stream",
     "text": [
      "training seed 1 started\n"
     ]
    },
    {
     "name": "stderr",
     "output_type": "stream",
     "text": [
      "Training: 100%|██████████| 50/50 [00:00<00:00, 198.36epochs/s]\n"
     ]
    },
    {
     "name": "stdout",
     "output_type": "stream",
     "text": [
      "training seed 2 started\n"
     ]
    },
    {
     "name": "stderr",
     "output_type": "stream",
     "text": [
      "Training: 100%|██████████| 50/50 [00:00<00:00, 204.73epochs/s]\n"
     ]
    },
    {
     "name": "stdout",
     "output_type": "stream",
     "text": [
      "training seed 3 started\n"
     ]
    },
    {
     "name": "stderr",
     "output_type": "stream",
     "text": [
      "Training: 100%|██████████| 50/50 [00:00<00:00, 210.36epochs/s]\n"
     ]
    },
    {
     "name": "stdout",
     "output_type": "stream",
     "text": [
      "training seed 4 started\n"
     ]
    },
    {
     "name": "stderr",
     "output_type": "stream",
     "text": [
      "Training: 100%|██████████| 50/50 [00:00<00:00, 210.47epochs/s]\n"
     ]
    },
    {
     "name": "stdout",
     "output_type": "stream",
     "text": [
      "training seed 5 started\n"
     ]
    },
    {
     "name": "stderr",
     "output_type": "stream",
     "text": [
      "Training: 100%|██████████| 50/50 [00:00<00:00, 193.64epochs/s]\n"
     ]
    },
    {
     "name": "stdout",
     "output_type": "stream",
     "text": [
      "training seed 6 started\n"
     ]
    },
    {
     "name": "stderr",
     "output_type": "stream",
     "text": [
      "Training: 100%|██████████| 50/50 [00:00<00:00, 213.62epochs/s]\n"
     ]
    },
    {
     "name": "stdout",
     "output_type": "stream",
     "text": [
      "Training finished for all seeds.\n",
      "training seed 0 started\n"
     ]
    },
    {
     "name": "stderr",
     "output_type": "stream",
     "text": [
      "Training: 100%|██████████| 50/50 [00:00<00:00, 214.12epochs/s]\n"
     ]
    },
    {
     "name": "stdout",
     "output_type": "stream",
     "text": [
      "training seed 1 started\n"
     ]
    },
    {
     "name": "stderr",
     "output_type": "stream",
     "text": [
      "Training: 100%|██████████| 50/50 [00:00<00:00, 218.03epochs/s]\n"
     ]
    },
    {
     "name": "stdout",
     "output_type": "stream",
     "text": [
      "training seed 2 started\n"
     ]
    },
    {
     "name": "stderr",
     "output_type": "stream",
     "text": [
      "Training: 100%|██████████| 50/50 [00:00<00:00, 167.25epochs/s]\n"
     ]
    },
    {
     "name": "stdout",
     "output_type": "stream",
     "text": [
      "training seed 3 started\n"
     ]
    },
    {
     "name": "stderr",
     "output_type": "stream",
     "text": [
      "Training: 100%|██████████| 50/50 [00:00<00:00, 216.93epochs/s]\n"
     ]
    },
    {
     "name": "stdout",
     "output_type": "stream",
     "text": [
      "training seed 4 started\n"
     ]
    },
    {
     "name": "stderr",
     "output_type": "stream",
     "text": [
      "Training: 100%|██████████| 50/50 [00:00<00:00, 215.79epochs/s]\n"
     ]
    },
    {
     "name": "stdout",
     "output_type": "stream",
     "text": [
      "training seed 5 started\n"
     ]
    },
    {
     "name": "stderr",
     "output_type": "stream",
     "text": [
      "Training: 100%|██████████| 50/50 [00:00<00:00, 214.69epochs/s]\n"
     ]
    },
    {
     "name": "stdout",
     "output_type": "stream",
     "text": [
      "training seed 6 started\n"
     ]
    },
    {
     "name": "stderr",
     "output_type": "stream",
     "text": [
      "Training: 100%|██████████| 50/50 [00:00<00:00, 217.51epochs/s]\n"
     ]
    },
    {
     "name": "stdout",
     "output_type": "stream",
     "text": [
      "Training finished for all seeds.\n",
      "training seed 0 started\n"
     ]
    },
    {
     "name": "stderr",
     "output_type": "stream",
     "text": [
      "Training: 100%|██████████| 50/50 [00:00<00:00, 178.42epochs/s]\n"
     ]
    },
    {
     "name": "stdout",
     "output_type": "stream",
     "text": [
      "training seed 1 started\n"
     ]
    },
    {
     "name": "stderr",
     "output_type": "stream",
     "text": [
      "Training: 100%|██████████| 50/50 [00:00<00:00, 216.17epochs/s]\n"
     ]
    },
    {
     "name": "stdout",
     "output_type": "stream",
     "text": [
      "training seed 2 started\n"
     ]
    },
    {
     "name": "stderr",
     "output_type": "stream",
     "text": [
      "Training: 100%|██████████| 50/50 [00:00<00:00, 217.01epochs/s]\n"
     ]
    },
    {
     "name": "stdout",
     "output_type": "stream",
     "text": [
      "training seed 3 started\n"
     ]
    },
    {
     "name": "stderr",
     "output_type": "stream",
     "text": [
      "Training: 100%|██████████| 50/50 [00:00<00:00, 213.66epochs/s]\n"
     ]
    },
    {
     "name": "stdout",
     "output_type": "stream",
     "text": [
      "training seed 4 started\n"
     ]
    },
    {
     "name": "stderr",
     "output_type": "stream",
     "text": [
      "Training: 100%|██████████| 50/50 [00:00<00:00, 214.62epochs/s]\n"
     ]
    },
    {
     "name": "stdout",
     "output_type": "stream",
     "text": [
      "training seed 5 started\n"
     ]
    },
    {
     "name": "stderr",
     "output_type": "stream",
     "text": [
      "Training: 100%|██████████| 50/50 [00:00<00:00, 194.77epochs/s]\n"
     ]
    },
    {
     "name": "stdout",
     "output_type": "stream",
     "text": [
      "training seed 6 started\n"
     ]
    },
    {
     "name": "stderr",
     "output_type": "stream",
     "text": [
      "Training: 100%|██████████| 50/50 [00:00<00:00, 213.92epochs/s]"
     ]
    },
    {
     "name": "stdout",
     "output_type": "stream",
     "text": [
      "Training finished for all seeds.\n"
     ]
    },
    {
     "name": "stderr",
     "output_type": "stream",
     "text": [
      "\n"
     ]
    }
   ],
   "source": [
    "IMP_hp_test = {}\n",
    "IMP_hp_test['learning_rate'] = 0.01\n",
    "IMP_hp_test['lambda2'] = np.linspace(0,2,5)\n",
    "IMP_hp_test['lambda3'] = [0]\n",
    "IMP_hp_test['n_epochs'] = 50\n",
    "IMP_hp_test['batch_size'] = 512\n",
    "IMP_hp_test['delta_effort'] = 1\n",
    "IMP_hp_test['add_safe'] = False\n",
    "res_l3 = log_effect_result(data, IMP_hp_test, seed=[0,1,2,3,4,5,6], mode='new')"
   ]
  },
  {
   "cell_type": "code",
   "execution_count": 13,
   "id": "b2f8dcbc",
   "metadata": {},
   "outputs": [],
   "source": [
    "def plot_imp(res1, res2, ebar=False, pos = 'best', bb = (0,0)):\n",
    "    \"\"\"\n",
    "    plot the effects of lambda2 or lambda3 only using the testing data\n",
    "    specifically, the plot consists of: 1) DW; 2) SWF = imp_all + min(imp_a, imp_b); 3) AW = aw_all\n",
    "    \"\"\"\n",
    "    \n",
    "    plt.figure(figsize = (4,3))\n",
    "\n",
    "    x = res1['lambda2']\n",
    "    plt.xlabel(r'$\\lambda_1$')\n",
    "    plt.ylabel('IMP')\n",
    "\n",
    "    if not ebar:\n",
    "        plt.plot(x,res1['IMP'], marker = 'o', color = 'blue', label = r'$L_{SWF} = L_{IMP} + L_{SF}$')\n",
    "        plt.plot(x,res2['IMP'], marker = 's', color = 'red', label = r'$L_{SWF} = L_{IMP}$')\n",
    "        if bb != (0,0):\n",
    "            plt.legend(handlelength=1,bbox_to_anchor=bb)\n",
    "        else:\n",
    "            plt.legend(handlelength=1,loc = pos)\n",
    "        plt.tight_layout()\n",
    "        plt.savefig(f'saved_plots/german_imp.pdf')\n",
    "\n",
    "    \n",
    "    else:\n",
    "        plt.errorbar(x,res1['IMP'], yerr=res1['IMP_var'],marker = 'o', color = 'blue', label = 'IMP')\n",
    "        plt.errorbar(x,res2['IMP'], yerr=res2['IMP_var'],marker = 's', color = 'red', label = 'SF')\n",
    "        if bb != (0,0):\n",
    "            plt.legend(handlelength=1,bbox_to_anchor=bb)\n",
    "        else:\n",
    "            plt.legend(handlelength=1,loc = pos)\n",
    "        plt.tight_layout()\n",
    "        plt.savefig(f'saved_plots/ebar_german_imp.pdf')\n",
    "\n",
    "\n",
    "def plot_safe(res1, res2, ebar=False, pos = 'best', bb = (0,0)):\n",
    "    \"\"\"\n",
    "    plot the effects of lambda2 or lambda3 only using the testing data\n",
    "    specifically, the plot consists of: 1) DW; 2) SWF = imp_all + min(imp_a, imp_b); 3) AW = aw_all\n",
    "    \"\"\"\n",
    "    \n",
    "    plt.figure(figsize = (4,3))\n",
    "\n",
    "    x = res1['lambda2']\n",
    "    plt.xlabel(r'$\\lambda_1$')\n",
    "    plt.ylabel('SF')\n",
    "\n",
    "    if not ebar:\n",
    "        plt.plot(x,res1['SF'], marker = 'o', color = 'blue', label = r'$L_{SWF} = L_{IMP} + L_{SF}$')\n",
    "        plt.plot(x,res2['SF'], marker = 's', color = 'red', label = r'$L_{SWF} = L_{IMP}$',alpha=0.5)\n",
    "        if bb != (0,0):\n",
    "            plt.legend(handlelength=1,bbox_to_anchor=bb)\n",
    "        else:\n",
    "            plt.legend(handlelength=1,loc = pos)\n",
    "        plt.tight_layout()\n",
    "        plt.savefig(f'saved_plots/german_sf.pdf')\n",
    "\n",
    "    \n",
    "    else:\n",
    "        plt.errorbar(x,res1['SF'], yerr=res1['SF_var'],marker = 'o', color = 'blue', label = 'IMP')\n",
    "        plt.errorbar(x,res2['SF'], yerr=res2['SF_var'],marker = 's', color = 'red', label = 'SF')\n",
    "        if bb != (0,0):\n",
    "            plt.legend(handlelength=1,bbox_to_anchor=bb)\n",
    "        else:\n",
    "            plt.legend(handlelength=1,loc = pos)\n",
    "        plt.tight_layout()\n",
    "        plt.savefig(f'saved_plots/ebar_german_sf.pdf')"
   ]
  },
  {
   "cell_type": "code",
   "execution_count": 15,
   "id": "3d9099d7",
   "metadata": {},
   "outputs": [
    {
     "data": {
      "image/png": "[encoded data removed]",
      "text/plain": [
       "<Figure size 400x300 with 1 Axes>"
      ]
     },
     "metadata": {},
     "output_type": "display_data"
    }
   ],
   "source": [
    "plot_imp(res_l1, res_l3)"
   ]
  },
  {
   "cell_type": "code",
   "execution_count": 16,
   "id": "bdbbf143",
   "metadata": {},
   "outputs": [
    {
     "data": {
      "image/png": "[encoded data removed]",
      "text/plain": [
       "<Figure size 400x300 with 1 Axes>"
      ]
     },
     "metadata": {},
     "output_type": "display_data"
    }
   ],
   "source": [
    "plot_safe(res_l1, res_l3)"
   ]
  },
  {
   "cell_type": "markdown",
   "id": "82c091c1",
   "metadata": {},
   "source": [
    "### Select the best policy $f$ by summing all welfare up"
   ]
  },
  {
   "cell_type": "code",
   "execution_count": 46,
   "id": "8d171a56",
   "metadata": {},
   "outputs": [],
   "source": [
    "def log_best_test(dataset, hp_test, seed=[0], mode='new'):\n",
    "    hp = hp_test.copy()\n",
    "    result = []\n",
    "    for i in hp_test['learning_rate']:\n",
    "        for k in hp_test['lambda2']:\n",
    "            for j in hp_test['lambda3']:\n",
    "                c = []\n",
    "                hp['learning_rate'] = i\n",
    "                hp['lambda2'] = k\n",
    "                hp['lambda3'] = j\n",
    "                train, val, _ = log_model_runner(dataset, hp, seeds=seed, mode=mode)\n",
    "                c.append(hp['learning_rate'])\n",
    "                c.append(hp['lambda2'])\n",
    "                c.append(hp['lambda3'])\n",
    "                c.append(train['accuracy_mean'])\n",
    "                c.append(val['accuracy_mean'])\n",
    "                c.append(val['swf_mean'])\n",
    "                c.append(val['aw_all_mean'])\n",
    "                c.append(val['aw_all_mean'] + val['swf_mean'] + val['accuracy_mean'])\n",
    "                result.append(c)\n",
    "    print(tabulate(result, headers=['learning_rate', 'lambda2_', 'lambda3_','accuracy_train', 'accuracy_val','swf',\n",
    "                                    'aw','total_welfare']))"
   ]
  },
  {
   "cell_type": "code",
   "execution_count": 98,
   "id": "04e6178c",
   "metadata": {},
   "outputs": [
    {
     "name": "stdout",
     "output_type": "stream",
     "text": [
      "training seed 0 started\n"
     ]
    },
    {
     "name": "stderr",
     "output_type": "stream",
     "text": [
      "Training:   0%|          | 0/100 [00:00<?, ?epochs/s]"
     ]
    },
    {
     "name": "stderr",
     "output_type": "stream",
     "text": [
      "Training: 100%|██████████| 100/100 [00:00<00:00, 131.35epochs/s]\n"
     ]
    },
    {
     "name": "stdout",
     "output_type": "stream",
     "text": [
      "Training finished for all seeds.\n",
      "training seed 0 started\n"
     ]
    },
    {
     "name": "stderr",
     "output_type": "stream",
     "text": [
      "Training: 100%|██████████| 100/100 [00:00<00:00, 142.48epochs/s]\n"
     ]
    },
    {
     "name": "stdout",
     "output_type": "stream",
     "text": [
      "Training finished for all seeds.\n",
      "training seed 0 started\n"
     ]
    },
    {
     "name": "stderr",
     "output_type": "stream",
     "text": [
      "Training: 100%|██████████| 100/100 [00:00<00:00, 140.41epochs/s]\n"
     ]
    },
    {
     "name": "stdout",
     "output_type": "stream",
     "text": [
      "Training finished for all seeds.\n",
      "training seed 0 started\n"
     ]
    },
    {
     "name": "stderr",
     "output_type": "stream",
     "text": [
      "Training: 100%|██████████| 100/100 [00:00<00:00, 140.47epochs/s]\n"
     ]
    },
    {
     "name": "stdout",
     "output_type": "stream",
     "text": [
      "Training finished for all seeds.\n",
      "training seed 0 started\n"
     ]
    },
    {
     "name": "stderr",
     "output_type": "stream",
     "text": [
      "Training: 100%|██████████| 100/100 [00:00<00:00, 126.28epochs/s]\n"
     ]
    },
    {
     "name": "stdout",
     "output_type": "stream",
     "text": [
      "Training finished for all seeds.\n",
      "training seed 0 started\n"
     ]
    },
    {
     "name": "stderr",
     "output_type": "stream",
     "text": [
      "Training: 100%|██████████| 100/100 [00:00<00:00, 132.82epochs/s]\n"
     ]
    },
    {
     "name": "stdout",
     "output_type": "stream",
     "text": [
      "Training finished for all seeds.\n",
      "training seed 0 started\n"
     ]
    },
    {
     "name": "stderr",
     "output_type": "stream",
     "text": [
      "Training: 100%|██████████| 100/100 [00:00<00:00, 135.96epochs/s]\n"
     ]
    },
    {
     "name": "stdout",
     "output_type": "stream",
     "text": [
      "Training finished for all seeds.\n",
      "training seed 0 started\n"
     ]
    },
    {
     "name": "stderr",
     "output_type": "stream",
     "text": [
      "Training: 100%|██████████| 100/100 [00:00<00:00, 131.78epochs/s]\n"
     ]
    },
    {
     "name": "stdout",
     "output_type": "stream",
     "text": [
      "Training finished for all seeds.\n",
      "training seed 0 started\n"
     ]
    },
    {
     "name": "stderr",
     "output_type": "stream",
     "text": [
      "Training: 100%|██████████| 100/100 [00:00<00:00, 137.01epochs/s]\n"
     ]
    },
    {
     "name": "stdout",
     "output_type": "stream",
     "text": [
      "Training finished for all seeds.\n",
      "training seed 0 started\n"
     ]
    },
    {
     "name": "stderr",
     "output_type": "stream",
     "text": [
      "Training: 100%|██████████| 100/100 [00:00<00:00, 141.28epochs/s]\n"
     ]
    },
    {
     "name": "stdout",
     "output_type": "stream",
     "text": [
      "Training finished for all seeds.\n",
      "training seed 0 started\n"
     ]
    },
    {
     "name": "stderr",
     "output_type": "stream",
     "text": [
      "Training: 100%|██████████| 100/100 [00:00<00:00, 134.51epochs/s]\n"
     ]
    },
    {
     "name": "stdout",
     "output_type": "stream",
     "text": [
      "Training finished for all seeds.\n",
      "training seed 0 started\n"
     ]
    },
    {
     "name": "stderr",
     "output_type": "stream",
     "text": [
      "Training: 100%|██████████| 100/100 [00:00<00:00, 126.09epochs/s]\n"
     ]
    },
    {
     "name": "stdout",
     "output_type": "stream",
     "text": [
      "Training finished for all seeds.\n",
      "training seed 0 started\n"
     ]
    },
    {
     "name": "stderr",
     "output_type": "stream",
     "text": [
      "Training: 100%|██████████| 100/100 [00:00<00:00, 137.11epochs/s]\n"
     ]
    },
    {
     "name": "stdout",
     "output_type": "stream",
     "text": [
      "Training finished for all seeds.\n",
      "training seed 0 started\n"
     ]
    },
    {
     "name": "stderr",
     "output_type": "stream",
     "text": [
      "Training: 100%|██████████| 100/100 [00:00<00:00, 135.93epochs/s]\n"
     ]
    },
    {
     "name": "stdout",
     "output_type": "stream",
     "text": [
      "Training finished for all seeds.\n",
      "training seed 0 started\n"
     ]
    },
    {
     "name": "stderr",
     "output_type": "stream",
     "text": [
      "Training: 100%|██████████| 100/100 [00:00<00:00, 135.20epochs/s]\n"
     ]
    },
    {
     "name": "stdout",
     "output_type": "stream",
     "text": [
      "Training finished for all seeds.\n",
      "training seed 0 started\n"
     ]
    },
    {
     "name": "stderr",
     "output_type": "stream",
     "text": [
      "Training: 100%|██████████| 100/100 [00:00<00:00, 137.59epochs/s]\n"
     ]
    },
    {
     "name": "stdout",
     "output_type": "stream",
     "text": [
      "Training finished for all seeds.\n",
      "training seed 0 started\n"
     ]
    },
    {
     "name": "stderr",
     "output_type": "stream",
     "text": [
      "Training: 100%|██████████| 100/100 [00:00<00:00, 142.04epochs/s]\n"
     ]
    },
    {
     "name": "stdout",
     "output_type": "stream",
     "text": [
      "Training finished for all seeds.\n",
      "training seed 0 started\n"
     ]
    },
    {
     "name": "stderr",
     "output_type": "stream",
     "text": [
      "Training: 100%|██████████| 100/100 [00:00<00:00, 143.46epochs/s]\n"
     ]
    },
    {
     "name": "stdout",
     "output_type": "stream",
     "text": [
      "Training finished for all seeds.\n",
      "training seed 0 started\n"
     ]
    },
    {
     "name": "stderr",
     "output_type": "stream",
     "text": [
      "Training: 100%|██████████| 100/100 [00:00<00:00, 144.06epochs/s]\n"
     ]
    },
    {
     "name": "stdout",
     "output_type": "stream",
     "text": [
      "Training finished for all seeds.\n",
      "training seed 0 started\n"
     ]
    },
    {
     "name": "stderr",
     "output_type": "stream",
     "text": [
      "Training: 100%|██████████| 100/100 [00:00<00:00, 144.80epochs/s]\n"
     ]
    },
    {
     "name": "stdout",
     "output_type": "stream",
     "text": [
      "Training finished for all seeds.\n",
      "training seed 0 started\n"
     ]
    },
    {
     "name": "stderr",
     "output_type": "stream",
     "text": [
      "Training: 100%|██████████| 100/100 [00:00<00:00, 142.86epochs/s]\n"
     ]
    },
    {
     "name": "stdout",
     "output_type": "stream",
     "text": [
      "Training finished for all seeds.\n",
      "training seed 0 started\n"
     ]
    },
    {
     "name": "stderr",
     "output_type": "stream",
     "text": [
      "Training: 100%|██████████| 100/100 [00:00<00:00, 135.73epochs/s]\n"
     ]
    },
    {
     "name": "stdout",
     "output_type": "stream",
     "text": [
      "Training finished for all seeds.\n",
      "training seed 0 started\n"
     ]
    },
    {
     "name": "stderr",
     "output_type": "stream",
     "text": [
      "Training: 100%|██████████| 100/100 [00:00<00:00, 136.89epochs/s]\n"
     ]
    },
    {
     "name": "stdout",
     "output_type": "stream",
     "text": [
      "Training finished for all seeds.\n",
      "training seed 0 started\n"
     ]
    },
    {
     "name": "stderr",
     "output_type": "stream",
     "text": [
      "Training: 100%|██████████| 100/100 [00:00<00:00, 129.72epochs/s]\n"
     ]
    },
    {
     "name": "stdout",
     "output_type": "stream",
     "text": [
      "Training finished for all seeds.\n",
      "training seed 0 started\n"
     ]
    },
    {
     "name": "stderr",
     "output_type": "stream",
     "text": [
      "Training: 100%|██████████| 100/100 [00:00<00:00, 131.25epochs/s]"
     ]
    },
    {
     "name": "stdout",
     "output_type": "stream",
     "text": [
      "Training finished for all seeds.\n",
      "  learning_rate    lambda2_    lambda3_    accuracy_train    accuracy_val        swf          aw    total_welfare\n",
      "---------------  ----------  ----------  ----------------  --------------  ---------  ----------  ---------------\n",
      "           0.01         0           0            0.764062         0.74375  0.0222761  -0.0744686         0.691558\n",
      "           0.01         0           0.5          0.75             0.73125  0.0180468  -0.0494374         0.699859\n",
      "           0.01         0           1            0.7375           0.7375   0.016712   -0.0443162         0.709896\n",
      "           0.01         0           1.5          0.729688         0.725    0.0145034  -0.0360109         0.703493\n",
      "           0.01         0           2            0.703125         0.70625  0.0094268  -0.0173651         0.698312\n",
      "           0.01         0.5         0            0.760938         0.75     0.0286044  -0.084401          0.694203\n",
      "           0.01         0.5         0.5          0.75             0.73125  0.0195118  -0.0498732         0.700889\n",
      "           0.01         0.5         1            0.751563         0.725    0.0174489  -0.0431966         0.699252\n",
      "           0.01         0.5         1.5          0.728125         0.73125  0.014983   -0.0366067         0.709626\n",
      "           0.01         0.5         2            0.723437         0.71875  0.0129157  -0.03006           0.701606\n",
      "           0.01         1           0            0.759375         0.74375  0.0370681  -0.0976808         0.683137\n",
      "           0.01         1           0.5          0.760938         0.725    0.021587   -0.0535643         0.693023\n",
      "           0.01         1           1            0.75             0.725    0.0183384  -0.0435158         0.699823\n",
      "           0.01         1           1.5          0.721875         0.725    0.0145052  -0.0318591         0.707646\n",
      "           0.01         1           2            0.725            0.71875  0.0142825  -0.0331693         0.699863\n",
      "           0.01         1.5         0            0.757812         0.73125  0.0492635  -0.116122          0.664391\n",
      "           0.01         1.5         0.5          0.764062         0.73125  0.0228432  -0.0552131         0.69888\n",
      "           0.01         1.5         1            0.75             0.73125  0.0187059  -0.0422912         0.707665\n",
      "           0.01         1.5         1.5          0.73125          0.73125  0.0158377  -0.0342814         0.712806\n",
      "           0.01         1.5         2            0.725            0.7125   0.0133262  -0.0302394         0.695587\n",
      "           0.01         2           0            0.734375         0.74375  0.0675823  -0.141487          0.669845\n",
      "           0.01         2           0.5          0.757812         0.725    0.0239701  -0.0574689         0.691501\n",
      "           0.01         2           1            0.75             0.75     0.0200625  -0.0456073         0.724455\n",
      "           0.01         2           1.5          0.73125          0.725    0.0173673  -0.0381212         0.704246\n",
      "           0.01         2           2            0.726562         0.725    0.0147974  -0.0336268         0.706171\n"
     ]
    },
    {
     "name": "stderr",
     "output_type": "stream",
     "text": [
      "\n"
     ]
    }
   ],
   "source": [
    "IMP_hp_test = {}\n",
    "IMP_hp_test['learning_rate'] = [0.01]\n",
    "IMP_hp_test['lambda2'] = np.linspace(0,2,5)\n",
    "IMP_hp_test['lambda3'] = np.linspace(0,2,5)\n",
    "IMP_hp_test['n_epochs'] = 100\n",
    "IMP_hp_test['batch_size'] = 64\n",
    "IMP_hp_test['delta_effort'] = 1\n",
    "IMP_hp_test['add_safe'] = True\n",
    "log_best_test(data, IMP_hp_test, seed=[0,1,2,3,4,5,6])"
   ]
  },
  {
   "cell_type": "markdown",
   "id": "e0623e49",
   "metadata": {},
   "source": [
    "Thus, we finally select learning rate = 0.01, lambda1 = 2, lambda2 = 1 with total welfare = 0.6966"
   ]
  },
  {
   "cell_type": "markdown",
   "id": "85b6d95d",
   "metadata": {},
   "source": [
    "### Compare with other algos"
   ]
  },
  {
   "cell_type": "markdown",
   "id": "0e0e19ef",
   "metadata": {},
   "source": [
    "\n",
    "- StratWelfare: learning rate = 0.01, lambda1 = 0.4, lambda2 = 0.8\n",
    "- Model = ERM, EI, BE, Safe\n",
    "- EI, BE, Safe: lambda_ = 0.1 "
   ]
  },
  {
   "cell_type": "code",
   "execution_count": 6,
   "id": "7d74846d",
   "metadata": {},
   "outputs": [
    {
     "name": "stdout",
     "output_type": "stream",
     "text": [
      "training seed 0 started\n"
     ]
    },
    {
     "name": "stderr",
     "output_type": "stream",
     "text": [
      "Training:   0%|          | 0/100 [00:00<?, ?epochs/s]/Users/tianxie/opt/anaconda3/lib/python3.9/site-packages/numpy/core/fromnumeric.py:3440: RuntimeWarning: Mean of empty slice.\n",
      "  return _methods._mean(a, axis=axis, dtype=dtype,\n",
      "/Users/tianxie/opt/anaconda3/lib/python3.9/site-packages/numpy/core/_methods.py:189: RuntimeWarning: invalid value encountered in double_scalars\n",
      "  ret = ret.dtype.type(ret / rcount)\n",
      "Training: 100%|██████████| 100/100 [00:00<00:00, 217.94epochs/s]\n"
     ]
    },
    {
     "name": "stdout",
     "output_type": "stream",
     "text": [
      "training seed 1 started\n"
     ]
    },
    {
     "name": "stderr",
     "output_type": "stream",
     "text": [
      "Training: 100%|██████████| 100/100 [00:00<00:00, 235.66epochs/s]\n"
     ]
    },
    {
     "name": "stdout",
     "output_type": "stream",
     "text": [
      "training seed 2 started\n"
     ]
    },
    {
     "name": "stderr",
     "output_type": "stream",
     "text": [
      "Training: 100%|██████████| 100/100 [00:00<00:00, 240.83epochs/s]\n"
     ]
    },
    {
     "name": "stdout",
     "output_type": "stream",
     "text": [
      "training seed 3 started\n"
     ]
    },
    {
     "name": "stderr",
     "output_type": "stream",
     "text": [
      "Training: 100%|██████████| 100/100 [00:00<00:00, 237.68epochs/s]\n"
     ]
    },
    {
     "name": "stdout",
     "output_type": "stream",
     "text": [
      "training seed 4 started\n"
     ]
    },
    {
     "name": "stderr",
     "output_type": "stream",
     "text": [
      "Training: 100%|██████████| 100/100 [00:00<00:00, 234.72epochs/s]\n"
     ]
    },
    {
     "name": "stdout",
     "output_type": "stream",
     "text": [
      "training seed 5 started\n"
     ]
    },
    {
     "name": "stderr",
     "output_type": "stream",
     "text": [
      "Training: 100%|██████████| 100/100 [00:00<00:00, 241.17epochs/s]\n"
     ]
    },
    {
     "name": "stdout",
     "output_type": "stream",
     "text": [
      "training seed 6 started\n"
     ]
    },
    {
     "name": "stderr",
     "output_type": "stream",
     "text": [
      "Training: 100%|██████████| 100/100 [00:00<00:00, 230.13epochs/s]\n"
     ]
    },
    {
     "name": "stdout",
     "output_type": "stream",
     "text": [
      "training seed 7 started\n"
     ]
    },
    {
     "name": "stderr",
     "output_type": "stream",
     "text": [
      "Training: 100%|██████████| 100/100 [00:00<00:00, 237.49epochs/s]\n"
     ]
    },
    {
     "name": "stdout",
     "output_type": "stream",
     "text": [
      "training seed 8 started\n"
     ]
    },
    {
     "name": "stderr",
     "output_type": "stream",
     "text": [
      "Training: 100%|██████████| 100/100 [00:00<00:00, 235.57epochs/s]\n"
     ]
    },
    {
     "name": "stdout",
     "output_type": "stream",
     "text": [
      "training seed 9 started\n"
     ]
    },
    {
     "name": "stderr",
     "output_type": "stream",
     "text": [
      "Training: 100%|██████████| 100/100 [00:00<00:00, 235.10epochs/s]\n"
     ]
    },
    {
     "name": "stdout",
     "output_type": "stream",
     "text": [
      "training seed 10 started\n"
     ]
    },
    {
     "name": "stderr",
     "output_type": "stream",
     "text": [
      "Training: 100%|██████████| 100/100 [00:00<00:00, 243.21epochs/s]\n"
     ]
    },
    {
     "name": "stdout",
     "output_type": "stream",
     "text": [
      "training seed 11 started\n"
     ]
    },
    {
     "name": "stderr",
     "output_type": "stream",
     "text": [
      "Training: 100%|██████████| 100/100 [00:00<00:00, 230.95epochs/s]\n"
     ]
    },
    {
     "name": "stdout",
     "output_type": "stream",
     "text": [
      "training seed 12 started\n"
     ]
    },
    {
     "name": "stderr",
     "output_type": "stream",
     "text": [
      "Training: 100%|██████████| 100/100 [00:00<00:00, 229.95epochs/s]\n"
     ]
    },
    {
     "name": "stdout",
     "output_type": "stream",
     "text": [
      "training seed 13 started\n"
     ]
    },
    {
     "name": "stderr",
     "output_type": "stream",
     "text": [
      "Training: 100%|██████████| 100/100 [00:00<00:00, 233.66epochs/s]\n"
     ]
    },
    {
     "name": "stdout",
     "output_type": "stream",
     "text": [
      "training seed 14 started\n"
     ]
    },
    {
     "name": "stderr",
     "output_type": "stream",
     "text": [
      "Training: 100%|██████████| 100/100 [00:00<00:00, 224.67epochs/s]\n"
     ]
    },
    {
     "name": "stdout",
     "output_type": "stream",
     "text": [
      "training seed 15 started\n"
     ]
    },
    {
     "name": "stderr",
     "output_type": "stream",
     "text": [
      "Training: 100%|██████████| 100/100 [00:00<00:00, 227.49epochs/s]\n"
     ]
    },
    {
     "name": "stdout",
     "output_type": "stream",
     "text": [
      "training seed 16 started\n"
     ]
    },
    {
     "name": "stderr",
     "output_type": "stream",
     "text": [
      "Training: 100%|██████████| 100/100 [00:00<00:00, 245.13epochs/s]\n"
     ]
    },
    {
     "name": "stdout",
     "output_type": "stream",
     "text": [
      "training seed 17 started\n"
     ]
    },
    {
     "name": "stderr",
     "output_type": "stream",
     "text": [
      "Training: 100%|██████████| 100/100 [00:00<00:00, 244.93epochs/s]\n"
     ]
    },
    {
     "name": "stdout",
     "output_type": "stream",
     "text": [
      "training seed 18 started\n"
     ]
    },
    {
     "name": "stderr",
     "output_type": "stream",
     "text": [
      "Training: 100%|██████████| 100/100 [00:00<00:00, 243.33epochs/s]\n"
     ]
    },
    {
     "name": "stdout",
     "output_type": "stream",
     "text": [
      "training seed 19 started\n"
     ]
    },
    {
     "name": "stderr",
     "output_type": "stream",
     "text": [
      "Training: 100%|██████████| 100/100 [00:00<00:00, 241.35epochs/s]\n"
     ]
    },
    {
     "name": "stdout",
     "output_type": "stream",
     "text": [
      "Training finished for all seeds.\n",
      "training seed 0 started\n"
     ]
    },
    {
     "name": "stderr",
     "output_type": "stream",
     "text": [
      "Training: 100%|██████████| 100/100 [00:00<00:00, 142.14epochs/s]\n"
     ]
    },
    {
     "name": "stdout",
     "output_type": "stream",
     "text": [
      "training seed 1 started\n"
     ]
    },
    {
     "name": "stderr",
     "output_type": "stream",
     "text": [
      "Training: 100%|██████████| 100/100 [00:00<00:00, 143.92epochs/s]\n"
     ]
    },
    {
     "name": "stdout",
     "output_type": "stream",
     "text": [
      "training seed 2 started\n"
     ]
    },
    {
     "name": "stderr",
     "output_type": "stream",
     "text": [
      "Training: 100%|██████████| 100/100 [00:00<00:00, 135.09epochs/s]\n"
     ]
    },
    {
     "name": "stdout",
     "output_type": "stream",
     "text": [
      "training seed 3 started\n"
     ]
    },
    {
     "name": "stderr",
     "output_type": "stream",
     "text": [
      "Training: 100%|██████████| 100/100 [00:00<00:00, 139.82epochs/s]\n"
     ]
    },
    {
     "name": "stdout",
     "output_type": "stream",
     "text": [
      "training seed 4 started\n"
     ]
    },
    {
     "name": "stderr",
     "output_type": "stream",
     "text": [
      "Training: 100%|██████████| 100/100 [00:00<00:00, 141.96epochs/s]\n"
     ]
    },
    {
     "name": "stdout",
     "output_type": "stream",
     "text": [
      "training seed 5 started\n"
     ]
    },
    {
     "name": "stderr",
     "output_type": "stream",
     "text": [
      "Training: 100%|██████████| 100/100 [00:00<00:00, 139.80epochs/s]\n"
     ]
    },
    {
     "name": "stdout",
     "output_type": "stream",
     "text": [
      "training seed 6 started\n"
     ]
    },
    {
     "name": "stderr",
     "output_type": "stream",
     "text": [
      "Training: 100%|██████████| 100/100 [00:00<00:00, 136.70epochs/s]\n"
     ]
    },
    {
     "name": "stdout",
     "output_type": "stream",
     "text": [
      "training seed 7 started\n"
     ]
    },
    {
     "name": "stderr",
     "output_type": "stream",
     "text": [
      "Training: 100%|██████████| 100/100 [00:00<00:00, 140.83epochs/s]\n"
     ]
    },
    {
     "name": "stdout",
     "output_type": "stream",
     "text": [
      "training seed 8 started\n"
     ]
    },
    {
     "name": "stderr",
     "output_type": "stream",
     "text": [
      "Training: 100%|██████████| 100/100 [00:00<00:00, 138.68epochs/s]\n"
     ]
    },
    {
     "name": "stdout",
     "output_type": "stream",
     "text": [
      "training seed 9 started\n"
     ]
    },
    {
     "name": "stderr",
     "output_type": "stream",
     "text": [
      "Training: 100%|██████████| 100/100 [00:00<00:00, 143.74epochs/s]\n"
     ]
    },
    {
     "name": "stdout",
     "output_type": "stream",
     "text": [
      "training seed 10 started\n"
     ]
    },
    {
     "name": "stderr",
     "output_type": "stream",
     "text": [
      "Training: 100%|██████████| 100/100 [00:00<00:00, 140.45epochs/s]\n"
     ]
    },
    {
     "name": "stdout",
     "output_type": "stream",
     "text": [
      "training seed 11 started\n"
     ]
    },
    {
     "name": "stderr",
     "output_type": "stream",
     "text": [
      "Training: 100%|██████████| 100/100 [00:00<00:00, 129.03epochs/s]\n"
     ]
    },
    {
     "name": "stdout",
     "output_type": "stream",
     "text": [
      "training seed 12 started\n"
     ]
    },
    {
     "name": "stderr",
     "output_type": "stream",
     "text": [
      "Training: 100%|██████████| 100/100 [00:00<00:00, 139.25epochs/s]\n"
     ]
    },
    {
     "name": "stdout",
     "output_type": "stream",
     "text": [
      "training seed 13 started\n"
     ]
    },
    {
     "name": "stderr",
     "output_type": "stream",
     "text": [
      "Training: 100%|██████████| 100/100 [00:00<00:00, 139.29epochs/s]\n"
     ]
    },
    {
     "name": "stdout",
     "output_type": "stream",
     "text": [
      "training seed 14 started\n"
     ]
    },
    {
     "name": "stderr",
     "output_type": "stream",
     "text": [
      "Training: 100%|██████████| 100/100 [00:00<00:00, 139.94epochs/s]\n"
     ]
    },
    {
     "name": "stdout",
     "output_type": "stream",
     "text": [
      "training seed 15 started\n"
     ]
    },
    {
     "name": "stderr",
     "output_type": "stream",
     "text": [
      "Training: 100%|██████████| 100/100 [00:00<00:00, 141.76epochs/s]\n"
     ]
    },
    {
     "name": "stdout",
     "output_type": "stream",
     "text": [
      "training seed 16 started\n"
     ]
    },
    {
     "name": "stderr",
     "output_type": "stream",
     "text": [
      "Training: 100%|██████████| 100/100 [00:00<00:00, 138.67epochs/s]\n"
     ]
    },
    {
     "name": "stdout",
     "output_type": "stream",
     "text": [
      "training seed 17 started\n"
     ]
    },
    {
     "name": "stderr",
     "output_type": "stream",
     "text": [
      "Training: 100%|██████████| 100/100 [00:00<00:00, 141.07epochs/s]\n"
     ]
    },
    {
     "name": "stdout",
     "output_type": "stream",
     "text": [
      "training seed 18 started\n"
     ]
    },
    {
     "name": "stderr",
     "output_type": "stream",
     "text": [
      "Training: 100%|██████████| 100/100 [00:00<00:00, 143.12epochs/s]\n"
     ]
    },
    {
     "name": "stdout",
     "output_type": "stream",
     "text": [
      "training seed 19 started\n"
     ]
    },
    {
     "name": "stderr",
     "output_type": "stream",
     "text": [
      "Training: 100%|██████████| 100/100 [00:00<00:00, 139.65epochs/s]\n"
     ]
    },
    {
     "name": "stdout",
     "output_type": "stream",
     "text": [
      "Training finished for all seeds.\n",
      "training seed 0 started\n"
     ]
    },
    {
     "name": "stderr",
     "output_type": "stream",
     "text": [
      "Training: 100%|██████████| 100/100 [00:00<00:00, 119.84epochs/s]\n"
     ]
    },
    {
     "name": "stdout",
     "output_type": "stream",
     "text": [
      "training seed 1 started\n"
     ]
    },
    {
     "name": "stderr",
     "output_type": "stream",
     "text": [
      "Training: 100%|██████████| 100/100 [00:00<00:00, 115.66epochs/s]\n"
     ]
    },
    {
     "name": "stdout",
     "output_type": "stream",
     "text": [
      "training seed 2 started\n"
     ]
    },
    {
     "name": "stderr",
     "output_type": "stream",
     "text": [
      "Training: 100%|██████████| 100/100 [00:00<00:00, 119.43epochs/s]\n"
     ]
    },
    {
     "name": "stdout",
     "output_type": "stream",
     "text": [
      "training seed 3 started\n"
     ]
    },
    {
     "name": "stderr",
     "output_type": "stream",
     "text": [
      "Training: 100%|██████████| 100/100 [00:00<00:00, 115.63epochs/s]\n"
     ]
    },
    {
     "name": "stdout",
     "output_type": "stream",
     "text": [
      "training seed 4 started\n"
     ]
    },
    {
     "name": "stderr",
     "output_type": "stream",
     "text": [
      "Training: 100%|██████████| 100/100 [00:00<00:00, 117.90epochs/s]\n"
     ]
    },
    {
     "name": "stdout",
     "output_type": "stream",
     "text": [
      "training seed 5 started\n"
     ]
    },
    {
     "name": "stderr",
     "output_type": "stream",
     "text": [
      "Training: 100%|██████████| 100/100 [00:00<00:00, 120.93epochs/s]\n"
     ]
    },
    {
     "name": "stdout",
     "output_type": "stream",
     "text": [
      "training seed 6 started\n"
     ]
    },
    {
     "name": "stderr",
     "output_type": "stream",
     "text": [
      "Training: 100%|██████████| 100/100 [00:00<00:00, 120.58epochs/s]\n"
     ]
    },
    {
     "name": "stdout",
     "output_type": "stream",
     "text": [
      "training seed 7 started\n"
     ]
    },
    {
     "name": "stderr",
     "output_type": "stream",
     "text": [
      "Training: 100%|██████████| 100/100 [00:00<00:00, 119.06epochs/s]\n"
     ]
    },
    {
     "name": "stdout",
     "output_type": "stream",
     "text": [
      "training seed 8 started\n"
     ]
    },
    {
     "name": "stderr",
     "output_type": "stream",
     "text": [
      "Training: 100%|██████████| 100/100 [00:00<00:00, 117.26epochs/s]\n"
     ]
    },
    {
     "name": "stdout",
     "output_type": "stream",
     "text": [
      "training seed 9 started\n"
     ]
    },
    {
     "name": "stderr",
     "output_type": "stream",
     "text": [
      "Training: 100%|██████████| 100/100 [00:00<00:00, 115.79epochs/s]\n"
     ]
    },
    {
     "name": "stdout",
     "output_type": "stream",
     "text": [
      "training seed 10 started\n"
     ]
    },
    {
     "name": "stderr",
     "output_type": "stream",
     "text": [
      "Training: 100%|██████████| 100/100 [00:00<00:00, 103.98epochs/s]\n"
     ]
    },
    {
     "name": "stdout",
     "output_type": "stream",
     "text": [
      "training seed 11 started\n"
     ]
    },
    {
     "name": "stderr",
     "output_type": "stream",
     "text": [
      "Training: 100%|██████████| 100/100 [00:00<00:00, 116.63epochs/s]\n"
     ]
    },
    {
     "name": "stdout",
     "output_type": "stream",
     "text": [
      "training seed 12 started\n"
     ]
    },
    {
     "name": "stderr",
     "output_type": "stream",
     "text": [
      "Training: 100%|██████████| 100/100 [00:00<00:00, 118.18epochs/s]\n"
     ]
    },
    {
     "name": "stdout",
     "output_type": "stream",
     "text": [
      "training seed 13 started\n"
     ]
    },
    {
     "name": "stderr",
     "output_type": "stream",
     "text": [
      "Training: 100%|██████████| 100/100 [00:00<00:00, 108.10epochs/s]\n"
     ]
    },
    {
     "name": "stdout",
     "output_type": "stream",
     "text": [
      "training seed 14 started\n"
     ]
    },
    {
     "name": "stderr",
     "output_type": "stream",
     "text": [
      "Training: 100%|██████████| 100/100 [00:00<00:00, 117.44epochs/s]\n"
     ]
    },
    {
     "name": "stdout",
     "output_type": "stream",
     "text": [
      "training seed 15 started\n"
     ]
    },
    {
     "name": "stderr",
     "output_type": "stream",
     "text": [
      "Training: 100%|██████████| 100/100 [00:00<00:00, 121.26epochs/s]\n"
     ]
    },
    {
     "name": "stdout",
     "output_type": "stream",
     "text": [
      "training seed 16 started\n"
     ]
    },
    {
     "name": "stderr",
     "output_type": "stream",
     "text": [
      "Training: 100%|██████████| 100/100 [00:00<00:00, 119.87epochs/s]\n"
     ]
    },
    {
     "name": "stdout",
     "output_type": "stream",
     "text": [
      "training seed 17 started\n"
     ]
    },
    {
     "name": "stderr",
     "output_type": "stream",
     "text": [
      "Training: 100%|██████████| 100/100 [00:00<00:00, 109.86epochs/s]\n"
     ]
    },
    {
     "name": "stdout",
     "output_type": "stream",
     "text": [
      "training seed 18 started\n"
     ]
    },
    {
     "name": "stderr",
     "output_type": "stream",
     "text": [
      "Training: 100%|██████████| 100/100 [00:00<00:00, 118.57epochs/s]\n"
     ]
    },
    {
     "name": "stdout",
     "output_type": "stream",
     "text": [
      "training seed 19 started\n"
     ]
    },
    {
     "name": "stderr",
     "output_type": "stream",
     "text": [
      "Training: 100%|██████████| 100/100 [00:00<00:00, 119.47epochs/s]\n"
     ]
    },
    {
     "name": "stdout",
     "output_type": "stream",
     "text": [
      "Training finished for all seeds.\n",
      "training seed 0 started\n"
     ]
    },
    {
     "name": "stderr",
     "output_type": "stream",
     "text": [
      "Training: 100%|██████████| 100/100 [00:00<00:00, 114.54epochs/s]\n"
     ]
    },
    {
     "name": "stdout",
     "output_type": "stream",
     "text": [
      "training seed 1 started\n"
     ]
    },
    {
     "name": "stderr",
     "output_type": "stream",
     "text": [
      "Training: 100%|██████████| 100/100 [00:00<00:00, 118.34epochs/s]\n"
     ]
    },
    {
     "name": "stdout",
     "output_type": "stream",
     "text": [
      "training seed 2 started\n"
     ]
    },
    {
     "name": "stderr",
     "output_type": "stream",
     "text": [
      "Training: 100%|██████████| 100/100 [00:00<00:00, 120.95epochs/s]\n"
     ]
    },
    {
     "name": "stdout",
     "output_type": "stream",
     "text": [
      "training seed 3 started\n"
     ]
    },
    {
     "name": "stderr",
     "output_type": "stream",
     "text": [
      "Training: 100%|██████████| 100/100 [00:00<00:00, 125.63epochs/s]\n"
     ]
    },
    {
     "name": "stdout",
     "output_type": "stream",
     "text": [
      "training seed 4 started\n"
     ]
    },
    {
     "name": "stderr",
     "output_type": "stream",
     "text": [
      "Training: 100%|██████████| 100/100 [00:00<00:00, 120.73epochs/s]\n"
     ]
    },
    {
     "name": "stdout",
     "output_type": "stream",
     "text": [
      "training seed 5 started\n"
     ]
    },
    {
     "name": "stderr",
     "output_type": "stream",
     "text": [
      "Training: 100%|██████████| 100/100 [00:00<00:00, 120.72epochs/s]\n"
     ]
    },
    {
     "name": "stdout",
     "output_type": "stream",
     "text": [
      "training seed 6 started\n"
     ]
    },
    {
     "name": "stderr",
     "output_type": "stream",
     "text": [
      "Training: 100%|██████████| 100/100 [00:00<00:00, 119.22epochs/s]\n"
     ]
    },
    {
     "name": "stdout",
     "output_type": "stream",
     "text": [
      "training seed 7 started\n"
     ]
    },
    {
     "name": "stderr",
     "output_type": "stream",
     "text": [
      "Training: 100%|██████████| 100/100 [00:00<00:00, 112.36epochs/s]\n"
     ]
    },
    {
     "name": "stdout",
     "output_type": "stream",
     "text": [
      "training seed 8 started\n"
     ]
    },
    {
     "name": "stderr",
     "output_type": "stream",
     "text": [
      "Training: 100%|██████████| 100/100 [00:00<00:00, 121.72epochs/s]\n"
     ]
    },
    {
     "name": "stdout",
     "output_type": "stream",
     "text": [
      "training seed 9 started\n"
     ]
    },
    {
     "name": "stderr",
     "output_type": "stream",
     "text": [
      "Training: 100%|██████████| 100/100 [00:00<00:00, 122.55epochs/s]\n"
     ]
    },
    {
     "name": "stdout",
     "output_type": "stream",
     "text": [
      "training seed 10 started\n"
     ]
    },
    {
     "name": "stderr",
     "output_type": "stream",
     "text": [
      "Training: 100%|██████████| 100/100 [00:00<00:00, 121.78epochs/s]\n"
     ]
    },
    {
     "name": "stdout",
     "output_type": "stream",
     "text": [
      "training seed 11 started\n"
     ]
    },
    {
     "name": "stderr",
     "output_type": "stream",
     "text": [
      "Training: 100%|██████████| 100/100 [00:00<00:00, 121.56epochs/s]\n"
     ]
    },
    {
     "name": "stdout",
     "output_type": "stream",
     "text": [
      "training seed 12 started\n"
     ]
    },
    {
     "name": "stderr",
     "output_type": "stream",
     "text": [
      "Training: 100%|██████████| 100/100 [00:00<00:00, 124.62epochs/s]\n"
     ]
    },
    {
     "name": "stdout",
     "output_type": "stream",
     "text": [
      "training seed 13 started\n"
     ]
    },
    {
     "name": "stderr",
     "output_type": "stream",
     "text": [
      "Training: 100%|██████████| 100/100 [00:00<00:00, 126.05epochs/s]\n"
     ]
    },
    {
     "name": "stdout",
     "output_type": "stream",
     "text": [
      "training seed 14 started\n"
     ]
    },
    {
     "name": "stderr",
     "output_type": "stream",
     "text": [
      "Training: 100%|██████████| 100/100 [00:00<00:00, 125.28epochs/s]\n"
     ]
    },
    {
     "name": "stdout",
     "output_type": "stream",
     "text": [
      "training seed 15 started\n"
     ]
    },
    {
     "name": "stderr",
     "output_type": "stream",
     "text": [
      "Training: 100%|██████████| 100/100 [00:00<00:00, 126.43epochs/s]\n"
     ]
    },
    {
     "name": "stdout",
     "output_type": "stream",
     "text": [
      "training seed 16 started\n"
     ]
    },
    {
     "name": "stderr",
     "output_type": "stream",
     "text": [
      "Training: 100%|██████████| 100/100 [00:00<00:00, 125.95epochs/s]\n"
     ]
    },
    {
     "name": "stdout",
     "output_type": "stream",
     "text": [
      "training seed 17 started\n"
     ]
    },
    {
     "name": "stderr",
     "output_type": "stream",
     "text": [
      "Training: 100%|██████████| 100/100 [00:00<00:00, 124.14epochs/s]\n"
     ]
    },
    {
     "name": "stdout",
     "output_type": "stream",
     "text": [
      "training seed 18 started\n"
     ]
    },
    {
     "name": "stderr",
     "output_type": "stream",
     "text": [
      "Training: 100%|██████████| 100/100 [00:00<00:00, 124.96epochs/s]\n"
     ]
    },
    {
     "name": "stdout",
     "output_type": "stream",
     "text": [
      "training seed 19 started\n"
     ]
    },
    {
     "name": "stderr",
     "output_type": "stream",
     "text": [
      "Training: 100%|██████████| 100/100 [00:00<00:00, 121.08epochs/s]\n"
     ]
    },
    {
     "name": "stdout",
     "output_type": "stream",
     "text": [
      "Training finished for all seeds.\n",
      "training seed 0 started\n"
     ]
    },
    {
     "name": "stderr",
     "output_type": "stream",
     "text": [
      "Training: 100%|██████████| 100/100 [00:00<00:00, 116.65epochs/s]\n"
     ]
    },
    {
     "name": "stdout",
     "output_type": "stream",
     "text": [
      "training seed 1 started\n"
     ]
    },
    {
     "name": "stderr",
     "output_type": "stream",
     "text": [
      "Training: 100%|██████████| 100/100 [00:00<00:00, 119.89epochs/s]\n"
     ]
    },
    {
     "name": "stdout",
     "output_type": "stream",
     "text": [
      "training seed 2 started\n"
     ]
    },
    {
     "name": "stderr",
     "output_type": "stream",
     "text": [
      "Training: 100%|██████████| 100/100 [00:00<00:00, 117.22epochs/s]\n"
     ]
    },
    {
     "name": "stdout",
     "output_type": "stream",
     "text": [
      "training seed 3 started\n"
     ]
    },
    {
     "name": "stderr",
     "output_type": "stream",
     "text": [
      "Training: 100%|██████████| 100/100 [00:00<00:00, 113.93epochs/s]\n"
     ]
    },
    {
     "name": "stdout",
     "output_type": "stream",
     "text": [
      "training seed 4 started\n"
     ]
    },
    {
     "name": "stderr",
     "output_type": "stream",
     "text": [
      "Training: 100%|██████████| 100/100 [00:00<00:00, 116.36epochs/s]\n"
     ]
    },
    {
     "name": "stdout",
     "output_type": "stream",
     "text": [
      "training seed 5 started\n"
     ]
    },
    {
     "name": "stderr",
     "output_type": "stream",
     "text": [
      "Training: 100%|██████████| 100/100 [00:00<00:00, 117.98epochs/s]\n"
     ]
    },
    {
     "name": "stdout",
     "output_type": "stream",
     "text": [
      "training seed 6 started\n"
     ]
    },
    {
     "name": "stderr",
     "output_type": "stream",
     "text": [
      "Training: 100%|██████████| 100/100 [00:00<00:00, 118.94epochs/s]\n"
     ]
    },
    {
     "name": "stdout",
     "output_type": "stream",
     "text": [
      "training seed 7 started\n"
     ]
    },
    {
     "name": "stderr",
     "output_type": "stream",
     "text": [
      "Training: 100%|██████████| 100/100 [00:00<00:00, 119.26epochs/s]\n"
     ]
    },
    {
     "name": "stdout",
     "output_type": "stream",
     "text": [
      "training seed 8 started\n"
     ]
    },
    {
     "name": "stderr",
     "output_type": "stream",
     "text": [
      "Training: 100%|██████████| 100/100 [00:00<00:00, 117.57epochs/s]\n"
     ]
    },
    {
     "name": "stdout",
     "output_type": "stream",
     "text": [
      "training seed 9 started\n"
     ]
    },
    {
     "name": "stderr",
     "output_type": "stream",
     "text": [
      "Training: 100%|██████████| 100/100 [00:00<00:00, 117.47epochs/s]\n"
     ]
    },
    {
     "name": "stdout",
     "output_type": "stream",
     "text": [
      "training seed 10 started\n"
     ]
    },
    {
     "name": "stderr",
     "output_type": "stream",
     "text": [
      "Training: 100%|██████████| 100/100 [00:00<00:00, 118.55epochs/s]\n"
     ]
    },
    {
     "name": "stdout",
     "output_type": "stream",
     "text": [
      "training seed 11 started\n"
     ]
    },
    {
     "name": "stderr",
     "output_type": "stream",
     "text": [
      "Training: 100%|██████████| 100/100 [00:00<00:00, 116.54epochs/s]\n"
     ]
    },
    {
     "name": "stdout",
     "output_type": "stream",
     "text": [
      "training seed 12 started\n"
     ]
    },
    {
     "name": "stderr",
     "output_type": "stream",
     "text": [
      "Training: 100%|██████████| 100/100 [00:00<00:00, 119.25epochs/s]\n"
     ]
    },
    {
     "name": "stdout",
     "output_type": "stream",
     "text": [
      "training seed 13 started\n"
     ]
    },
    {
     "name": "stderr",
     "output_type": "stream",
     "text": [
      "Training: 100%|██████████| 100/100 [00:00<00:00, 120.38epochs/s]\n"
     ]
    },
    {
     "name": "stdout",
     "output_type": "stream",
     "text": [
      "training seed 14 started\n"
     ]
    },
    {
     "name": "stderr",
     "output_type": "stream",
     "text": [
      "Training: 100%|██████████| 100/100 [00:00<00:00, 120.26epochs/s]\n"
     ]
    },
    {
     "name": "stdout",
     "output_type": "stream",
     "text": [
      "training seed 15 started\n"
     ]
    },
    {
     "name": "stderr",
     "output_type": "stream",
     "text": [
      "Training: 100%|██████████| 100/100 [00:00<00:00, 119.81epochs/s]\n"
     ]
    },
    {
     "name": "stdout",
     "output_type": "stream",
     "text": [
      "training seed 16 started\n"
     ]
    },
    {
     "name": "stderr",
     "output_type": "stream",
     "text": [
      "Training: 100%|██████████| 100/100 [00:00<00:00, 117.95epochs/s]\n"
     ]
    },
    {
     "name": "stdout",
     "output_type": "stream",
     "text": [
      "training seed 17 started\n"
     ]
    },
    {
     "name": "stderr",
     "output_type": "stream",
     "text": [
      "Training: 100%|██████████| 100/100 [00:00<00:00, 119.01epochs/s]\n"
     ]
    },
    {
     "name": "stdout",
     "output_type": "stream",
     "text": [
      "training seed 18 started\n"
     ]
    },
    {
     "name": "stderr",
     "output_type": "stream",
     "text": [
      "Training: 100%|██████████| 100/100 [00:00<00:00, 118.53epochs/s]\n"
     ]
    },
    {
     "name": "stdout",
     "output_type": "stream",
     "text": [
      "training seed 19 started\n"
     ]
    },
    {
     "name": "stderr",
     "output_type": "stream",
     "text": [
      "Training: 100%|██████████| 100/100 [00:00<00:00, 118.97epochs/s]"
     ]
    },
    {
     "name": "stdout",
     "output_type": "stream",
     "text": [
      "Training finished for all seeds.\n"
     ]
    },
    {
     "name": "stderr",
     "output_type": "stream",
     "text": [
      "\n"
     ]
    }
   ],
   "source": [
    "def experiment_runner(dataset, ERM_hp, IMP_hp, Safe_hp, EI_hp, BE_hp,seeds):\n",
    "    \n",
    "    _, _, ERM = log_model_runner(dataset, ERM_hp, seeds, mode='baseline')\n",
    "    _, _, STWF = log_model_runner(dataset, IMP_hp, seeds, mode='new')\n",
    "    _, _, EI = log_model_runner(dataset, EI_hp, seeds, mode='baseline')\n",
    "    _, _, SAFE = log_model_runner(dataset, Safe_hp, seeds, mode='baseline')\n",
    "    _, _, BE = log_model_runner(dataset, BE_hp, seeds, mode='baseline')\n",
    "    \n",
    "    return ERM, STWF, EI, SAFE, BE\n",
    "\n",
    "\n",
    "Safe_hp = {}\n",
    "Safe_hp['learning_rate'] = 0.01\n",
    "Safe_hp['lambda_'] = 0.1\n",
    "Safe_hp['n_epochs'] = 100\n",
    "Safe_hp['batch_size'] = 64\n",
    "Safe_hp['metric'] = 'SAFE'\n",
    "Safe_hp['delta_effort'] = 1\n",
    "\n",
    "EI_hp = {}\n",
    "EI_hp['learning_rate'] = 0.01\n",
    "EI_hp['lambda_'] = 0.1\n",
    "EI_hp['n_epochs'] = 100\n",
    "EI_hp['batch_size'] = 64\n",
    "EI_hp['metric'] = 'EI'\n",
    "EI_hp['delta_effort'] = 1\n",
    "\n",
    "BE_hp = {}\n",
    "BE_hp['learning_rate'] = 0.01\n",
    "BE_hp['lambda_'] = 0.1\n",
    "BE_hp['n_epochs'] = 100\n",
    "BE_hp['batch_size'] = 64\n",
    "BE_hp['metric'] = 'BE'\n",
    "BE_hp['delta_effort'] = 1\n",
    "\n",
    "ERM_hp = {}\n",
    "ERM_hp['learning_rate'] = 0.01\n",
    "ERM_hp['lambda_'] = 0\n",
    "ERM_hp['n_epochs'] = 100\n",
    "ERM_hp['batch_size'] = 64\n",
    "ERM_hp['metric'] = 'ERM'\n",
    "ERM_hp['delta_effort'] = 1\n",
    "\n",
    "IMP_hp = {}\n",
    "IMP_hp['learning_rate'] = 0.01\n",
    "IMP_hp['lambda2'] = 2\n",
    "IMP_hp['lambda3'] = 1\n",
    "IMP_hp['n_epochs'] = 100\n",
    "IMP_hp['batch_size'] = 64\n",
    "IMP_hp['metric'] = 'IMP'\n",
    "IMP_hp['delta_effort'] = 1\n",
    "IMP_hp['add_safe'] = True\n",
    "\n",
    "ERM, STWF, EI, SAFE, BE = experiment_runner(data, ERM_hp, IMP_hp, Safe_hp, EI_hp, BE_hp, range(20))"
   ]
  },
  {
   "cell_type": "code",
   "execution_count": 7,
   "id": "08501841",
   "metadata": {},
   "outputs": [
    {
     "name": "stdout",
     "output_type": "stream",
     "text": [
      "model      accuracy_mean    accuracy_var    swf_mean     swf_var    safety_mean    safety_var    aw_all_mean    aw_all_var    ei_mean     ei_var    be_mean     be_var    dp_mean     dp_var    eo_mean     eo_var    eodd_mean    eodd_var\n",
      "-------  ---------------  --------------  ----------  ----------  -------------  ------------  -------------  ------------  ---------  ---------  ---------  ---------  ---------  ---------  ---------  ---------  -----------  ----------\n",
      "ERM              0.78          0.0115109   0.0307879  0.00178946              0             0     -0.100049    2.56046e-05  0.0134677  0.0196985  0.0787253  0.0158645  0.0755926  0.0154586  0.0596308  0.0116331    0.0689585   0.019358\n",
      "STWF             0.73625       0.0196135   0.0216719  0.00195389              0             0     -0.0529827   5.82383e-05  0.0410444  0.0377455  0.0755247  0.0187759  0.071892   0.0176315  0.0643138  0.0132323    0.0756901   0.019263\n",
      "SAFE             0.779         0.0112472   0.0305734  0.00181676              0             0     -0.0993634   2.62392e-05  0          0          0.0768272  0.0166775  0.0768272  0.0166775  0.0589114  0.0126769    0.070992    0.023858\n",
      "EI               0.78          0.0115109   0.030786   0.00178882              0             0     -0.100045    2.55943e-05  0.0134677  0.0196985  0.0787253  0.0158645  0.0755926  0.0154586  0.0596308  0.0116331    0.0689585   0.019358\n",
      "BE               0.7765        0.0103803   0.0308218  0.00177894              0             0     -0.0999339   2.61382e-05  0          0          0.0767099  0.0154585  0.0767099  0.0154585  0.0584159  0.0124101    0.0708256   0.0227554\n"
     ]
    }
   ],
   "source": [
    "result = []\n",
    "models = [\"ERM\", \"STWF\",  \"SAFE\", \"EI\", \"BE\"]\n",
    "sol = [ERM, STWF, EI, SAFE, BE]\n",
    "for i in range(len(models)):\n",
    "    c = []\n",
    "    c.append(models[i])\n",
    "    res = sol[i]\n",
    "    c.append(res['accuracy_mean'])\n",
    "    c.append(res['accuracy_var'])\n",
    "    c.append(res['swf_mean'])\n",
    "    c.append(res['swf_var']) \n",
    "    c.append(res['safety_mean'])\n",
    "    c.append(res['safety_var']) \n",
    "    c.append(res['aw_all_mean'])\n",
    "    c.append(res['aw_all_var'])\n",
    "    c.append(res['ei_mean'])\n",
    "    c.append(res['ei_var'])\n",
    "    c.append(res['be_mean'])\n",
    "    c.append(res['be_var'])\n",
    "    c.append(res['dp_mean'])\n",
    "    c.append(res['dp_var'])\n",
    "    c.append(res['eo_mean'])\n",
    "    c.append(res['eo_var'])\n",
    "    c.append(res['eodd_mean'])\n",
    "    c.append(res['eodd_var'])\n",
    "    result.append(c)\n",
    "\n",
    "print(tabulate(result, headers=[\"model\",\"accuracy_mean\",\"accuracy_var\",\"swf_mean\",\"swf_var\",\"safety_mean\",\"safety_var\",\"aw_all_mean\",\"aw_all_var\",\n",
    "                                \"ei_mean\",\"ei_var\",\"be_mean\",\"be_var\", \"dp_mean\", \"dp_var\",\"eo_mean\",\"eo_var\",\"eodd_mean\",\"eodd_var\"]))"
   ]
  },
  {
   "cell_type": "code",
   "execution_count": 8,
   "id": "43ce14ca",
   "metadata": {},
   "outputs": [],
   "source": [
    "# process the results into dataframe\n",
    "dict_res = {}\n",
    "headers=[\"model\",\"accuracy_mean\",\"accuracy_var\",\"swf_mean\",\"swf_var\",\"safety_mean\",\"safety_var\",\"aw_all_mean\",\"aw_all_var\",\n",
    "                                \"ei_mean\",\"ei_var\",\"be_mean\",\"be_var\", \"dp_mean\", \"dp_var\",\"eo_mean\",\"eo_var\",\"eodd_mean\",\"eodd_var\"]\n",
    "for item in result:\n",
    "    i = 1\n",
    "    dict_res[item[0]] = {}\n",
    "    for head in headers[1:]:\n",
    "        dict_res[item[0]][head] = item[i]\n",
    "        i += 1\n",
    "\n",
    "# save the results\n",
    "with open('saved_texts/comparison_german.txt', 'w') as file:\n",
    "    for row in result:\n",
    "        # Convert each item in the list to a string and join with a space (or any other delimiter)\n",
    "        file.write(' '.join(map(str, row)) + '\\n')"
   ]
  },
  {
   "cell_type": "markdown",
   "id": "8b9eafcf",
   "metadata": {},
   "source": [
    "### Plot the relationship between welfares"
   ]
  },
  {
   "cell_type": "code",
   "execution_count": 45,
   "id": "c0c633e4",
   "metadata": {},
   "outputs": [],
   "source": [
    "def plot_welfare_comparison(dict_res, ebar=False):\n",
    "    welfare =  {'name':models,'DW':[],'DW_var':[], 'AW':[],'AW_var':[], 'SWF':[],'SWF_var':[],'TOTAL':[],'TOTAL_var':[]}\n",
    "    plt.figure(figsize = (4,3))\n",
    "    plt.xlabel('model')\n",
    "    plt.ylabel('welfare')\n",
    "    # Setting the positions and width for the bars\n",
    "    barWidth = 0.18\n",
    "    r1 = np.arange(len(models))  # positions for the first set of bars\n",
    "    r2 = [x + barWidth for x in r1]  # positions for the second set of bars\n",
    "    r3 = [x + barWidth for x in r2] # positions for the third set of bars\n",
    "    r4 = [x + barWidth for x in r3]\n",
    "\n",
    "    for name in models:\n",
    "        welfare['DW'].append(dict_res[name]['accuracy_mean'])\n",
    "        welfare['DW_var'].append(dict_res[name]['accuracy_var'])\n",
    "        welfare['SWF'].append(dict_res[name]['swf_mean'])\n",
    "        welfare['SWF_var'].append(dict_res[name]['swf_var'])\n",
    "        welfare['AW'].append(dict_res[name]['aw_all_mean'])\n",
    "        welfare['AW_var'].append(dict_res[name]['aw_all_var'])\n",
    "        welfare['TOTAL'].append(dict_res[name]['aw_all_mean'] + dict_res[name]['accuracy_mean'] + dict_res[name]['swf_mean'])\n",
    "        welfare['TOTAL_var'].append(dict_res[name]['aw_all_var'] + dict_res[name]['accuracy_var'] + dict_res[name]['swf_var'])\n",
    "\n",
    "    if not ebar:\n",
    "        plt.bar(r1, welfare['DW'], width=barWidth, label = 'DW',color = 'blue')\n",
    "        plt.bar(r2, welfare['SWF'], width=barWidth,label = 'SWF',color = 'orange')\n",
    "        plt.bar(r3, welfare['AW'], width=barWidth,label = 'AW', color = 'green')\n",
    "        plt.bar(r4, welfare['TOTAL'], width=barWidth,label = 'TOTAL', color = 'red')\n",
    "\n",
    "    else:\n",
    "        plt.bar(r1, welfare['DW'], yerr = welfare['DW_var'],width=barWidth,label = 'DW',color = 'blue')\n",
    "        plt.bar(r2, welfare['SWF'], yerr = welfare['SWF_var'],width=barWidth,label = 'SWF',color = 'orange')\n",
    "        plt.bar(r3, welfare['AW'], yerr = welfare['AW_var'],width=barWidth,label = 'AW',color = 'green')\n",
    "        plt.bar(r4, welfare['TOTAL'], yerr = welfare['TOTAL_var'], width=barWidth,label = 'TOTAL', color = 'red')\n",
    "    \n",
    "    plt.xticks([r + barWidth for r in range(len(models))], models)\n",
    "\n",
    "    \n",
    "    plt.legend(handlelength = 0.5)\n",
    "    plt.tight_layout()\n",
    "    if not ebar:\n",
    "        plt.savefig('saved_plots/german_welfare_comp.pdf')\n",
    "    else:\n",
    "        plt.savefig('saved_plots/ebar_german_welfare_comp.pdf')"
   ]
  },
  {
   "cell_type": "code",
   "execution_count": 41,
   "id": "a7a7cf99",
   "metadata": {},
   "outputs": [
    {
     "data": {
      "image/png": "[encoded data removed]",
      "text/plain": [
       "<Figure size 400x300 with 1 Axes>"
      ]
     },
     "metadata": {},
     "output_type": "display_data"
    }
   ],
   "source": [
    "plot_welfare_comparison(dict_res, ebar=True)"
   ]
  },
  {
   "cell_type": "markdown",
   "id": "d47a44bb",
   "metadata": {},
   "source": [
    "### Plot the relationship between fairness"
   ]
  },
  {
   "cell_type": "code",
   "execution_count": 14,
   "id": "a150c64b",
   "metadata": {},
   "outputs": [],
   "source": [
    "def plot_long_fairness_comparison(dict_res, ebar=False):\n",
    "    welfare =  {'name':models,'EI':[],'EI_var':[], 'BE':[],'BE_var':[], 'DP':[],'DP_var':[], 'EO':[], 'EO_var':[], 'EODD':[], 'EODD_var':[]}\n",
    "    plt.figure(figsize = (4,3))\n",
    "    plt.xlabel('model')\n",
    "    plt.ylabel('unfairness')\n",
    "    # Setting the positions and width for the bars\n",
    "    barWidth = 0.16\n",
    "    r1 = np.arange(len(models))  # positions for the first set of bars\n",
    "    r2 = [x + barWidth for x in r1]  # positions for the second set of bars\n",
    "\n",
    "    for name in models:\n",
    "        welfare['EI'].append(dict_res[name]['ei_mean'])\n",
    "        welfare['EI_var'].append(dict_res[name]['ei_var'])\n",
    "        welfare['BE'].append(dict_res[name]['be_mean'])\n",
    "        welfare['BE_var'].append(dict_res[name]['be_var'])\n",
    "        welfare['DP'].append(dict_res[name]['dp_mean'])\n",
    "        welfare['DP_var'].append(dict_res[name]['dp_var'])\n",
    "        welfare['EO'].append(dict_res[name]['eo_mean'])\n",
    "        welfare['EO_var'].append(dict_res[name]['eo_var'])\n",
    "        welfare['EODD'].append(dict_res[name]['eodd_mean'])\n",
    "        welfare['EODD_var'].append(dict_res[name]['eodd_var'])\n",
    "\n",
    "    if not ebar:\n",
    "        plt.bar(r1, welfare['EI'], width=barWidth, label = 'EI fairness',color = 'blue')\n",
    "        plt.bar(r2, welfare['BE'], width=barWidth,label = 'BE fairness',color = 'red')\n",
    "\n",
    "    else:\n",
    "        plt.bar(r1, welfare['EI'], yerr = welfare['EI_var'], width=barWidth, label = 'EI fairness',color = 'blue')\n",
    "        plt.bar(r2, welfare['BE'],  yerr = welfare['BE_var'], width=barWidth,label = 'BE fairness',color = 'red')\n",
    "    \n",
    "    plt.xticks([r + barWidth for r in range(len(models))], models)\n",
    "\n",
    "    \n",
    "    plt.legend(handlelength = 0.5)\n",
    "    plt.tight_layout()\n",
    "    if not ebar:\n",
    "        plt.savefig('saved_plots/german_long_fairness_comp.pdf')\n",
    "    else:\n",
    "        plt.savefig('saved_plots/ebar_german_long_fairness_comp.pdf')\n",
    "\n",
    "\n",
    "\n",
    "\n",
    "def plot_instant_fairness_comparison(dict_res, ebar=False):\n",
    "    welfare =  {'name':models,'EI':[],'EI_var':[], 'BE':[],'BE_var':[], 'DP':[],'DP_var':[], 'EO':[], 'EO_var':[], 'EODD':[], 'EODD_var':[]}\n",
    "    plt.figure(figsize = (4,3))\n",
    "    plt.xlabel('model')\n",
    "    plt.ylabel('unfairness')\n",
    "    # Setting the positions and width for the bars\n",
    "    barWidth = 0.16\n",
    "    r1 = np.arange(len(models))  # positions for the first set of bars\n",
    "    r2 = [x + barWidth for x in r1]  # positions for the second set of bars\n",
    "    r3 = [x + barWidth for x in r2] # positions for the third set of bars\n",
    "\n",
    "    for name in models:\n",
    "        welfare['EI'].append(dict_res[name]['ei_mean'])\n",
    "        welfare['EI_var'].append(dict_res[name]['ei_var'])\n",
    "        welfare['BE'].append(dict_res[name]['be_mean'])\n",
    "        welfare['BE_var'].append(dict_res[name]['be_var'])\n",
    "        welfare['DP'].append(dict_res[name]['dp_mean'])\n",
    "        welfare['DP_var'].append(dict_res[name]['dp_var'])\n",
    "        welfare['EO'].append(dict_res[name]['eo_mean'])\n",
    "        welfare['EO_var'].append(dict_res[name]['eo_var'])\n",
    "        welfare['EODD'].append(dict_res[name]['eodd_mean'])\n",
    "        welfare['EODD_var'].append(dict_res[name]['eodd_var'])\n",
    "\n",
    "    if not ebar:\n",
    "        plt.bar(r1, welfare['DP'], width=barWidth, label = 'DP fairness',color = 'blue')\n",
    "        plt.bar(r2, welfare['EO'], width=barWidth,label = 'EO fairness',color = 'red')\n",
    "\n",
    "    else:\n",
    "        plt.bar(r1, welfare['DP'], yerr = welfare['DP_var'],width=barWidth,label = 'DP fairness', color = 'red')\n",
    "        plt.bar(r2, welfare['EO'],  yerr = welfare['EO_var'],width=barWidth,label = 'EO fairness',color = 'blue')\n",
    "    \n",
    "    plt.xticks([r + barWidth for r in range(len(models))], models)\n",
    "\n",
    "    \n",
    "    plt.legend(handlelength = 0.5)\n",
    "    plt.tight_layout()\n",
    "    if not ebar:\n",
    "        plt.savefig('saved_plots/german_instant_fairness_comp.pdf')\n",
    "    else:\n",
    "        plt.savefig('saved_plots/ebar_german_instant_fairness_comp.pdf')"
   ]
  },
  {
   "cell_type": "code",
   "execution_count": 11,
   "id": "a0677e1a",
   "metadata": {},
   "outputs": [
    {
     "data": {
      "image/png": "[encoded data removed]",
      "text/plain": [
       "<Figure size 400x300 with 1 Axes>"
      ]
     },
     "metadata": {},
     "output_type": "display_data"
    }
   ],
   "source": [
    "plot_instant_fairness_comparison(dict_res,ebar=True)"
   ]
  },
  {
   "cell_type": "code",
   "execution_count": 15,
   "id": "6ec0b01f",
   "metadata": {},
   "outputs": [
    {
     "data": {
      "image/png": "[encoded data removed]",
      "text/plain": [
       "<Figure size 400x300 with 1 Axes>"
      ]
     },
     "metadata": {},
     "output_type": "display_data"
    }
   ],
   "source": [
    "plot_long_fairness_comparison(dict_res,ebar=True)"
   ]
  }
 ],
 "metadata": {
  "kernelspec": {
   "display_name": "Python 3 (ipykernel)",
   "language": "python",
   "name": "python3"
  },
  "language_info": {
   "codemirror_mode": {
    "name": "ipython",
    "version": 3
   },
   "file_extension": ".py",
   "mimetype": "text/x-python",
   "name": "python",
   "nbconvert_exporter": "python",
   "pygments_lexer": "ipython3",
   "version": "3.9.13"
  }
 },
 "nbformat": 4,
 "nbformat_minor": 5
}
