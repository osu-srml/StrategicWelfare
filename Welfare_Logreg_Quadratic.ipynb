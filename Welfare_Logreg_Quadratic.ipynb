{
 "cells": [
  {
   "cell_type": "code",
   "execution_count": 1,
   "id": "d1ff5000",
   "metadata": {},
   "outputs": [],
   "source": [
    "import torch\n",
    "import numpy as np\n",
    "import random\n",
    "import torch.optim as optim\n",
    "from model import *\n",
    "from algorithms import *\n",
    "from dataset import *\n",
    "from utils import *\n",
    "from tabulate import tabulate\n",
    "from matplotlib import pyplot as plt\n",
    "import csv"
   ]
  },
  {
   "cell_type": "markdown",
   "id": "7f537adf",
   "metadata": {},
   "source": [
    "### Fit ground-truth model h"
   ]
  },
  {
   "cell_type": "code",
   "execution_count": 2,
   "id": "38bba637",
   "metadata": {},
   "outputs": [],
   "source": [
    "device = 'cpu'\n",
    "data = QuadraticDataset(device = device)"
   ]
  },
  {
   "cell_type": "code",
   "execution_count": 3,
   "id": "23a0ff65",
   "metadata": {},
   "outputs": [
    {
     "name": "stdout",
     "output_type": "stream",
     "text": [
      "tensor([1., 1., 0.])\n"
     ]
    }
   ],
   "source": [
    "ctv = torch.zeros(3)\n",
    "ctv[[0,1]] = 1\n",
    "print(ctv)"
   ]
  },
  {
   "cell_type": "code",
   "execution_count": 4,
   "id": "b14dfc43",
   "metadata": {
    "scrolled": true
   },
   "outputs": [
    {
     "name": "stderr",
     "output_type": "stream",
     "text": [
      "Training:   0%|          | 0/50 [00:00<?, ?epochs/s]"
     ]
    },
    {
     "name": "stderr",
     "output_type": "stream",
     "text": [
      "Training: 100%|██████████| 50/50 [00:02<00:00, 17.22epochs/s]"
     ]
    },
    {
     "name": "stdout",
     "output_type": "stream",
     "text": [
      "Validation Accuracy of the model: 96.56%\n",
      "Testing Accuracy of the model: 95.88%\n"
     ]
    },
    {
     "name": "stderr",
     "output_type": "stream",
     "text": [
      "\n"
     ]
    }
   ],
   "source": [
    "test_acc = 0\n",
    "for i in range(10):\n",
    "    np.random.seed(i)\n",
    "    torch.manual_seed(i)\n",
    "    random.seed(i)\n",
    "    h = MLP(3,[3,2])\n",
    "    optimizer = optim.Adam(h.parameters(), lr=0.05, weight_decay=1e-4)\n",
    "    device = 'cpu'\n",
    "    batch_size = 256\n",
    "    n_epochs = 50\n",
    "    test_acc += trainer_h(h, data, optimizer, device, n_epochs, batch_size)\n"
   ]
  },
  {
   "cell_type": "code",
   "execution_count": null,
   "id": "7df45977",
   "metadata": {},
   "outputs": [],
   "source": [
    "print(f'average model testng accuracy is {test_acc:4.2f}% ')"
   ]
  },
  {
   "cell_type": "markdown",
   "id": "521b55a7",
   "metadata": {},
   "source": [
    "### Hyper parameters selection: Logistic\n"
   ]
  },
  {
   "cell_type": "code",
   "execution_count": 5,
   "id": "8cc68e02",
   "metadata": {},
   "outputs": [],
   "source": [
    "def log_model_runner(dataset, hp, seeds, mode='baseline'):\n",
    "    train, val, test = generate_res()\n",
    "\n",
    "    for i in range(len(seeds)):\n",
    "        print('training seed', seeds[i] ,'started')\n",
    "        random.seed(seeds[i])\n",
    "        np.random.seed(seeds[i])\n",
    "        torch.manual_seed(seeds[i]) \n",
    "\n",
    "        model = logReg(dataset.XZ_train.shape[1])\n",
    "        model = model.to(device)\n",
    "        \n",
    "        lr = hp['learning_rate']\n",
    "        optimizer = optim.Adam(model.parameters(), lr=lr, weight_decay=1e-4)\n",
    "        \n",
    "        if mode == 'baseline':\n",
    "            results = trainer_baselines(\n",
    "                model,\n",
    "                h,\n",
    "                dataset,\n",
    "                optimizer,\n",
    "                device,\n",
    "                n_epochs=hp['n_epochs'],\n",
    "                batch_size=hp['batch_size'], \n",
    "                z_blind=False,\n",
    "                metric=hp['metric'], \n",
    "                lambda_=hp['lambda_'],\n",
    "                delta_effort=hp['delta_effort'],\n",
    "                ctv = ctv\n",
    "            )\n",
    "\n",
    "\n",
    "        else:\n",
    "            results = trainer_new(\n",
    "                model,\n",
    "                h,\n",
    "                dataset,\n",
    "                optimizer,\n",
    "                device,\n",
    "                n_epochs=hp['n_epochs'],\n",
    "                batch_size=hp['batch_size'], \n",
    "                z_blind=False,\n",
    "                delta_effort=hp['delta_effort'],\n",
    "                lambda2_ = hp['lambda2'],\n",
    "                lambda3_ = hp['lambda3'],\n",
    "                ctv = ctv,\n",
    "                add_safe = hp['add_safe']\n",
    "            )      \n",
    "        \n",
    "        append_res(train,results.train_imp_all[-1],results.train_imp_a[-1], results.train_imp_b[-1], results.train_safety[-1],results.train_aw_a[-1], results.train_aw_b[-1],results.train_aw_all[-1],results.train_acc_hist[-1],results.train_ei_hist[-1],results.train_be_hist[-1],results.train_dp_hist[-1],results.train_eo_hist[-1],results.train_eodd_hist[-1])\n",
    "        append_res(val,results.val_imp_all,results.val_imp_a, results.val_imp_b, results.val_safety, results.val_aw_a, results.val_aw_b, results.val_aw_all,results.val_acc, results.val_ei,results.val_be,results.val_dp,results.val_eo,results.val_eodd)\n",
    "        append_res(test,results.test_imp_all,results.test_imp_a, results.test_imp_b, results.test_safety, results.test_aw_a, results.test_aw_b, results.test_aw_all, results.test_acc,results.test_ei,results.test_be,results.test_dp,results.test_eo,results.test_eodd)\n",
    "\n",
    "    res_train = get_res(train)\n",
    "    res_val = get_res(val)\n",
    "    res_test = get_res(test)\n",
    "    print('Training finished for all seeds.')\n",
    "    \n",
    "    return res_train, res_val, res_test\n",
    "\n",
    "\n",
    "\n",
    "def log_hyperparameter_test_imp(dataset, hp_test, seed=[0], mode='new'):\n",
    "    hp = hp_test.copy()\n",
    "    result = []\n",
    "    for i in hp_test['learning_rate']:\n",
    "        for k in hp_test['lambda2']:\n",
    "            for j in hp_test['lambda3']:\n",
    "                c = []\n",
    "                hp['learning_rate'] = i\n",
    "                hp['lambda2'] = k\n",
    "                hp['lambda3'] = j\n",
    "                train, val, _ = log_model_runner(dataset, hp, seeds=seed, mode=mode)\n",
    "                c.append(hp['learning_rate'])\n",
    "                c.append(hp['lambda2'])\n",
    "                c.append(hp['lambda3'])\n",
    "                c.append(train['accuracy_mean'])\n",
    "                c.append(val['accuracy_mean'])\n",
    "                c.append(val['imp_all_mean'])\n",
    "                c.append(val['safety_mean'])\n",
    "                c.append(val['swf_mean'])\n",
    "                c.append(val['aw_all_mean'])\n",
    "                c.append(val['ei_mean'])\n",
    "                c.append(val['be_mean'])\n",
    "                c.append(val['dp_mean'])\n",
    "                c.append(val['eo_mean'])\n",
    "                c.append(val['eodd_mean'])\n",
    "                result.append(c)\n",
    "    print(tabulate(result, headers=['learning_rate', 'lambda2_', 'lambda3_','accuracy_train', 'accuracy_val','imp_all','safety','swf',\n",
    "                                    'aw','ei', 'be', 'dp', 'eo', 'eodd']))\n"
   ]
  },
  {
   "cell_type": "code",
   "execution_count": null,
   "id": "d62d50c7",
   "metadata": {},
   "outputs": [],
   "source": [
    "\n",
    "IMP_hp_test = {}\n",
    "IMP_hp_test['learning_rate'] = [0.001,0.01,0.1]\n",
    "IMP_hp_test['lambda2'] = [0,0.1]\n",
    "IMP_hp_test['lambda3'] = [0,0.1]\n",
    "IMP_hp_test['n_epochs'] = 50\n",
    "IMP_hp_test['batch_size'] = 512\n",
    "IMP_hp_test['delta_effort'] = 0.1\n",
    "IMP_hp_test['add_safe'] = True\n",
    "log_hyperparameter_test_imp(data, IMP_hp_test, seed=[0])"
   ]
  },
  {
   "cell_type": "markdown",
   "id": "fd0fec0a",
   "metadata": {},
   "source": [
    "- According to the table, we choose learning rate = 0.01. \n",
    "\n",
    "- Next we test lambda1, lambda2"
   ]
  },
  {
   "cell_type": "markdown",
   "id": "8424dcee",
   "metadata": {},
   "source": [
    "### Testing the influence of lambda1, lambda2\n",
    "\n",
    "- In this section, we make either lambda1, lambda2 0, and inspect the changes of the other parameter"
   ]
  },
  {
   "cell_type": "code",
   "execution_count": 155,
   "id": "91c01244",
   "metadata": {},
   "outputs": [],
   "source": [
    "def log_effect_result(dataset, hp_test, seed=[0], mode='new', prefix = 'lambda1'):\n",
    "    hp = hp_test.copy()\n",
    "    result = {'lambda2':[],'lambda3':[],'DW':[],'DW_var':[],'IMP':[],'IMP_var':[],'SF':[],'SF_var':[],'AW':[],'AW_var':[], 'SWF':[],'SWF_var':[]}\n",
    "    for i in hp_test['lambda2']:\n",
    "        for k in hp_test['lambda3']:\n",
    "            hp['lambda2'] = i\n",
    "            hp['lambda3'] = k\n",
    "            _,_ ,test = log_model_runner(dataset, hp, seeds=seed, mode=mode)\n",
    "            result['lambda2'].append(i)\n",
    "            result['lambda3'].append(k)\n",
    "            result['DW'].append(test['accuracy_mean'])\n",
    "            result['DW_var'].append(test['accuracy_var'])\n",
    "            result['IMP'].append(test['imp_all_mean'])\n",
    "            result['IMP_var'].append(test['imp_all_var'])\n",
    "            result['SF'].append(test['safety_mean'])\n",
    "            result['SF_var'].append(test['safety_var'])\n",
    "            result['SWF'].append(test['swf_mean'])\n",
    "            result['SWF_var'].append(test['swf_var'])                      \n",
    "            result['AW'].append(test['aw_all_mean'])\n",
    "            result['AW_var'].append(test['aw_all_var'])\n",
    "\n",
    "    # write them into a csv for reuse\n",
    "    with open(f'saved_texts/quad_{prefix}.csv', 'w', newline='') as csv_file:\n",
    "        writer = csv.writer(csv_file)\n",
    "    \n",
    "        # Writing headers\n",
    "        headers = [key for key in result.keys()]\n",
    "        writer.writerow(headers)\n",
    "    \n",
    "        # Writing data\n",
    "        for row in zip(*result.values()):\n",
    "            writer.writerow(row)\n",
    "    return result\n",
    "\n",
    " \n",
    "def plot_effect_test(result, content = 'lambda2', ebar=False, pos = 'best', bb = (0,0)):\n",
    "    \"\"\"\n",
    "    plot the effects of lambda2 or lambda3 only using the testing data\n",
    "    specifically, the plot consists of: 1) DW; 2) SWF = imp_all + min(imp_a, imp_b); 3) AW = aw_all\n",
    "    \"\"\"\n",
    "    \n",
    "    plt.figure(figsize = (3,2.5))\n",
    "\n",
    "    if content == 'lambda2':\n",
    "        x = result['lambda2']\n",
    "        plt.xlabel(r'$\\lambda_1$')\n",
    "    else:\n",
    "        x = result['lambda3']\n",
    "        plt.xlabel(r'$\\lambda_2$')\n",
    "\n",
    "    if not ebar:\n",
    "        plt.plot(x,result['DW'], marker = 'o', color = 'red', label = 'DW')\n",
    "        # plt.plot(x,result['IMP'], marker = 'o', color = 'blue', label = 'IMP')\n",
    "        plt.plot(x,result['SWF'], marker = 'o', color = 'green', label = 'SWF')\n",
    "        # plt.plot(x,result['SF'], marker = 'o', color = 'green', label = 'SF')\n",
    "        plt.plot(x,result['AW'], marker = 'o', color = 'black', label = 'AW')\n",
    "        if bb != (0,0):\n",
    "            plt.legend(handlelength=1,bbox_to_anchor=bb)\n",
    "        else:\n",
    "            plt.legend(handlelength=1,loc = pos)\n",
    "        plt.tight_layout()\n",
    "        plt.savefig(f'saved_plots/quad_welfare_vary{content}.pdf')\n",
    "\n",
    "    \n",
    "    else:\n",
    "        plt.errorbar(x,result['DW'], yerr=result['DW_var'],marker = 'o', markersize=3,color = 'red', label = 'DW')\n",
    "        plt.errorbar(x,result['SWF'], yerr=result['SWF_var'],marker = 'o',markersize=3, color = 'green', label = 'SWF')\n",
    "        # plt.errorbar(x,result['IMP'], yerr=result['IMP_var'],marker = 'o', color = 'blue', label = 'IMP')\n",
    "        # plt.errorbar(x,result['SF'], yerr=result['SF_var'],marker = 'o', color = 'green', label = 'SF')\n",
    "        plt.errorbar(x,result['AW'], yerr=result['AW_var'],marker = 'o',markersize=3, color = 'black', label = 'AW')\n",
    "        if bb != (0,0):\n",
    "            plt.legend(handlelength=1,bbox_to_anchor=bb)\n",
    "        else:\n",
    "            plt.legend(handlelength=1,loc = pos)\n",
    "        plt.tight_layout()\n",
    "        plt.savefig(f'saved_plots/ebar_quad_welfare_vary{content}.pdf')\n",
    "\n",
    "        "
   ]
  },
  {
   "cell_type": "code",
   "execution_count": 144,
   "id": "67027c5a",
   "metadata": {},
   "outputs": [
    {
     "name": "stdout",
     "output_type": "stream",
     "text": [
      "training seed 0 started\n"
     ]
    },
    {
     "name": "stderr",
     "output_type": "stream",
     "text": [
      "Training:   0%|          | 0/50 [00:00<?, ?epochs/s]"
     ]
    },
    {
     "name": "stderr",
     "output_type": "stream",
     "text": [
      "Training: 100%|██████████| 50/50 [00:03<00:00, 13.55epochs/s]\n"
     ]
    },
    {
     "name": "stdout",
     "output_type": "stream",
     "text": [
      "training seed 1 started\n"
     ]
    },
    {
     "name": "stderr",
     "output_type": "stream",
     "text": [
      "Training: 100%|██████████| 50/50 [00:03<00:00, 14.79epochs/s]\n"
     ]
    },
    {
     "name": "stdout",
     "output_type": "stream",
     "text": [
      "training seed 2 started\n"
     ]
    },
    {
     "name": "stderr",
     "output_type": "stream",
     "text": [
      "Training: 100%|██████████| 50/50 [00:03<00:00, 15.08epochs/s]\n"
     ]
    },
    {
     "name": "stdout",
     "output_type": "stream",
     "text": [
      "training seed 3 started\n"
     ]
    },
    {
     "name": "stderr",
     "output_type": "stream",
     "text": [
      "Training: 100%|██████████| 50/50 [00:03<00:00, 14.58epochs/s]\n"
     ]
    },
    {
     "name": "stdout",
     "output_type": "stream",
     "text": [
      "training seed 4 started\n"
     ]
    },
    {
     "name": "stderr",
     "output_type": "stream",
     "text": [
      "Training: 100%|██████████| 50/50 [00:03<00:00, 15.09epochs/s]\n"
     ]
    },
    {
     "name": "stdout",
     "output_type": "stream",
     "text": [
      "training seed 5 started\n"
     ]
    },
    {
     "name": "stderr",
     "output_type": "stream",
     "text": [
      "Training: 100%|██████████| 50/50 [00:03<00:00, 15.09epochs/s]\n"
     ]
    },
    {
     "name": "stdout",
     "output_type": "stream",
     "text": [
      "training seed 6 started\n"
     ]
    },
    {
     "name": "stderr",
     "output_type": "stream",
     "text": [
      "Training: 100%|██████████| 50/50 [00:03<00:00, 14.82epochs/s]\n"
     ]
    },
    {
     "name": "stdout",
     "output_type": "stream",
     "text": [
      "Training finished for all seeds.\n",
      "training seed 0 started\n"
     ]
    },
    {
     "name": "stderr",
     "output_type": "stream",
     "text": [
      "Training: 100%|██████████| 50/50 [00:03<00:00, 15.46epochs/s]\n"
     ]
    },
    {
     "name": "stdout",
     "output_type": "stream",
     "text": [
      "training seed 1 started\n"
     ]
    },
    {
     "name": "stderr",
     "output_type": "stream",
     "text": [
      "Training: 100%|██████████| 50/50 [00:03<00:00, 14.82epochs/s]\n"
     ]
    },
    {
     "name": "stdout",
     "output_type": "stream",
     "text": [
      "training seed 2 started\n"
     ]
    },
    {
     "name": "stderr",
     "output_type": "stream",
     "text": [
      "Training: 100%|██████████| 50/50 [00:03<00:00, 14.78epochs/s]\n"
     ]
    },
    {
     "name": "stdout",
     "output_type": "stream",
     "text": [
      "training seed 3 started\n"
     ]
    },
    {
     "name": "stderr",
     "output_type": "stream",
     "text": [
      "Training: 100%|██████████| 50/50 [00:03<00:00, 14.90epochs/s]\n"
     ]
    },
    {
     "name": "stdout",
     "output_type": "stream",
     "text": [
      "training seed 4 started\n"
     ]
    },
    {
     "name": "stderr",
     "output_type": "stream",
     "text": [
      "Training: 100%|██████████| 50/50 [00:03<00:00, 15.16epochs/s]\n"
     ]
    },
    {
     "name": "stdout",
     "output_type": "stream",
     "text": [
      "training seed 5 started\n"
     ]
    },
    {
     "name": "stderr",
     "output_type": "stream",
     "text": [
      "Training: 100%|██████████| 50/50 [00:03<00:00, 14.88epochs/s]\n"
     ]
    },
    {
     "name": "stdout",
     "output_type": "stream",
     "text": [
      "training seed 6 started\n"
     ]
    },
    {
     "name": "stderr",
     "output_type": "stream",
     "text": [
      "Training: 100%|██████████| 50/50 [00:03<00:00, 14.58epochs/s]\n"
     ]
    },
    {
     "name": "stdout",
     "output_type": "stream",
     "text": [
      "Training finished for all seeds.\n",
      "training seed 0 started\n"
     ]
    },
    {
     "name": "stderr",
     "output_type": "stream",
     "text": [
      "Training: 100%|██████████| 50/50 [00:03<00:00, 15.04epochs/s]\n"
     ]
    },
    {
     "name": "stdout",
     "output_type": "stream",
     "text": [
      "training seed 1 started\n"
     ]
    },
    {
     "name": "stderr",
     "output_type": "stream",
     "text": [
      "Training: 100%|██████████| 50/50 [00:03<00:00, 15.16epochs/s]\n"
     ]
    },
    {
     "name": "stdout",
     "output_type": "stream",
     "text": [
      "training seed 2 started\n"
     ]
    },
    {
     "name": "stderr",
     "output_type": "stream",
     "text": [
      "Training: 100%|██████████| 50/50 [00:03<00:00, 14.77epochs/s]\n"
     ]
    },
    {
     "name": "stdout",
     "output_type": "stream",
     "text": [
      "training seed 3 started\n"
     ]
    },
    {
     "name": "stderr",
     "output_type": "stream",
     "text": [
      "Training: 100%|██████████| 50/50 [00:03<00:00, 15.09epochs/s]\n"
     ]
    },
    {
     "name": "stdout",
     "output_type": "stream",
     "text": [
      "training seed 4 started\n"
     ]
    },
    {
     "name": "stderr",
     "output_type": "stream",
     "text": [
      "Training: 100%|██████████| 50/50 [00:03<00:00, 14.94epochs/s]\n"
     ]
    },
    {
     "name": "stdout",
     "output_type": "stream",
     "text": [
      "training seed 5 started\n"
     ]
    },
    {
     "name": "stderr",
     "output_type": "stream",
     "text": [
      "Training: 100%|██████████| 50/50 [00:03<00:00, 15.10epochs/s]\n"
     ]
    },
    {
     "name": "stdout",
     "output_type": "stream",
     "text": [
      "training seed 6 started\n"
     ]
    },
    {
     "name": "stderr",
     "output_type": "stream",
     "text": [
      "Training: 100%|██████████| 50/50 [00:03<00:00, 14.97epochs/s]\n"
     ]
    },
    {
     "name": "stdout",
     "output_type": "stream",
     "text": [
      "Training finished for all seeds.\n",
      "training seed 0 started\n"
     ]
    },
    {
     "name": "stderr",
     "output_type": "stream",
     "text": [
      "Training: 100%|██████████| 50/50 [00:03<00:00, 15.01epochs/s]\n"
     ]
    },
    {
     "name": "stdout",
     "output_type": "stream",
     "text": [
      "training seed 1 started\n"
     ]
    },
    {
     "name": "stderr",
     "output_type": "stream",
     "text": [
      "Training: 100%|██████████| 50/50 [00:03<00:00, 14.63epochs/s]\n"
     ]
    },
    {
     "name": "stdout",
     "output_type": "stream",
     "text": [
      "training seed 2 started\n"
     ]
    },
    {
     "name": "stderr",
     "output_type": "stream",
     "text": [
      "Training: 100%|██████████| 50/50 [00:03<00:00, 15.33epochs/s]\n"
     ]
    },
    {
     "name": "stdout",
     "output_type": "stream",
     "text": [
      "training seed 3 started\n"
     ]
    },
    {
     "name": "stderr",
     "output_type": "stream",
     "text": [
      "Training: 100%|██████████| 50/50 [00:03<00:00, 15.05epochs/s]\n"
     ]
    },
    {
     "name": "stdout",
     "output_type": "stream",
     "text": [
      "training seed 4 started\n"
     ]
    },
    {
     "name": "stderr",
     "output_type": "stream",
     "text": [
      "Training: 100%|██████████| 50/50 [00:03<00:00, 15.07epochs/s]\n"
     ]
    },
    {
     "name": "stdout",
     "output_type": "stream",
     "text": [
      "training seed 5 started\n"
     ]
    },
    {
     "name": "stderr",
     "output_type": "stream",
     "text": [
      "Training: 100%|██████████| 50/50 [00:03<00:00, 15.43epochs/s]\n"
     ]
    },
    {
     "name": "stdout",
     "output_type": "stream",
     "text": [
      "training seed 6 started\n"
     ]
    },
    {
     "name": "stderr",
     "output_type": "stream",
     "text": [
      "Training: 100%|██████████| 50/50 [00:03<00:00, 14.79epochs/s]\n"
     ]
    },
    {
     "name": "stdout",
     "output_type": "stream",
     "text": [
      "Training finished for all seeds.\n",
      "training seed 0 started\n"
     ]
    },
    {
     "name": "stderr",
     "output_type": "stream",
     "text": [
      "Training: 100%|██████████| 50/50 [00:03<00:00, 14.54epochs/s]\n"
     ]
    },
    {
     "name": "stdout",
     "output_type": "stream",
     "text": [
      "training seed 1 started\n"
     ]
    },
    {
     "name": "stderr",
     "output_type": "stream",
     "text": [
      "Training: 100%|██████████| 50/50 [00:03<00:00, 14.83epochs/s]\n"
     ]
    },
    {
     "name": "stdout",
     "output_type": "stream",
     "text": [
      "training seed 2 started\n"
     ]
    },
    {
     "name": "stderr",
     "output_type": "stream",
     "text": [
      "Training: 100%|██████████| 50/50 [00:03<00:00, 15.38epochs/s]\n"
     ]
    },
    {
     "name": "stdout",
     "output_type": "stream",
     "text": [
      "training seed 3 started\n"
     ]
    },
    {
     "name": "stderr",
     "output_type": "stream",
     "text": [
      "Training: 100%|██████████| 50/50 [00:03<00:00, 14.91epochs/s]\n"
     ]
    },
    {
     "name": "stdout",
     "output_type": "stream",
     "text": [
      "training seed 4 started\n"
     ]
    },
    {
     "name": "stderr",
     "output_type": "stream",
     "text": [
      "Training: 100%|██████████| 50/50 [00:03<00:00, 14.39epochs/s]\n"
     ]
    },
    {
     "name": "stdout",
     "output_type": "stream",
     "text": [
      "training seed 5 started\n"
     ]
    },
    {
     "name": "stderr",
     "output_type": "stream",
     "text": [
      "Training: 100%|██████████| 50/50 [00:03<00:00, 15.38epochs/s]\n"
     ]
    },
    {
     "name": "stdout",
     "output_type": "stream",
     "text": [
      "training seed 6 started\n"
     ]
    },
    {
     "name": "stderr",
     "output_type": "stream",
     "text": [
      "Training: 100%|██████████| 50/50 [00:03<00:00, 14.52epochs/s]"
     ]
    },
    {
     "name": "stdout",
     "output_type": "stream",
     "text": [
      "Training finished for all seeds.\n"
     ]
    },
    {
     "name": "stderr",
     "output_type": "stream",
     "text": [
      "\n"
     ]
    }
   ],
   "source": [
    "IMP_hp_test = {}\n",
    "IMP_hp_test['learning_rate'] = 0.01\n",
    "IMP_hp_test['lambda2'] = np.linspace(0,2,5)\n",
    "IMP_hp_test['lambda3'] = [0]\n",
    "IMP_hp_test['n_epochs'] = 50\n",
    "IMP_hp_test['batch_size'] = 512\n",
    "IMP_hp_test['delta_effort'] = 0.1\n",
    "IMP_hp_test['add_safe'] = True\n",
    "res_l1 = log_effect_result(data, IMP_hp_test, seed=[0,1,2,3,4,5,6], mode='new')\n",
    "\n",
    "IMP_hp_test = {}\n",
    "IMP_hp_test['learning_rate'] = 0.01\n",
    "IMP_hp_test['lambda2'] = [0]\n",
    "IMP_hp_test['lambda3'] = np.linspace(0,2,5)\n",
    "IMP_hp_test['n_epochs'] = 50\n",
    "IMP_hp_test['batch_size'] = 512\n",
    "IMP_hp_test['delta_effort'] = 0.1\n",
    "IMP_hp_test['add_safe'] = True\n",
    "res_l2 = log_effect_result(data, IMP_hp_test, seed=[0,1,2,3,4,5,6], mode='new',prefix='lambda2')"
   ]
  },
  {
   "cell_type": "code",
   "execution_count": 156,
   "id": "56e9241d",
   "metadata": {},
   "outputs": [
    {
     "data": {
      "image/png": "[encoded data removed]",
      "text/plain": [
       "<Figure size 300x250 with 1 Axes>"
      ]
     },
     "metadata": {},
     "output_type": "display_data"
    }
   ],
   "source": [
    "# plot dw, swf, aw relative to lambda1\n",
    "plot_effect_test(res_l1, ebar=True,bb = (0.4,0.9))"
   ]
  },
  {
   "cell_type": "code",
   "execution_count": 157,
   "id": "3aefbbca",
   "metadata": {},
   "outputs": [
    {
     "data": {
      "image/png": "[encoded data removed]",
      "text/plain": [
       "<Figure size 300x250 with 1 Axes>"
      ]
     },
     "metadata": {},
     "output_type": "display_data"
    }
   ],
   "source": [
    "# plot dw, swf, aw relative to lambda2\n",
    "plot_effect_test(res_l2, content='lambda3',ebar=True,bb=(0.4,0.9))"
   ]
  },
  {
   "cell_type": "markdown",
   "id": "8e020252",
   "metadata": {},
   "source": [
    "- The results show that when other hyper parameters are fixed, increasing either $\\lambda_1, \\lambda_2$ incur expected outcomes\n",
    "\n"
   ]
  },
  {
   "cell_type": "markdown",
   "id": "c90b0d9f",
   "metadata": {},
   "source": [
    "### Separately testing IMP and SF\n",
    "\n",
    "In above 2 plots, we can see the tradeoff between dw, swf and aw. The confliction between SWF and AW seem to be smaller than other pairs\n",
    "\n",
    "Now, specifically, if we change the objective of SWF to only include IMP, will safety be sacrificed?\n"
   ]
  },
  {
   "cell_type": "code",
   "execution_count": 126,
   "id": "ad079102",
   "metadata": {},
   "outputs": [
    {
     "name": "stdout",
     "output_type": "stream",
     "text": [
      "training seed 0 started\n"
     ]
    },
    {
     "name": "stderr",
     "output_type": "stream",
     "text": [
      "Training: 100%|██████████| 50/50 [00:03<00:00, 14.45epochs/s]\n"
     ]
    },
    {
     "name": "stdout",
     "output_type": "stream",
     "text": [
      "training seed 1 started\n"
     ]
    },
    {
     "name": "stderr",
     "output_type": "stream",
     "text": [
      "Training: 100%|██████████| 50/50 [00:03<00:00, 13.29epochs/s]\n"
     ]
    },
    {
     "name": "stdout",
     "output_type": "stream",
     "text": [
      "training seed 2 started\n"
     ]
    },
    {
     "name": "stderr",
     "output_type": "stream",
     "text": [
      "Training: 100%|██████████| 50/50 [00:03<00:00, 12.74epochs/s]\n"
     ]
    },
    {
     "name": "stdout",
     "output_type": "stream",
     "text": [
      "training seed 3 started\n"
     ]
    },
    {
     "name": "stderr",
     "output_type": "stream",
     "text": [
      "Training: 100%|██████████| 50/50 [00:03<00:00, 13.54epochs/s]\n"
     ]
    },
    {
     "name": "stdout",
     "output_type": "stream",
     "text": [
      "training seed 4 started\n"
     ]
    },
    {
     "name": "stderr",
     "output_type": "stream",
     "text": [
      "Training: 100%|██████████| 50/50 [00:03<00:00, 14.30epochs/s]\n"
     ]
    },
    {
     "name": "stdout",
     "output_type": "stream",
     "text": [
      "training seed 5 started\n"
     ]
    },
    {
     "name": "stderr",
     "output_type": "stream",
     "text": [
      "Training: 100%|██████████| 50/50 [00:03<00:00, 14.41epochs/s]\n"
     ]
    },
    {
     "name": "stdout",
     "output_type": "stream",
     "text": [
      "training seed 6 started\n"
     ]
    },
    {
     "name": "stderr",
     "output_type": "stream",
     "text": [
      "Training: 100%|██████████| 50/50 [00:03<00:00, 13.86epochs/s]\n"
     ]
    },
    {
     "name": "stdout",
     "output_type": "stream",
     "text": [
      "Training finished for all seeds.\n",
      "training seed 0 started\n"
     ]
    },
    {
     "name": "stderr",
     "output_type": "stream",
     "text": [
      "Training: 100%|██████████| 50/50 [00:03<00:00, 14.49epochs/s]\n"
     ]
    },
    {
     "name": "stdout",
     "output_type": "stream",
     "text": [
      "training seed 1 started\n"
     ]
    },
    {
     "name": "stderr",
     "output_type": "stream",
     "text": [
      "Training: 100%|██████████| 50/50 [00:03<00:00, 14.51epochs/s]\n"
     ]
    },
    {
     "name": "stdout",
     "output_type": "stream",
     "text": [
      "training seed 2 started\n"
     ]
    },
    {
     "name": "stderr",
     "output_type": "stream",
     "text": [
      "Training: 100%|██████████| 50/50 [00:03<00:00, 14.05epochs/s]\n"
     ]
    },
    {
     "name": "stdout",
     "output_type": "stream",
     "text": [
      "training seed 3 started\n"
     ]
    },
    {
     "name": "stderr",
     "output_type": "stream",
     "text": [
      "Training: 100%|██████████| 50/50 [00:03<00:00, 14.22epochs/s]\n"
     ]
    },
    {
     "name": "stdout",
     "output_type": "stream",
     "text": [
      "training seed 4 started\n"
     ]
    },
    {
     "name": "stderr",
     "output_type": "stream",
     "text": [
      "Training: 100%|██████████| 50/50 [00:03<00:00, 14.38epochs/s]\n"
     ]
    },
    {
     "name": "stdout",
     "output_type": "stream",
     "text": [
      "training seed 5 started\n"
     ]
    },
    {
     "name": "stderr",
     "output_type": "stream",
     "text": [
      "Training: 100%|██████████| 50/50 [00:03<00:00, 12.80epochs/s]\n"
     ]
    },
    {
     "name": "stdout",
     "output_type": "stream",
     "text": [
      "training seed 6 started\n"
     ]
    },
    {
     "name": "stderr",
     "output_type": "stream",
     "text": [
      "Training: 100%|██████████| 50/50 [00:03<00:00, 14.03epochs/s]\n"
     ]
    },
    {
     "name": "stdout",
     "output_type": "stream",
     "text": [
      "Training finished for all seeds.\n",
      "training seed 0 started\n"
     ]
    },
    {
     "name": "stderr",
     "output_type": "stream",
     "text": [
      "Training: 100%|██████████| 50/50 [00:03<00:00, 14.78epochs/s]\n"
     ]
    },
    {
     "name": "stdout",
     "output_type": "stream",
     "text": [
      "training seed 1 started\n"
     ]
    },
    {
     "name": "stderr",
     "output_type": "stream",
     "text": [
      "Training: 100%|██████████| 50/50 [00:03<00:00, 14.86epochs/s]\n"
     ]
    },
    {
     "name": "stdout",
     "output_type": "stream",
     "text": [
      "training seed 2 started\n"
     ]
    },
    {
     "name": "stderr",
     "output_type": "stream",
     "text": [
      "Training: 100%|██████████| 50/50 [00:03<00:00, 14.75epochs/s]\n"
     ]
    },
    {
     "name": "stdout",
     "output_type": "stream",
     "text": [
      "training seed 3 started\n"
     ]
    },
    {
     "name": "stderr",
     "output_type": "stream",
     "text": [
      "Training: 100%|██████████| 50/50 [00:03<00:00, 13.72epochs/s]\n"
     ]
    },
    {
     "name": "stdout",
     "output_type": "stream",
     "text": [
      "training seed 4 started\n"
     ]
    },
    {
     "name": "stderr",
     "output_type": "stream",
     "text": [
      "Training: 100%|██████████| 50/50 [00:03<00:00, 14.64epochs/s]\n"
     ]
    },
    {
     "name": "stdout",
     "output_type": "stream",
     "text": [
      "training seed 5 started\n"
     ]
    },
    {
     "name": "stderr",
     "output_type": "stream",
     "text": [
      "Training: 100%|██████████| 50/50 [00:03<00:00, 14.33epochs/s]\n"
     ]
    },
    {
     "name": "stdout",
     "output_type": "stream",
     "text": [
      "training seed 6 started\n"
     ]
    },
    {
     "name": "stderr",
     "output_type": "stream",
     "text": [
      "Training: 100%|██████████| 50/50 [00:03<00:00, 14.82epochs/s]\n"
     ]
    },
    {
     "name": "stdout",
     "output_type": "stream",
     "text": [
      "Training finished for all seeds.\n",
      "training seed 0 started\n"
     ]
    },
    {
     "name": "stderr",
     "output_type": "stream",
     "text": [
      "Training: 100%|██████████| 50/50 [00:03<00:00, 14.80epochs/s]\n"
     ]
    },
    {
     "name": "stdout",
     "output_type": "stream",
     "text": [
      "training seed 1 started\n"
     ]
    },
    {
     "name": "stderr",
     "output_type": "stream",
     "text": [
      "Training: 100%|██████████| 50/50 [00:03<00:00, 14.10epochs/s]\n"
     ]
    },
    {
     "name": "stdout",
     "output_type": "stream",
     "text": [
      "training seed 2 started\n"
     ]
    },
    {
     "name": "stderr",
     "output_type": "stream",
     "text": [
      "Training: 100%|██████████| 50/50 [00:03<00:00, 14.73epochs/s]\n"
     ]
    },
    {
     "name": "stdout",
     "output_type": "stream",
     "text": [
      "training seed 3 started\n"
     ]
    },
    {
     "name": "stderr",
     "output_type": "stream",
     "text": [
      "Training: 100%|██████████| 50/50 [00:03<00:00, 14.95epochs/s]\n"
     ]
    },
    {
     "name": "stdout",
     "output_type": "stream",
     "text": [
      "training seed 4 started\n"
     ]
    },
    {
     "name": "stderr",
     "output_type": "stream",
     "text": [
      "Training: 100%|██████████| 50/50 [00:03<00:00, 13.93epochs/s]\n"
     ]
    },
    {
     "name": "stdout",
     "output_type": "stream",
     "text": [
      "training seed 5 started\n"
     ]
    },
    {
     "name": "stderr",
     "output_type": "stream",
     "text": [
      "Training: 100%|██████████| 50/50 [00:03<00:00, 14.59epochs/s]\n"
     ]
    },
    {
     "name": "stdout",
     "output_type": "stream",
     "text": [
      "training seed 6 started\n"
     ]
    },
    {
     "name": "stderr",
     "output_type": "stream",
     "text": [
      "Training: 100%|██████████| 50/50 [00:03<00:00, 14.25epochs/s]\n"
     ]
    },
    {
     "name": "stdout",
     "output_type": "stream",
     "text": [
      "Training finished for all seeds.\n",
      "training seed 0 started\n"
     ]
    },
    {
     "name": "stderr",
     "output_type": "stream",
     "text": [
      "Training: 100%|██████████| 50/50 [00:03<00:00, 14.10epochs/s]\n"
     ]
    },
    {
     "name": "stdout",
     "output_type": "stream",
     "text": [
      "training seed 1 started\n"
     ]
    },
    {
     "name": "stderr",
     "output_type": "stream",
     "text": [
      "Training: 100%|██████████| 50/50 [00:03<00:00, 14.87epochs/s]\n"
     ]
    },
    {
     "name": "stdout",
     "output_type": "stream",
     "text": [
      "training seed 2 started\n"
     ]
    },
    {
     "name": "stderr",
     "output_type": "stream",
     "text": [
      "Training: 100%|██████████| 50/50 [00:03<00:00, 15.17epochs/s]\n"
     ]
    },
    {
     "name": "stdout",
     "output_type": "stream",
     "text": [
      "training seed 3 started\n"
     ]
    },
    {
     "name": "stderr",
     "output_type": "stream",
     "text": [
      "Training: 100%|██████████| 50/50 [00:03<00:00, 14.41epochs/s]\n"
     ]
    },
    {
     "name": "stdout",
     "output_type": "stream",
     "text": [
      "training seed 4 started\n"
     ]
    },
    {
     "name": "stderr",
     "output_type": "stream",
     "text": [
      "Training: 100%|██████████| 50/50 [00:03<00:00, 14.88epochs/s]\n"
     ]
    },
    {
     "name": "stdout",
     "output_type": "stream",
     "text": [
      "training seed 5 started\n"
     ]
    },
    {
     "name": "stderr",
     "output_type": "stream",
     "text": [
      "Training: 100%|██████████| 50/50 [00:03<00:00, 14.87epochs/s]\n"
     ]
    },
    {
     "name": "stdout",
     "output_type": "stream",
     "text": [
      "training seed 6 started\n"
     ]
    },
    {
     "name": "stderr",
     "output_type": "stream",
     "text": [
      "Training: 100%|██████████| 50/50 [00:03<00:00, 14.89epochs/s]"
     ]
    },
    {
     "name": "stdout",
     "output_type": "stream",
     "text": [
      "Training finished for all seeds.\n"
     ]
    },
    {
     "name": "stderr",
     "output_type": "stream",
     "text": [
      "\n"
     ]
    }
   ],
   "source": [
    "IMP_hp_test = {}\n",
    "IMP_hp_test['learning_rate'] = 0.01\n",
    "IMP_hp_test['lambda2'] = np.linspace(0,2,5)\n",
    "IMP_hp_test['lambda3'] = [0]\n",
    "IMP_hp_test['n_epochs'] = 50\n",
    "IMP_hp_test['batch_size'] = 512\n",
    "IMP_hp_test['delta_effort'] = 0.1\n",
    "IMP_hp_test['add_safe'] = False\n",
    "res_l3 = log_effect_result(data, IMP_hp_test, seed=[0,1,2,3,4,5,6], mode='new')"
   ]
  },
  {
   "cell_type": "code",
   "execution_count": 127,
   "id": "2b3a2bf6",
   "metadata": {},
   "outputs": [],
   "source": [
    "def plot_imp_safe(res1, res2, ebar=False, pos = 'best', bb = (0,0)):\n",
    "    \"\"\"\n",
    "    plot the effects of lambda2 or lambda3 only using the testing data\n",
    "    specifically, the plot consists of: 1) DW; 2) SWF = imp_all + min(imp_a, imp_b); 3) AW = aw_all\n",
    "    \"\"\"\n",
    "    \n",
    "    plt.figure(figsize = (4,3))\n",
    "\n",
    "    x = res1['lambda2']\n",
    "    plt.xlabel(r'$\\lambda_1$')\n",
    "    plt.ylabel('SF')\n",
    "\n",
    "    if not ebar:\n",
    "        plt.plot(x,res1['SF'], marker = 'o', color = 'blue', label = r'$L_{SWF} = L_{IMP} + L_{SF}$')\n",
    "        plt.plot(x,res2['SF'], marker = 's', color = 'red', label = r'$L_{SWF} = L_{IMP}$')\n",
    "        if bb != (0,0):\n",
    "            plt.legend(handlelength=1,bbox_to_anchor=bb)\n",
    "        else:\n",
    "            plt.legend(handlelength=1,loc = pos)\n",
    "        plt.tight_layout()\n",
    "        plt.savefig(f'saved_plots/quad_imp_sf.pdf')\n",
    "\n",
    "    \n",
    "    else:\n",
    "        plt.errorbar(x,res1['SF'], yerr=res1['SF_var'],marker = 'o', color = 'blue', label = 'IMP')\n",
    "        plt.errorbar(x,res2['SF'], yerr=res2['SF_var'],marker = 's', color = 'red', label = 'SF')\n",
    "        if bb != (0,0):\n",
    "            plt.legend(handlelength=1,bbox_to_anchor=bb)\n",
    "        else:\n",
    "            plt.legend(handlelength=1,loc = pos)\n",
    "        plt.tight_layout()\n",
    "        plt.savefig(f'saved_plots/ebar_quad_imp_sf.pdf')"
   ]
  },
  {
   "cell_type": "code",
   "execution_count": 153,
   "id": "4d929a4a",
   "metadata": {},
   "outputs": [
    {
     "data": {
      "image/png": "[encoded data removed]",
      "text/plain": [
       "<Figure size 400x300 with 1 Axes>"
      ]
     },
     "metadata": {},
     "output_type": "display_data"
    }
   ],
   "source": [
    "plot_imp_safe(res_l1, res_l3, ebar=True)"
   ]
  },
  {
   "cell_type": "markdown",
   "id": "82c091c1",
   "metadata": {},
   "source": [
    "### Select the best policy $f$ by summing all welfare up"
   ]
  },
  {
   "cell_type": "code",
   "execution_count": null,
   "id": "8d171a56",
   "metadata": {},
   "outputs": [],
   "source": [
    "def log_best_test(dataset, hp_test, seed=[0], mode='new'):\n",
    "    hp = hp_test.copy()\n",
    "    result = []\n",
    "    for i in hp_test['learning_rate']:\n",
    "        for k in hp_test['lambda2']:\n",
    "            for j in hp_test['lambda3']:\n",
    "                c = []\n",
    "                hp['learning_rate'] = i\n",
    "                hp['lambda2'] = k\n",
    "                hp['lambda3'] = j\n",
    "                train, val, _ = log_model_runner(dataset, hp, seeds=seed, mode=mode)\n",
    "                c.append(hp['learning_rate'])\n",
    "                c.append(hp['lambda2'])\n",
    "                c.append(hp['lambda3'])\n",
    "                c.append(train['accuracy_mean'])\n",
    "                c.append(val['accuracy_mean'])\n",
    "                c.append(val['swf_mean'])\n",
    "                c.append(val['aw_all_mean'])\n",
    "                c.append(val['aw_all_mean'] + val['swf_mean'] + val['accuracy_mean'])\n",
    "                result.append(c)\n",
    "    print(tabulate(result, headers=['learning_rate', 'lambda2_', 'lambda3_','accuracy_train', 'accuracy_val','swf',\n",
    "                                    'aw','total_welfare']))"
   ]
  },
  {
   "cell_type": "code",
   "execution_count": null,
   "id": "04e6178c",
   "metadata": {},
   "outputs": [],
   "source": [
    "IMP_hp_test = {}\n",
    "IMP_hp_test['learning_rate'] = [0.01]\n",
    "IMP_hp_test['lambda2'] = np.linspace(0,2,6)\n",
    "IMP_hp_test['lambda3'] = np.linspace(0,2,6)\n",
    "IMP_hp_test['n_epochs'] = 50\n",
    "IMP_hp_test['batch_size'] = 512\n",
    "IMP_hp_test['delta_effort'] = 0.1\n",
    "IMP_hp_test['add_safe'] = True\n",
    "log_best_test(data, IMP_hp_test, seed=[0])"
   ]
  },
  {
   "cell_type": "markdown",
   "id": "e0623e49",
   "metadata": {},
   "source": [
    "Thus, we finally select learning rate = 0.01, lambda1 = 0.4, lambda2 = 0.8 with total welfare = 0.98"
   ]
  },
  {
   "cell_type": "markdown",
   "id": "85b6d95d",
   "metadata": {},
   "source": [
    "### Compare with other algos"
   ]
  },
  {
   "cell_type": "markdown",
   "id": "0e0e19ef",
   "metadata": {},
   "source": [
    "### Final test different policies: \n",
    "- StratWelfare: learning rate = 0.01, lambda1 = 0.4, lambda2 = 0.8\n",
    "- Model = ERM, EI, BE, Safe\n",
    "- EI, BE, Safe: lambda_ = 0.1 "
   ]
  },
  {
   "cell_type": "code",
   "execution_count": 6,
   "id": "7d74846d",
   "metadata": {},
   "outputs": [
    {
     "name": "stdout",
     "output_type": "stream",
     "text": [
      "training seed 0 started\n"
     ]
    },
    {
     "name": "stderr",
     "output_type": "stream",
     "text": [
      "Training:   0%|          | 0/50 [00:00<?, ?epochs/s]/Users/tianxie/opt/anaconda3/lib/python3.9/site-packages/numpy/core/fromnumeric.py:3440: RuntimeWarning: Mean of empty slice.\n",
      "  return _methods._mean(a, axis=axis, dtype=dtype,\n",
      "/Users/tianxie/opt/anaconda3/lib/python3.9/site-packages/numpy/core/_methods.py:189: RuntimeWarning: invalid value encountered in double_scalars\n",
      "  ret = ret.dtype.type(ret / rcount)\n",
      "Training: 100%|██████████| 50/50 [00:02<00:00, 16.97epochs/s]\n"
     ]
    },
    {
     "name": "stdout",
     "output_type": "stream",
     "text": [
      "training seed 1 started\n"
     ]
    },
    {
     "name": "stderr",
     "output_type": "stream",
     "text": [
      "Training: 100%|██████████| 50/50 [00:02<00:00, 18.26epochs/s]\n"
     ]
    },
    {
     "name": "stdout",
     "output_type": "stream",
     "text": [
      "training seed 2 started\n"
     ]
    },
    {
     "name": "stderr",
     "output_type": "stream",
     "text": [
      "Training: 100%|██████████| 50/50 [00:02<00:00, 18.33epochs/s]\n"
     ]
    },
    {
     "name": "stdout",
     "output_type": "stream",
     "text": [
      "training seed 3 started\n"
     ]
    },
    {
     "name": "stderr",
     "output_type": "stream",
     "text": [
      "Training: 100%|██████████| 50/50 [00:02<00:00, 18.55epochs/s]\n"
     ]
    },
    {
     "name": "stdout",
     "output_type": "stream",
     "text": [
      "training seed 4 started\n"
     ]
    },
    {
     "name": "stderr",
     "output_type": "stream",
     "text": [
      "Training: 100%|██████████| 50/50 [00:02<00:00, 18.36epochs/s]\n"
     ]
    },
    {
     "name": "stdout",
     "output_type": "stream",
     "text": [
      "training seed 5 started\n"
     ]
    },
    {
     "name": "stderr",
     "output_type": "stream",
     "text": [
      "Training: 100%|██████████| 50/50 [00:02<00:00, 18.82epochs/s]\n"
     ]
    },
    {
     "name": "stdout",
     "output_type": "stream",
     "text": [
      "training seed 6 started\n"
     ]
    },
    {
     "name": "stderr",
     "output_type": "stream",
     "text": [
      "Training: 100%|██████████| 50/50 [00:02<00:00, 18.77epochs/s]\n"
     ]
    },
    {
     "name": "stdout",
     "output_type": "stream",
     "text": [
      "training seed 7 started\n"
     ]
    },
    {
     "name": "stderr",
     "output_type": "stream",
     "text": [
      "Training: 100%|██████████| 50/50 [00:02<00:00, 18.62epochs/s]\n"
     ]
    },
    {
     "name": "stdout",
     "output_type": "stream",
     "text": [
      "training seed 8 started\n"
     ]
    },
    {
     "name": "stderr",
     "output_type": "stream",
     "text": [
      "Training: 100%|██████████| 50/50 [00:02<00:00, 18.08epochs/s]\n"
     ]
    },
    {
     "name": "stdout",
     "output_type": "stream",
     "text": [
      "training seed 9 started\n"
     ]
    },
    {
     "name": "stderr",
     "output_type": "stream",
     "text": [
      "Training: 100%|██████████| 50/50 [00:02<00:00, 18.47epochs/s]\n"
     ]
    },
    {
     "name": "stdout",
     "output_type": "stream",
     "text": [
      "training seed 10 started\n"
     ]
    },
    {
     "name": "stderr",
     "output_type": "stream",
     "text": [
      "Training: 100%|██████████| 50/50 [00:02<00:00, 18.65epochs/s]\n"
     ]
    },
    {
     "name": "stdout",
     "output_type": "stream",
     "text": [
      "training seed 11 started\n"
     ]
    },
    {
     "name": "stderr",
     "output_type": "stream",
     "text": [
      "Training: 100%|██████████| 50/50 [00:02<00:00, 18.59epochs/s]\n"
     ]
    },
    {
     "name": "stdout",
     "output_type": "stream",
     "text": [
      "training seed 12 started\n"
     ]
    },
    {
     "name": "stderr",
     "output_type": "stream",
     "text": [
      "Training: 100%|██████████| 50/50 [00:02<00:00, 18.29epochs/s]\n"
     ]
    },
    {
     "name": "stdout",
     "output_type": "stream",
     "text": [
      "training seed 13 started\n"
     ]
    },
    {
     "name": "stderr",
     "output_type": "stream",
     "text": [
      "Training: 100%|██████████| 50/50 [00:02<00:00, 18.00epochs/s]\n"
     ]
    },
    {
     "name": "stdout",
     "output_type": "stream",
     "text": [
      "training seed 14 started\n"
     ]
    },
    {
     "name": "stderr",
     "output_type": "stream",
     "text": [
      "Training: 100%|██████████| 50/50 [00:02<00:00, 18.34epochs/s]\n"
     ]
    },
    {
     "name": "stdout",
     "output_type": "stream",
     "text": [
      "training seed 15 started\n"
     ]
    },
    {
     "name": "stderr",
     "output_type": "stream",
     "text": [
      "Training: 100%|██████████| 50/50 [00:02<00:00, 18.42epochs/s]\n"
     ]
    },
    {
     "name": "stdout",
     "output_type": "stream",
     "text": [
      "training seed 16 started\n"
     ]
    },
    {
     "name": "stderr",
     "output_type": "stream",
     "text": [
      "Training: 100%|██████████| 50/50 [00:02<00:00, 18.83epochs/s]\n"
     ]
    },
    {
     "name": "stdout",
     "output_type": "stream",
     "text": [
      "training seed 17 started\n"
     ]
    },
    {
     "name": "stderr",
     "output_type": "stream",
     "text": [
      "Training: 100%|██████████| 50/50 [00:02<00:00, 18.28epochs/s]\n"
     ]
    },
    {
     "name": "stdout",
     "output_type": "stream",
     "text": [
      "training seed 18 started\n"
     ]
    },
    {
     "name": "stderr",
     "output_type": "stream",
     "text": [
      "Training: 100%|██████████| 50/50 [00:02<00:00, 18.57epochs/s]\n"
     ]
    },
    {
     "name": "stdout",
     "output_type": "stream",
     "text": [
      "training seed 19 started\n"
     ]
    },
    {
     "name": "stderr",
     "output_type": "stream",
     "text": [
      "Training: 100%|██████████| 50/50 [00:02<00:00, 18.73epochs/s]\n"
     ]
    },
    {
     "name": "stdout",
     "output_type": "stream",
     "text": [
      "Training finished for all seeds.\n",
      "training seed 0 started\n"
     ]
    },
    {
     "name": "stderr",
     "output_type": "stream",
     "text": [
      "Training: 100%|██████████| 50/50 [00:03<00:00, 14.48epochs/s]\n"
     ]
    },
    {
     "name": "stdout",
     "output_type": "stream",
     "text": [
      "training seed 1 started\n"
     ]
    },
    {
     "name": "stderr",
     "output_type": "stream",
     "text": [
      "Training: 100%|██████████| 50/50 [00:03<00:00, 14.52epochs/s]\n"
     ]
    },
    {
     "name": "stdout",
     "output_type": "stream",
     "text": [
      "training seed 2 started\n"
     ]
    },
    {
     "name": "stderr",
     "output_type": "stream",
     "text": [
      "Training: 100%|██████████| 50/50 [00:03<00:00, 14.26epochs/s]\n"
     ]
    },
    {
     "name": "stdout",
     "output_type": "stream",
     "text": [
      "training seed 3 started\n"
     ]
    },
    {
     "name": "stderr",
     "output_type": "stream",
     "text": [
      "Training: 100%|██████████| 50/50 [00:03<00:00, 13.86epochs/s]\n"
     ]
    },
    {
     "name": "stdout",
     "output_type": "stream",
     "text": [
      "training seed 4 started\n"
     ]
    },
    {
     "name": "stderr",
     "output_type": "stream",
     "text": [
      "Training: 100%|██████████| 50/50 [00:03<00:00, 14.58epochs/s]\n"
     ]
    },
    {
     "name": "stdout",
     "output_type": "stream",
     "text": [
      "training seed 5 started\n"
     ]
    },
    {
     "name": "stderr",
     "output_type": "stream",
     "text": [
      "Training: 100%|██████████| 50/50 [00:03<00:00, 14.85epochs/s]\n"
     ]
    },
    {
     "name": "stdout",
     "output_type": "stream",
     "text": [
      "training seed 6 started\n"
     ]
    },
    {
     "name": "stderr",
     "output_type": "stream",
     "text": [
      "Training: 100%|██████████| 50/50 [00:03<00:00, 14.43epochs/s]\n"
     ]
    },
    {
     "name": "stdout",
     "output_type": "stream",
     "text": [
      "training seed 7 started\n"
     ]
    },
    {
     "name": "stderr",
     "output_type": "stream",
     "text": [
      "Training: 100%|██████████| 50/50 [00:03<00:00, 14.32epochs/s]\n"
     ]
    },
    {
     "name": "stdout",
     "output_type": "stream",
     "text": [
      "training seed 8 started\n"
     ]
    },
    {
     "name": "stderr",
     "output_type": "stream",
     "text": [
      "Training: 100%|██████████| 50/50 [00:03<00:00, 14.02epochs/s]\n"
     ]
    },
    {
     "name": "stdout",
     "output_type": "stream",
     "text": [
      "training seed 9 started\n"
     ]
    },
    {
     "name": "stderr",
     "output_type": "stream",
     "text": [
      "Training: 100%|██████████| 50/50 [00:03<00:00, 14.40epochs/s]\n"
     ]
    },
    {
     "name": "stdout",
     "output_type": "stream",
     "text": [
      "training seed 10 started\n"
     ]
    },
    {
     "name": "stderr",
     "output_type": "stream",
     "text": [
      "Training: 100%|██████████| 50/50 [00:03<00:00, 14.60epochs/s]\n"
     ]
    },
    {
     "name": "stdout",
     "output_type": "stream",
     "text": [
      "training seed 11 started\n"
     ]
    },
    {
     "name": "stderr",
     "output_type": "stream",
     "text": [
      "Training: 100%|██████████| 50/50 [00:03<00:00, 14.35epochs/s]\n"
     ]
    },
    {
     "name": "stdout",
     "output_type": "stream",
     "text": [
      "training seed 12 started\n"
     ]
    },
    {
     "name": "stderr",
     "output_type": "stream",
     "text": [
      "Training: 100%|██████████| 50/50 [00:03<00:00, 14.68epochs/s]\n"
     ]
    },
    {
     "name": "stdout",
     "output_type": "stream",
     "text": [
      "training seed 13 started\n"
     ]
    },
    {
     "name": "stderr",
     "output_type": "stream",
     "text": [
      "Training: 100%|██████████| 50/50 [00:03<00:00, 14.25epochs/s]\n"
     ]
    },
    {
     "name": "stdout",
     "output_type": "stream",
     "text": [
      "training seed 14 started\n"
     ]
    },
    {
     "name": "stderr",
     "output_type": "stream",
     "text": [
      "Training: 100%|██████████| 50/50 [00:03<00:00, 14.35epochs/s]\n"
     ]
    },
    {
     "name": "stdout",
     "output_type": "stream",
     "text": [
      "training seed 15 started\n"
     ]
    },
    {
     "name": "stderr",
     "output_type": "stream",
     "text": [
      "Training: 100%|██████████| 50/50 [00:03<00:00, 14.41epochs/s]\n"
     ]
    },
    {
     "name": "stdout",
     "output_type": "stream",
     "text": [
      "training seed 16 started\n"
     ]
    },
    {
     "name": "stderr",
     "output_type": "stream",
     "text": [
      "Training: 100%|██████████| 50/50 [00:03<00:00, 14.43epochs/s]\n"
     ]
    },
    {
     "name": "stdout",
     "output_type": "stream",
     "text": [
      "training seed 17 started\n"
     ]
    },
    {
     "name": "stderr",
     "output_type": "stream",
     "text": [
      "Training: 100%|██████████| 50/50 [00:03<00:00, 14.41epochs/s]\n"
     ]
    },
    {
     "name": "stdout",
     "output_type": "stream",
     "text": [
      "training seed 18 started\n"
     ]
    },
    {
     "name": "stderr",
     "output_type": "stream",
     "text": [
      "Training: 100%|██████████| 50/50 [00:03<00:00, 14.62epochs/s]\n"
     ]
    },
    {
     "name": "stdout",
     "output_type": "stream",
     "text": [
      "training seed 19 started\n"
     ]
    },
    {
     "name": "stderr",
     "output_type": "stream",
     "text": [
      "Training: 100%|██████████| 50/50 [00:03<00:00, 13.92epochs/s]\n"
     ]
    },
    {
     "name": "stdout",
     "output_type": "stream",
     "text": [
      "Training finished for all seeds.\n",
      "training seed 0 started\n"
     ]
    },
    {
     "name": "stderr",
     "output_type": "stream",
     "text": [
      "Training: 100%|██████████| 50/50 [00:03<00:00, 14.58epochs/s]\n"
     ]
    },
    {
     "name": "stdout",
     "output_type": "stream",
     "text": [
      "training seed 1 started\n"
     ]
    },
    {
     "name": "stderr",
     "output_type": "stream",
     "text": [
      "Training: 100%|██████████| 50/50 [00:03<00:00, 14.97epochs/s]\n"
     ]
    },
    {
     "name": "stdout",
     "output_type": "stream",
     "text": [
      "training seed 2 started\n"
     ]
    },
    {
     "name": "stderr",
     "output_type": "stream",
     "text": [
      "Training: 100%|██████████| 50/50 [00:03<00:00, 14.10epochs/s]\n"
     ]
    },
    {
     "name": "stdout",
     "output_type": "stream",
     "text": [
      "training seed 3 started\n"
     ]
    },
    {
     "name": "stderr",
     "output_type": "stream",
     "text": [
      "Training: 100%|██████████| 50/50 [00:03<00:00, 14.31epochs/s]\n"
     ]
    },
    {
     "name": "stdout",
     "output_type": "stream",
     "text": [
      "training seed 4 started\n"
     ]
    },
    {
     "name": "stderr",
     "output_type": "stream",
     "text": [
      "Training: 100%|██████████| 50/50 [00:03<00:00, 14.61epochs/s]\n"
     ]
    },
    {
     "name": "stdout",
     "output_type": "stream",
     "text": [
      "training seed 5 started\n"
     ]
    },
    {
     "name": "stderr",
     "output_type": "stream",
     "text": [
      "Training: 100%|██████████| 50/50 [00:03<00:00, 14.66epochs/s]\n"
     ]
    },
    {
     "name": "stdout",
     "output_type": "stream",
     "text": [
      "training seed 6 started\n"
     ]
    },
    {
     "name": "stderr",
     "output_type": "stream",
     "text": [
      "Training: 100%|██████████| 50/50 [00:03<00:00, 14.55epochs/s]\n"
     ]
    },
    {
     "name": "stdout",
     "output_type": "stream",
     "text": [
      "training seed 7 started\n"
     ]
    },
    {
     "name": "stderr",
     "output_type": "stream",
     "text": [
      "Training: 100%|██████████| 50/50 [00:03<00:00, 14.74epochs/s]\n"
     ]
    },
    {
     "name": "stdout",
     "output_type": "stream",
     "text": [
      "training seed 8 started\n"
     ]
    },
    {
     "name": "stderr",
     "output_type": "stream",
     "text": [
      "Training: 100%|██████████| 50/50 [00:03<00:00, 14.23epochs/s]\n"
     ]
    },
    {
     "name": "stdout",
     "output_type": "stream",
     "text": [
      "training seed 9 started\n"
     ]
    },
    {
     "name": "stderr",
     "output_type": "stream",
     "text": [
      "Training: 100%|██████████| 50/50 [00:03<00:00, 14.18epochs/s]\n"
     ]
    },
    {
     "name": "stdout",
     "output_type": "stream",
     "text": [
      "training seed 10 started\n"
     ]
    },
    {
     "name": "stderr",
     "output_type": "stream",
     "text": [
      "Training: 100%|██████████| 50/50 [00:03<00:00, 14.16epochs/s]\n"
     ]
    },
    {
     "name": "stdout",
     "output_type": "stream",
     "text": [
      "training seed 11 started\n"
     ]
    },
    {
     "name": "stderr",
     "output_type": "stream",
     "text": [
      "Training: 100%|██████████| 50/50 [00:03<00:00, 14.47epochs/s]\n"
     ]
    },
    {
     "name": "stdout",
     "output_type": "stream",
     "text": [
      "training seed 12 started\n"
     ]
    },
    {
     "name": "stderr",
     "output_type": "stream",
     "text": [
      "Training: 100%|██████████| 50/50 [00:03<00:00, 14.52epochs/s]\n"
     ]
    },
    {
     "name": "stdout",
     "output_type": "stream",
     "text": [
      "training seed 13 started\n"
     ]
    },
    {
     "name": "stderr",
     "output_type": "stream",
     "text": [
      "Training: 100%|██████████| 50/50 [00:03<00:00, 14.72epochs/s]\n"
     ]
    },
    {
     "name": "stdout",
     "output_type": "stream",
     "text": [
      "training seed 14 started\n"
     ]
    },
    {
     "name": "stderr",
     "output_type": "stream",
     "text": [
      "Training: 100%|██████████| 50/50 [00:03<00:00, 14.66epochs/s]\n"
     ]
    },
    {
     "name": "stdout",
     "output_type": "stream",
     "text": [
      "training seed 15 started\n"
     ]
    },
    {
     "name": "stderr",
     "output_type": "stream",
     "text": [
      "Training: 100%|██████████| 50/50 [00:03<00:00, 15.08epochs/s]\n"
     ]
    },
    {
     "name": "stdout",
     "output_type": "stream",
     "text": [
      "training seed 16 started\n"
     ]
    },
    {
     "name": "stderr",
     "output_type": "stream",
     "text": [
      "Training: 100%|██████████| 50/50 [00:03<00:00, 14.72epochs/s]\n"
     ]
    },
    {
     "name": "stdout",
     "output_type": "stream",
     "text": [
      "training seed 17 started\n"
     ]
    },
    {
     "name": "stderr",
     "output_type": "stream",
     "text": [
      "Training: 100%|██████████| 50/50 [00:03<00:00, 14.90epochs/s]\n"
     ]
    },
    {
     "name": "stdout",
     "output_type": "stream",
     "text": [
      "training seed 18 started\n"
     ]
    },
    {
     "name": "stderr",
     "output_type": "stream",
     "text": [
      "Training: 100%|██████████| 50/50 [00:03<00:00, 14.88epochs/s]\n"
     ]
    },
    {
     "name": "stdout",
     "output_type": "stream",
     "text": [
      "training seed 19 started\n"
     ]
    },
    {
     "name": "stderr",
     "output_type": "stream",
     "text": [
      "Training: 100%|██████████| 50/50 [00:03<00:00, 14.84epochs/s]\n"
     ]
    },
    {
     "name": "stdout",
     "output_type": "stream",
     "text": [
      "Training finished for all seeds.\n",
      "training seed 0 started\n"
     ]
    },
    {
     "name": "stderr",
     "output_type": "stream",
     "text": [
      "Training: 100%|██████████| 50/50 [00:03<00:00, 15.26epochs/s]\n"
     ]
    },
    {
     "name": "stdout",
     "output_type": "stream",
     "text": [
      "training seed 1 started\n"
     ]
    },
    {
     "name": "stderr",
     "output_type": "stream",
     "text": [
      "Training: 100%|██████████| 50/50 [00:03<00:00, 15.24epochs/s]\n"
     ]
    },
    {
     "name": "stdout",
     "output_type": "stream",
     "text": [
      "training seed 2 started\n"
     ]
    },
    {
     "name": "stderr",
     "output_type": "stream",
     "text": [
      "Training: 100%|██████████| 50/50 [00:03<00:00, 15.05epochs/s]\n"
     ]
    },
    {
     "name": "stdout",
     "output_type": "stream",
     "text": [
      "training seed 3 started\n"
     ]
    },
    {
     "name": "stderr",
     "output_type": "stream",
     "text": [
      "Training: 100%|██████████| 50/50 [00:03<00:00, 15.03epochs/s]\n"
     ]
    },
    {
     "name": "stdout",
     "output_type": "stream",
     "text": [
      "training seed 4 started\n"
     ]
    },
    {
     "name": "stderr",
     "output_type": "stream",
     "text": [
      "Training: 100%|██████████| 50/50 [00:03<00:00, 15.17epochs/s]\n"
     ]
    },
    {
     "name": "stdout",
     "output_type": "stream",
     "text": [
      "training seed 5 started\n"
     ]
    },
    {
     "name": "stderr",
     "output_type": "stream",
     "text": [
      "Training: 100%|██████████| 50/50 [00:03<00:00, 14.98epochs/s]\n"
     ]
    },
    {
     "name": "stdout",
     "output_type": "stream",
     "text": [
      "training seed 6 started\n"
     ]
    },
    {
     "name": "stderr",
     "output_type": "stream",
     "text": [
      "Training: 100%|██████████| 50/50 [00:03<00:00, 15.27epochs/s]\n"
     ]
    },
    {
     "name": "stdout",
     "output_type": "stream",
     "text": [
      "training seed 7 started\n"
     ]
    },
    {
     "name": "stderr",
     "output_type": "stream",
     "text": [
      "Training: 100%|██████████| 50/50 [00:03<00:00, 15.34epochs/s]\n"
     ]
    },
    {
     "name": "stdout",
     "output_type": "stream",
     "text": [
      "training seed 8 started\n"
     ]
    },
    {
     "name": "stderr",
     "output_type": "stream",
     "text": [
      "Training: 100%|██████████| 50/50 [00:03<00:00, 15.31epochs/s]\n"
     ]
    },
    {
     "name": "stdout",
     "output_type": "stream",
     "text": [
      "training seed 9 started\n"
     ]
    },
    {
     "name": "stderr",
     "output_type": "stream",
     "text": [
      "Training: 100%|██████████| 50/50 [00:03<00:00, 15.31epochs/s]\n"
     ]
    },
    {
     "name": "stdout",
     "output_type": "stream",
     "text": [
      "training seed 10 started\n"
     ]
    },
    {
     "name": "stderr",
     "output_type": "stream",
     "text": [
      "Training: 100%|██████████| 50/50 [00:03<00:00, 15.28epochs/s]\n"
     ]
    },
    {
     "name": "stdout",
     "output_type": "stream",
     "text": [
      "training seed 11 started\n"
     ]
    },
    {
     "name": "stderr",
     "output_type": "stream",
     "text": [
      "Training: 100%|██████████| 50/50 [00:03<00:00, 15.30epochs/s]\n"
     ]
    },
    {
     "name": "stdout",
     "output_type": "stream",
     "text": [
      "training seed 12 started\n"
     ]
    },
    {
     "name": "stderr",
     "output_type": "stream",
     "text": [
      "Training: 100%|██████████| 50/50 [00:03<00:00, 15.11epochs/s]\n"
     ]
    },
    {
     "name": "stdout",
     "output_type": "stream",
     "text": [
      "training seed 13 started\n"
     ]
    },
    {
     "name": "stderr",
     "output_type": "stream",
     "text": [
      "Training: 100%|██████████| 50/50 [00:03<00:00, 15.58epochs/s]\n"
     ]
    },
    {
     "name": "stdout",
     "output_type": "stream",
     "text": [
      "training seed 14 started\n"
     ]
    },
    {
     "name": "stderr",
     "output_type": "stream",
     "text": [
      "Training: 100%|██████████| 50/50 [00:03<00:00, 14.86epochs/s]\n"
     ]
    },
    {
     "name": "stdout",
     "output_type": "stream",
     "text": [
      "training seed 15 started\n"
     ]
    },
    {
     "name": "stderr",
     "output_type": "stream",
     "text": [
      "Training: 100%|██████████| 50/50 [00:03<00:00, 14.85epochs/s]\n"
     ]
    },
    {
     "name": "stdout",
     "output_type": "stream",
     "text": [
      "training seed 16 started\n"
     ]
    },
    {
     "name": "stderr",
     "output_type": "stream",
     "text": [
      "Training: 100%|██████████| 50/50 [00:03<00:00, 14.95epochs/s]\n"
     ]
    },
    {
     "name": "stdout",
     "output_type": "stream",
     "text": [
      "training seed 17 started\n"
     ]
    },
    {
     "name": "stderr",
     "output_type": "stream",
     "text": [
      "Training: 100%|██████████| 50/50 [00:03<00:00, 14.93epochs/s]\n"
     ]
    },
    {
     "name": "stdout",
     "output_type": "stream",
     "text": [
      "training seed 18 started\n"
     ]
    },
    {
     "name": "stderr",
     "output_type": "stream",
     "text": [
      "Training: 100%|██████████| 50/50 [00:03<00:00, 14.94epochs/s]\n"
     ]
    },
    {
     "name": "stdout",
     "output_type": "stream",
     "text": [
      "training seed 19 started\n"
     ]
    },
    {
     "name": "stderr",
     "output_type": "stream",
     "text": [
      "Training: 100%|██████████| 50/50 [00:03<00:00, 15.03epochs/s]\n"
     ]
    },
    {
     "name": "stdout",
     "output_type": "stream",
     "text": [
      "Training finished for all seeds.\n",
      "training seed 0 started\n"
     ]
    },
    {
     "name": "stderr",
     "output_type": "stream",
     "text": [
      "Training: 100%|██████████| 50/50 [00:03<00:00, 13.81epochs/s]\n"
     ]
    },
    {
     "name": "stdout",
     "output_type": "stream",
     "text": [
      "training seed 1 started\n"
     ]
    },
    {
     "name": "stderr",
     "output_type": "stream",
     "text": [
      "Training: 100%|██████████| 50/50 [00:03<00:00, 14.06epochs/s]\n"
     ]
    },
    {
     "name": "stdout",
     "output_type": "stream",
     "text": [
      "training seed 2 started\n"
     ]
    },
    {
     "name": "stderr",
     "output_type": "stream",
     "text": [
      "Training: 100%|██████████| 50/50 [00:03<00:00, 14.51epochs/s]\n"
     ]
    },
    {
     "name": "stdout",
     "output_type": "stream",
     "text": [
      "training seed 3 started\n"
     ]
    },
    {
     "name": "stderr",
     "output_type": "stream",
     "text": [
      "Training: 100%|██████████| 50/50 [00:03<00:00, 14.63epochs/s]\n"
     ]
    },
    {
     "name": "stdout",
     "output_type": "stream",
     "text": [
      "training seed 4 started\n"
     ]
    },
    {
     "name": "stderr",
     "output_type": "stream",
     "text": [
      "Training: 100%|██████████| 50/50 [00:03<00:00, 14.33epochs/s]\n"
     ]
    },
    {
     "name": "stdout",
     "output_type": "stream",
     "text": [
      "training seed 5 started\n"
     ]
    },
    {
     "name": "stderr",
     "output_type": "stream",
     "text": [
      "Training: 100%|██████████| 50/50 [00:03<00:00, 14.63epochs/s]\n"
     ]
    },
    {
     "name": "stdout",
     "output_type": "stream",
     "text": [
      "training seed 6 started\n"
     ]
    },
    {
     "name": "stderr",
     "output_type": "stream",
     "text": [
      "Training: 100%|██████████| 50/50 [00:03<00:00, 14.40epochs/s]\n"
     ]
    },
    {
     "name": "stdout",
     "output_type": "stream",
     "text": [
      "training seed 7 started\n"
     ]
    },
    {
     "name": "stderr",
     "output_type": "stream",
     "text": [
      "Training: 100%|██████████| 50/50 [00:03<00:00, 14.45epochs/s]\n"
     ]
    },
    {
     "name": "stdout",
     "output_type": "stream",
     "text": [
      "training seed 8 started\n"
     ]
    },
    {
     "name": "stderr",
     "output_type": "stream",
     "text": [
      "Training: 100%|██████████| 50/50 [00:03<00:00, 13.37epochs/s]\n"
     ]
    },
    {
     "name": "stdout",
     "output_type": "stream",
     "text": [
      "training seed 9 started\n"
     ]
    },
    {
     "name": "stderr",
     "output_type": "stream",
     "text": [
      "Training: 100%|██████████| 50/50 [00:03<00:00, 14.53epochs/s]\n"
     ]
    },
    {
     "name": "stdout",
     "output_type": "stream",
     "text": [
      "training seed 10 started\n"
     ]
    },
    {
     "name": "stderr",
     "output_type": "stream",
     "text": [
      "Training: 100%|██████████| 50/50 [00:03<00:00, 14.38epochs/s]\n"
     ]
    },
    {
     "name": "stdout",
     "output_type": "stream",
     "text": [
      "training seed 11 started\n"
     ]
    },
    {
     "name": "stderr",
     "output_type": "stream",
     "text": [
      "Training: 100%|██████████| 50/50 [00:03<00:00, 14.74epochs/s]\n"
     ]
    },
    {
     "name": "stdout",
     "output_type": "stream",
     "text": [
      "training seed 12 started\n"
     ]
    },
    {
     "name": "stderr",
     "output_type": "stream",
     "text": [
      "Training: 100%|██████████| 50/50 [00:03<00:00, 14.92epochs/s]\n"
     ]
    },
    {
     "name": "stdout",
     "output_type": "stream",
     "text": [
      "training seed 13 started\n"
     ]
    },
    {
     "name": "stderr",
     "output_type": "stream",
     "text": [
      "Training: 100%|██████████| 50/50 [00:03<00:00, 14.76epochs/s]\n"
     ]
    },
    {
     "name": "stdout",
     "output_type": "stream",
     "text": [
      "training seed 14 started\n"
     ]
    },
    {
     "name": "stderr",
     "output_type": "stream",
     "text": [
      "Training: 100%|██████████| 50/50 [00:03<00:00, 14.00epochs/s]\n"
     ]
    },
    {
     "name": "stdout",
     "output_type": "stream",
     "text": [
      "training seed 15 started\n"
     ]
    },
    {
     "name": "stderr",
     "output_type": "stream",
     "text": [
      "Training: 100%|██████████| 50/50 [00:03<00:00, 14.21epochs/s]\n"
     ]
    },
    {
     "name": "stdout",
     "output_type": "stream",
     "text": [
      "training seed 16 started\n"
     ]
    },
    {
     "name": "stderr",
     "output_type": "stream",
     "text": [
      "Training: 100%|██████████| 50/50 [00:03<00:00, 14.23epochs/s]\n"
     ]
    },
    {
     "name": "stdout",
     "output_type": "stream",
     "text": [
      "training seed 17 started\n"
     ]
    },
    {
     "name": "stderr",
     "output_type": "stream",
     "text": [
      "Training: 100%|██████████| 50/50 [00:03<00:00, 14.27epochs/s]\n"
     ]
    },
    {
     "name": "stdout",
     "output_type": "stream",
     "text": [
      "training seed 18 started\n"
     ]
    },
    {
     "name": "stderr",
     "output_type": "stream",
     "text": [
      "Training: 100%|██████████| 50/50 [00:03<00:00, 14.52epochs/s]\n"
     ]
    },
    {
     "name": "stdout",
     "output_type": "stream",
     "text": [
      "training seed 19 started\n"
     ]
    },
    {
     "name": "stderr",
     "output_type": "stream",
     "text": [
      "Training: 100%|██████████| 50/50 [00:03<00:00, 14.36epochs/s]"
     ]
    },
    {
     "name": "stdout",
     "output_type": "stream",
     "text": [
      "Training finished for all seeds.\n"
     ]
    },
    {
     "name": "stderr",
     "output_type": "stream",
     "text": [
      "\n"
     ]
    }
   ],
   "source": [
    "def experiment_runner(dataset, ERM_hp, IMP_hp, Safe_hp, EI_hp, BE_hp,seeds):\n",
    "    \n",
    "    _, _, ERM = log_model_runner(dataset, ERM_hp, seeds, mode='baseline')\n",
    "    _, _, STWF = log_model_runner(dataset, IMP_hp, seeds, mode='new')\n",
    "    _, _, EI = log_model_runner(dataset, EI_hp, seeds, mode='baseline')\n",
    "    _, _, SAFE = log_model_runner(dataset, Safe_hp, seeds, mode='baseline')\n",
    "    _, _, BE = log_model_runner(dataset, BE_hp, seeds, mode='baseline')\n",
    "    \n",
    "    return ERM, STWF, EI, SAFE, BE\n",
    "\n",
    "\n",
    "Safe_hp = {}\n",
    "Safe_hp['learning_rate'] = 0.01\n",
    "Safe_hp['lambda_'] = 0.1\n",
    "Safe_hp['n_epochs'] = 50\n",
    "Safe_hp['batch_size'] = 512\n",
    "Safe_hp['metric'] = 'SAFE'\n",
    "Safe_hp['delta_effort'] = 0.1\n",
    "\n",
    "EI_hp = {}\n",
    "EI_hp['learning_rate'] = 0.01\n",
    "EI_hp['lambda_'] = 0.1\n",
    "EI_hp['n_epochs'] = 50\n",
    "EI_hp['batch_size'] = 512\n",
    "EI_hp['metric'] = 'EI'\n",
    "EI_hp['delta_effort'] = 0.1\n",
    "\n",
    "BE_hp = {}\n",
    "BE_hp['learning_rate'] = 0.01\n",
    "BE_hp['lambda_'] = 0.1\n",
    "BE_hp['n_epochs'] = 50\n",
    "BE_hp['batch_size'] = 512\n",
    "BE_hp['metric'] = 'BE'\n",
    "BE_hp['delta_effort'] = 0.1\n",
    "\n",
    "ERM_hp = {}\n",
    "ERM_hp['learning_rate'] = 0.01\n",
    "ERM_hp['lambda_'] = 0\n",
    "ERM_hp['n_epochs'] = 50\n",
    "ERM_hp['batch_size'] = 512\n",
    "ERM_hp['metric'] = 'ERM'\n",
    "ERM_hp['delta_effort'] = 0.1\n",
    "\n",
    "IMP_hp = {}\n",
    "IMP_hp['learning_rate'] = 0.01\n",
    "IMP_hp['lambda2'] = 0.4\n",
    "IMP_hp['lambda3'] = 0.8\n",
    "IMP_hp['n_epochs'] = 50\n",
    "IMP_hp['batch_size'] = 512\n",
    "IMP_hp['metric'] = 'IMP'\n",
    "IMP_hp['delta_effort'] = 0.1\n",
    "IMP_hp['add_safe'] = True\n",
    "\n",
    "ERM, STWF, EI, SAFE, BE = experiment_runner(data, ERM_hp, IMP_hp, Safe_hp, EI_hp, BE_hp, range(0,20,1))"
   ]
  },
  {
   "cell_type": "code",
   "execution_count": 7,
   "id": "08501841",
   "metadata": {},
   "outputs": [
    {
     "name": "stdout",
     "output_type": "stream",
     "text": [
      "model      accuracy_mean    accuracy_var    swf_mean     swf_var    safety_mean    safety_var    aw_all_mean    aw_all_var     ei_mean      ei_var     be_mean      be_var     dp_mean      dp_var    eo_mean      eo_var    eodd_mean    eodd_var\n",
      "-------  ---------------  --------------  ----------  ----------  -------------  ------------  -------------  ------------  ----------  ----------  ----------  ----------  ----------  ----------  ---------  ----------  -----------  ----------\n",
      "ERM             0.714163      0.00283315   0.0948032  0.00289363    -0.0491101    0.000707135      -0.226333   6.46728e-07  0.00765688  0.00447916  0.006203    0.00405924  0.00760421  0.00495942   0.476004  0.00674159     0.476004  0.00674159\n",
      "STWF            0.7472        0.082879     0.3322     0.0779297     -0.00373652   0.000855534      -0.145463   4.42242e-05  0.0127155   0.00371076  0.342389    0.0785704   0.347376    0.0797066    0.032051  0.00759826     0.586343  0.134543\n",
      "SAFE            0.711325      0.00206776   0.072181   0.00409672    -0.0405442    0.000958311      -0.224909   9.47614e-07  0.0111039   0.00525964  0.00251659  0.00144563  0.0131628   0.00546424   0.438569  0.0101671      0.438569  0.0101671\n",
      "EI              0.711675      0.0031296    0.0906186  0.00292613    -0.0472283    0.000740113      -0.225906   6.66059e-07  0.00872316  0.00510812  0.00414961  0.00331903  0.00861047  0.00503846   0.46807   0.00831466     0.46807   0.00831466\n",
      "BE              0.712313      0.00243269   0.0776881  0.00528239    -0.0427687    0.00121908       -0.225296   1.01005e-06  0.00986037  0.00590913  0.00196371  0.00186074  0.0113811   0.00540813   0.448931  0.0111979      0.448931  0.0111979\n"
     ]
    }
   ],
   "source": [
    "result = []\n",
    "models = [\"ERM\", \"STWF\",  \"SAFE\", \"EI\", \"BE\"]\n",
    "sol = [ERM, STWF, EI, SAFE, BE]\n",
    "for i in range(len(models)):\n",
    "    c = []\n",
    "    c.append(models[i])\n",
    "    res = sol[i]\n",
    "    c.append(res['accuracy_mean'])\n",
    "    c.append(res['accuracy_var'])\n",
    "    c.append(res['swf_mean'])\n",
    "    c.append(res['swf_var']) \n",
    "    c.append(res['safety_mean'])\n",
    "    c.append(res['safety_var']) \n",
    "    c.append(res['aw_all_mean'])\n",
    "    c.append(res['aw_all_var'])\n",
    "    c.append(res['ei_mean'])\n",
    "    c.append(res['ei_var'])\n",
    "    c.append(res['be_mean'])\n",
    "    c.append(res['be_var'])\n",
    "    c.append(res['dp_mean'])\n",
    "    c.append(res['dp_var'])\n",
    "    c.append(res['eo_mean'])\n",
    "    c.append(res['eo_var'])\n",
    "    c.append(res['eodd_mean'])\n",
    "    c.append(res['eodd_var'])\n",
    "    result.append(c)\n",
    "\n",
    "print(tabulate(result, headers=[\"model\",\"accuracy_mean\",\"accuracy_var\",\"swf_mean\",\"swf_var\",\"safety_mean\",\"safety_var\",\"aw_all_mean\",\"aw_all_var\",\n",
    "                                \"ei_mean\",\"ei_var\",\"be_mean\",\"be_var\", \"dp_mean\", \"dp_var\",\"eo_mean\",\"eo_var\",\"eodd_mean\",\"eodd_var\"]))"
   ]
  },
  {
   "cell_type": "code",
   "execution_count": 8,
   "id": "43ce14ca",
   "metadata": {},
   "outputs": [],
   "source": [
    "# process the results into dataframe\n",
    "dict_res = {}\n",
    "headers=[\"model\",\"accuracy_mean\",\"accuracy_var\",\"swf_mean\",\"swf_var\",\"safety_mean\",\"safety_var\",\"aw_all_mean\",\"aw_all_var\",\n",
    "                                \"ei_mean\",\"ei_var\",\"be_mean\",\"be_var\", \"dp_mean\", \"dp_var\",\"eo_mean\",\"eo_var\",\"eodd_mean\",\"eodd_var\"]\n",
    "for item in result:\n",
    "    i = 1\n",
    "    dict_res[item[0]] = {}\n",
    "    for head in headers[1:]:\n",
    "        dict_res[item[0]][head] = item[i]\n",
    "        i += 1\n",
    "\n",
    "# save the results\n",
    "with open('saved_texts/comparison_quadratic.txt', 'w') as file:\n",
    "    for row in result:\n",
    "        # Convert each item in the list to a string and join with a space (or any other delimiter)\n",
    "        file.write(' '.join(map(str, row)) + '\\n')"
   ]
  },
  {
   "cell_type": "markdown",
   "id": "8b9eafcf",
   "metadata": {},
   "source": [
    "Plot the relationship between welfares"
   ]
  },
  {
   "cell_type": "code",
   "execution_count": 158,
   "id": "c0c633e4",
   "metadata": {},
   "outputs": [],
   "source": [
    "def plot_welfare_comparison(dict_res, ebar=False):\n",
    "    welfare =  {'name':models,'DW':[],'DW_var':[], 'AW':[],'AW_var':[], 'SWF':[],'SWF_var':[],'TOTAL':[],'TOTAL_var':[]}\n",
    "    plt.figure(figsize = (4,3))\n",
    "    plt.xlabel('model')\n",
    "    plt.ylabel('welfare')\n",
    "    # Setting the positions and width for the bars\n",
    "    barWidth = 0.18\n",
    "    r1 = np.arange(len(models))  # positions for the first set of bars\n",
    "    r2 = [x + barWidth for x in r1]  # positions for the second set of bars\n",
    "    r3 = [x + barWidth for x in r2] # positions for the third set of bars\n",
    "    r4 = [x + barWidth for x in r3]\n",
    "\n",
    "    for name in models:\n",
    "        welfare['DW'].append(dict_res[name]['accuracy_mean'])\n",
    "        welfare['DW_var'].append(dict_res[name]['accuracy_var'])\n",
    "        welfare['SWF'].append(dict_res[name]['swf_mean'])\n",
    "        welfare['SWF_var'].append(dict_res[name]['swf_var'])\n",
    "        welfare['AW'].append(dict_res[name]['aw_all_mean'])\n",
    "        welfare['AW_var'].append(dict_res[name]['aw_all_var'])\n",
    "        welfare['TOTAL'].append(dict_res[name]['aw_all_mean'] + dict_res[name]['accuracy_mean'] + dict_res[name]['swf_mean'])\n",
    "        welfare['TOTAL_var'].append(dict_res[name]['aw_all_var'] + dict_res[name]['accuracy_var'] + dict_res[name]['swf_var'])\n",
    "\n",
    "    if not ebar:\n",
    "        plt.bar(r1, welfare['DW'], width=barWidth, label = 'DW',color = 'blue')\n",
    "        plt.bar(r2, welfare['SWF'], width=barWidth,label = 'SWF',color = 'orange')\n",
    "        plt.bar(r3, welfare['AW'], width=barWidth,label = 'AW', color = 'green')\n",
    "        plt.bar(r4, welfare['TOTAL'], width=barWidth,label = 'TOTAL', color = 'red')\n",
    "\n",
    "    else:\n",
    "        plt.bar(r1, welfare['DW'], yerr = welfare['DW_var'],width=barWidth,label = 'DW',color = 'blue')\n",
    "        plt.bar(r2, welfare['SWF'], yerr = welfare['SWF_var'],width=barWidth,label = 'SWF',color = 'orange')\n",
    "        plt.bar(r3, welfare['AW'], yerr = welfare['AW_var'],width=barWidth,label = 'AW',color = 'green')\n",
    "        plt.bar(r4, welfare['TOTAL'], yerr = welfare['TOTAL_var'], width=barWidth,label = 'TOTAL', color = 'red')\n",
    "    \n",
    "    plt.xticks([r + barWidth for r in range(len(models))], models)\n",
    "\n",
    "    \n",
    "    plt.legend(handlelength = 0.5)\n",
    "    plt.tight_layout()\n",
    "    if not ebar:\n",
    "        plt.savefig('saved_plots/quad_welfare_comp.pdf')\n",
    "    else:\n",
    "        plt.savefig('saved_plots/ebar_quad_welfare_comp.pdf')\n",
    "    "
   ]
  },
  {
   "cell_type": "code",
   "execution_count": 159,
   "id": "1307efe8",
   "metadata": {},
   "outputs": [
    {
     "data": {
      "image/png": "[encoded data removed]",
      "text/plain": [
       "<Figure size 400x300 with 1 Axes>"
      ]
     },
     "metadata": {},
     "output_type": "display_data"
    }
   ],
   "source": [
    "plot_welfare_comparison(dict_res,ebar=True)"
   ]
  },
  {
   "cell_type": "markdown",
   "id": "d47a44bb",
   "metadata": {},
   "source": [
    "Plot the relationship between fairness"
   ]
  },
  {
   "cell_type": "code",
   "execution_count": 16,
   "id": "a150c64b",
   "metadata": {},
   "outputs": [],
   "source": [
    "def plot_long_fairness_comparison(dict_res, ebar=False):\n",
    "    welfare =  {'name':models,'EI':[],'EI_var':[], 'BE':[],'BE_var':[], 'DP':[],'DP_var':[], 'EO':[], 'EO_var':[], 'EODD':[], 'EODD_var':[]}\n",
    "    plt.figure(figsize = (4,3))\n",
    "    plt.xlabel('model')\n",
    "    plt.ylabel('unfairness')\n",
    "    # Setting the positions and width for the bars\n",
    "    barWidth = 0.16\n",
    "    r1 = np.arange(len(models))  # positions for the first set of bars\n",
    "    r2 = [x + barWidth for x in r1]  # positions for the second set of bars\n",
    "\n",
    "    for name in models:\n",
    "        welfare['EI'].append(dict_res[name]['ei_mean'])\n",
    "        welfare['EI_var'].append(dict_res[name]['ei_var'])\n",
    "        welfare['BE'].append(dict_res[name]['be_mean'])\n",
    "        welfare['BE_var'].append(dict_res[name]['be_var'])\n",
    "        welfare['DP'].append(dict_res[name]['dp_mean'])\n",
    "        welfare['DP_var'].append(dict_res[name]['dp_var'])\n",
    "        welfare['EO'].append(dict_res[name]['eo_mean'])\n",
    "        welfare['EO_var'].append(dict_res[name]['eo_var'])\n",
    "        welfare['EODD'].append(dict_res[name]['eodd_mean'])\n",
    "        welfare['EODD_var'].append(dict_res[name]['eodd_var'])\n",
    "\n",
    "    if not ebar:\n",
    "        plt.bar(r1, welfare['EI'], width=barWidth, label = 'EI fairness',color = 'blue')\n",
    "        plt.bar(r2, welfare['BE'], width=barWidth,label = 'BE fairness',color = 'red')\n",
    "\n",
    "    else:\n",
    "        plt.bar(r1, welfare['EI'], yerr = welfare['EI_var'], width=barWidth, label = 'EI fairness',color = 'blue')\n",
    "        plt.bar(r2, welfare['BE'],  yerr = welfare['BE_var'], width=barWidth,label = 'BE fairness',color = 'red')\n",
    "    \n",
    "    plt.xticks([r + barWidth for r in range(len(models))], models)\n",
    "\n",
    "    \n",
    "    plt.legend(handlelength = 0.5)\n",
    "    plt.tight_layout()\n",
    "    if not ebar:\n",
    "        plt.savefig('saved_plots/quadratic_long_fairness_comp.pdf')\n",
    "    else:\n",
    "        plt.savefig('saved_plots/ebar_quadratic_long_fairness_comp.pdf')\n",
    "\n",
    "\n",
    "\n",
    "\n",
    "def plot_instant_fairness_comparison(dict_res, ebar=False):\n",
    "    welfare =  {'name':models,'EI':[],'EI_var':[], 'BE':[],'BE_var':[], 'DP':[],'DP_var':[], 'EO':[], 'EO_var':[], 'EODD':[], 'EODD_var':[]}\n",
    "    plt.figure(figsize = (4,3))\n",
    "    plt.xlabel('model')\n",
    "    plt.ylabel('unfairness')\n",
    "    # Setting the positions and width for the bars\n",
    "    barWidth = 0.16\n",
    "    r1 = np.arange(len(models))  # positions for the first set of bars\n",
    "    r2 = [x + barWidth for x in r1]  # positions for the second set of bars\n",
    "    r3 = [x + barWidth for x in r2] # positions for the third set of bars\n",
    "\n",
    "    for name in models:\n",
    "        welfare['EI'].append(dict_res[name]['ei_mean'])\n",
    "        welfare['EI_var'].append(dict_res[name]['ei_var'])\n",
    "        welfare['BE'].append(dict_res[name]['be_mean'])\n",
    "        welfare['BE_var'].append(dict_res[name]['be_var'])\n",
    "        welfare['DP'].append(dict_res[name]['dp_mean'])\n",
    "        welfare['DP_var'].append(dict_res[name]['dp_var'])\n",
    "        welfare['EO'].append(dict_res[name]['eo_mean'])\n",
    "        welfare['EO_var'].append(dict_res[name]['eo_var'])\n",
    "        welfare['EODD'].append(dict_res[name]['eodd_mean'])\n",
    "        welfare['EODD_var'].append(dict_res[name]['eodd_var'])\n",
    "\n",
    "    if not ebar:\n",
    "        plt.bar(r1, welfare['DP'], width=barWidth, label = 'DP fairness',color = 'blue')\n",
    "        plt.bar(r2, welfare['EO'], width=barWidth,label = 'EO fairness',color = 'red')\n",
    "\n",
    "    else:\n",
    "        plt.bar(r1, welfare['DP'], yerr = welfare['DP_var'],width=barWidth,label = 'DP fairness', color = 'red')\n",
    "        plt.bar(r2, welfare['EO'],  yerr = welfare['EO_var'],width=barWidth,label = 'EO fairness',color = 'blue')\n",
    "    \n",
    "    plt.xticks([r + barWidth for r in range(len(models))], models)\n",
    "\n",
    "    \n",
    "    plt.legend(handlelength = 0.5)\n",
    "    plt.tight_layout()\n",
    "    if not ebar:\n",
    "        plt.savefig('saved_plots/quadratic_instant_fairness_comp.pdf')\n",
    "    else:\n",
    "        plt.savefig('saved_plots/ebar_quadratic_instant_fairness_comp.pdf')"
   ]
  },
  {
   "cell_type": "code",
   "execution_count": 13,
   "id": "a0677e1a",
   "metadata": {},
   "outputs": [
    {
     "data": {
      "image/png": "[encoded data removed]",
      "text/plain": [
       "<Figure size 400x300 with 1 Axes>"
      ]
     },
     "metadata": {},
     "output_type": "display_data"
    }
   ],
   "source": [
    "plot_instant_fairness_comparison(dict_res,ebar=True)"
   ]
  },
  {
   "cell_type": "code",
   "execution_count": 17,
   "id": "6ec0b01f",
   "metadata": {},
   "outputs": [
    {
     "data": {
      "image/png": "[encoded data removed]",
      "text/plain": [
       "<Figure size 400x300 with 1 Axes>"
      ]
     },
     "metadata": {},
     "output_type": "display_data"
    }
   ],
   "source": [
    "plot_long_fairness_comparison(dict_res,ebar=True)"
   ]
  }
 ],
 "metadata": {
  "kernelspec": {
   "display_name": "Python 3 (ipykernel)",
   "language": "python",
   "name": "python3"
  },
  "language_info": {
   "codemirror_mode": {
    "name": "ipython",
    "version": 3
   },
   "file_extension": ".py",
   "mimetype": "text/x-python",
   "name": "python",
   "nbconvert_exporter": "python",
   "pygments_lexer": "ipython3",
   "version": "3.9.13"
  }
 },
 "nbformat": 4,
 "nbformat_minor": 5
}
